{
 "cells": [
  {
   "cell_type": "markdown",
   "metadata": {},
   "source": [
    "# Pseudorapidity"
   ]
  },
  {
   "cell_type": "markdown",
   "metadata": {},
   "source": [
    "In this exercise, you will study how pseudorapidities of muons that are detected in the CMS detector affect to the invariant mass distribution.\n",
    "\n",
    "Pseudorapidity $\\eta$ describes an angle $\\theta$ of which the detected particle has differed from the particle beam (z-axis in Figure 1). As a function of $\\theta$ (in radians), pseudorapidity is defined as\n",
    "\n",
    "$$\n",
    "\\eta = -\\ln(\\tan(\\frac{\\theta}{2})).\n",
    "$$\n",
    "\n",
    "From Figure 1 we can see that a small pseudorapidity, in practice, means that the particle has differed a lot from the particle beam. Similarly, greater pseudorapidity means that the particle has continued almost among the beam line after the collision. In other words, when $\\theta\\longrightarrow0$, $\\eta\\longrightarrow\\infty$ and when $\\theta\\longrightarrow90^\\circ$, $\\eta\\longrightarrow0$."
   ]
  },
  {
   "cell_type": "markdown",
   "metadata": {},
   "source": [
    "<figure>\n",
    "    <img src=\"../images/CMSangles.png\" alt=\"image missing\" style=\"height: 300px\" />\n",
    "    <figcaption>Figure 1: Quantities $\\theta$, $\\eta$ and $\\phi$ in the CMS detector.</figcaption>\n",
    "</figure>"
   ]
  },
  {
   "cell_type": "markdown",
   "metadata": {},
   "source": [
    "Figure 2 shows a situation where two particle beams collide. Two muons with different pseudorapidities are created in this collision (represented as dashed lines). The muon with smaller pseudorapidity hits the barrel part of the detector whereas the muon with greater pseudorapidity hits the endcap of the detector. "
   ]
  },
  {
   "cell_type": "markdown",
   "metadata": {},
   "source": [
    "<figure>\n",
    "    <img src=\"../images/pseudorapidities.png\" alt=\"image missing\" style=\"height: 300px\" />\n",
    "    <figcaption>Figure 2: Two particles with different pseudorapidities in the CMS detector.</figcaption>\n",
    "</figure>"
   ]
  },
  {
   "cell_type": "markdown",
   "metadata": {},
   "source": [
    "Your task is to draw two histograms. One shows such muon pairs that have small pseudorapidities and the other shows muon pairs with large pseudorapidities. We can then compare those histograms to see how pseudorapidity affects the mass distributions."
   ]
  },
  {
   "cell_type": "markdown",
   "metadata": {},
   "source": [
    "## Part 1 - Pseudorapidity as a function of $\\theta$"
   ]
  },
  {
   "cell_type": "markdown",
   "metadata": {},
   "source": [
    "In order to see better how pseudorapidity $\\eta$ and the angle $\\theta$ are related, we can plot $\\eta$ as a function of $\\theta$. Write a function **pseudorapidity(theta)** that takes the **angle theta in degrees** as a parameter and **returns** the **pseudorapidity**. Return your code to Moodle. Then use your function to plot the pseudorapidity for $\\theta \\in \\mathopen[1^{\\circ},179^{\\circ}\\mathclose]$ and choose the correct figure on Moodle exercise \"Pseudorapidity graph\". \n",
    "\n",
    "<br>\n",
    "\n",
    "$\\color{red}{\\text{Write the code below}}$\n",
    "\n",
    "$\\color{red}{\\text{Submit your function definition to exercise \"Pseudorapidity\" on Moodle.}}$\n",
    "\n",
    "$\\color{red}{\\text{Choose the correct pseudorapidity graph in exercise \"Pseudorapidity graph\" on Moodle.}}$"
   ]
  },
  {
   "cell_type": "code",
   "execution_count": null,
   "metadata": {},
   "outputs": [],
   "source": []
  },
  {
   "cell_type": "markdown",
   "metadata": {},
   "source": [
    "## Part 2 - selecting events from data"
   ]
  },
  {
   "cell_type": "markdown",
   "metadata": {},
   "source": [
    "Your task is to divide the dataset 'DoubleMuRun2011A.csv' to events with small pseudorapidity and large pseudorapidity. Use events where muons have smaller pseudorapidity than 0.38 for small pseudorapidities and larger than 1.52 for large pseudorapidities. Save your datasets to variables 'small_etas' and 'large_etas'.\n",
    "\n",
    "Note that $\\eta$ can also be negative so remember to take the absolute value.\n",
    "\n",
    "<br>\n",
    "\n",
    "$\\color{red}{\\text{Write the code below}}$"
   ]
  },
  {
   "cell_type": "code",
   "execution_count": null,
   "metadata": {},
   "outputs": [],
   "source": [
    "dataset = \n",
    "\n",
    "lower_limit =\n",
    "upper_limit = \n",
    "\n",
    "small_etas = \n",
    "large_etas = \n",
    "\n",
    "# Print information of your datasets to see if they are about the same length\n",
    "\n",
    "print('Amount of all events = %d' % len(dataset))\n",
    "print('Amount of the events where the pseudorapidity of the both muons have been large: %d' %len(large_etas))\n",
    "print('Amount of the events where the pseudorapidity of the both muons have been small: %d' %len(small_etas))"
   ]
  },
  {
   "cell_type": "markdown",
   "metadata": {},
   "source": [
    "## Part 3 - Plotting the histograms\n"
   ]
  },
  {
   "cell_type": "markdown",
   "metadata": {},
   "source": [
    "Next, make histograms to compare the datasets containing small pseudorapidities and large pseudorapidities. Just like in previous exercises, we are interested in a single peak. Check your invariant mass range from Moodle exercise **\"Week 4 coding questions\"**.\n",
    "\n",
    "For your range of invariant masses:\n",
    "1. Create distinct invariant mass histograms for both large and small eta datasets. Use 100 bins each.\n",
    "1. Fit Breit-Wigner distribution to both histograms\n",
    "1. Consider how pseudorapidity effects to the mass distribution (consider for example the decay width and lifetime of the particle)\n",
    "1. Answer the questions in Moodle exercise \"Week 4 coding questions\"\n",
    "\n",
    "<br>\n",
    "\n",
    "$\\color{red}{\\text{Write the code below}}$\n",
    "\n",
    "$\\color{red}{\\text{Answer the questions in exercise \"Week 4 coding questions\" on Moodle}}$"
   ]
  },
  {
   "cell_type": "code",
   "execution_count": null,
   "metadata": {},
   "outputs": [],
   "source": []
  }
 ],
 "metadata": {
  "kernelspec": {
   "display_name": "Python 3",
   "language": "python",
   "name": "python3"
  },
  "language_info": {
   "codemirror_mode": {
    "name": "ipython",
    "version": 3
   },
   "file_extension": ".py",
   "mimetype": "text/x-python",
   "name": "python",
   "nbconvert_exporter": "python",
   "pygments_lexer": "ipython3",
   "version": "3.8.2"
  }
 },
 "nbformat": 4,
 "nbformat_minor": 4
}

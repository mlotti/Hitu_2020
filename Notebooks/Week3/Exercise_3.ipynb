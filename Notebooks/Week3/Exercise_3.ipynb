{
 "cells": [
  {
   "cell_type": "markdown",
   "metadata": {},
   "source": [
    "# Fitting a function to histogram"
   ]
  },
  {
   "cell_type": "markdown",
   "metadata": {},
   "source": [
    "In the exercise we will make a Breit-Wigner fit to invariant mass histogram. With the fitted Breit-Wigner function it will be possible to determine the mass and the lifetime of a Z boson.\n",
    "\n",
    "In high-energy physics, a common distribution function used to describe the distribution of invariant masses is the relativistic Breit-Wigner function that writes as:\n",
    "\n",
    "$$\n",
    "f(E) = \\frac{K}{(E^2-M^2)^2 + M^2 \\Gamma^2},\n",
    "$$\n",
    "\n",
    "where $E$ is the energy, $M$ the maximum of the distribution (equals to the mass of the particle that is detected in the resonance), $\\Gamma$ the full width at half maximum (FWHM) or the decay width of the distribution and $K$ a constant that can be expressed as:\n",
    "\n",
    "$$\n",
    "K = \\frac{2\\sqrt{2}M\\Gamma\\sqrt{M^2(M^2+\\Gamma^2)} }{\\pi\\sqrt{M^2+\\sqrt{M^2(M^2+\\Gamma^2)}}}\n",
    "$$\n",
    "\n",
    "The decay width $\\Gamma$ and the lifetime $\\tau$ of the particle detected in the resonance are related in the following way:\n",
    "\n",
    "$$\n",
    "\\Gamma \\equiv \\frac{\\hbar}{\\tau},\n",
    "$$\n",
    "\n",
    "where $\\hbar$ is the reduced Planck's constant.\n",
    "\n",
    "If we also want to include the background events to the fit, we must add additional parameters $a$, $b$ and $A$ to the distribution function. Together with the background event parameters, the distribution function becomes\n",
    "\n",
    "$$\n",
    "f(E) = aE+b+A\\frac{K}{(E^2-M^2)^2 + M^2 \\Gamma^2},\n",
    "$$\n",
    "\n",
    "By using curve_fit method from scipy-module, we can find optimal parameters for Breit-Wigner distribution to obtain best fit for our histogram. Your task is to fit the Breit-Wigner distribution to the invariant mass histogram for invariant mass range of (70 GeV, 110 GeV)."
   ]
  },
  {
   "cell_type": "markdown",
   "metadata": {},
   "source": [
    "## Part 1: Invariant mass histogram and bin centers"
   ]
  },
  {
   "cell_type": "markdown",
   "metadata": {},
   "source": [
    "In this exercise, we will use the same dataset \"DoubleMuRun2011A.csv\" from previous weeks. First, plot a histogram of the invariant masses in the dataset. Limit your plot to invariant mass range from 70 to 110 GeV. Use 100 bins and save the bin heights and locations to variables (see https://matplotlib.org/3.1.3/api/_as_gen/matplotlib.pyplot.hist.html for more information of the return values)."
   ]
  },
  {
   "cell_type": "code",
   "execution_count": null,
   "metadata": {},
   "outputs": [],
   "source": []
  },
  {
   "cell_type": "markdown",
   "metadata": {},
   "source": [
    "In general, when we want to fit a function to a histogram, we want to use the bin centers as our x-axis data values. However, the plt.hist() function returns the locations of the left edges of bins. Therefore, we need a function that converts the locations of bin edges to bin centers to make the fit more accurate.\n",
    "\n",
    "<h3>Function that returns the bin centers</h3><p><br></p><p>Write a python function <b>bin_centers( bins )</b> that takes a list of bin edges as argument and <b>returns the bin centers</b>.<br><p>\n",
    "    \n",
    "Then save the bin centers of your histogram to a variable. Return your code for bin_centers -function to Moodle."
   ]
  },
  {
   "cell_type": "code",
   "execution_count": null,
   "metadata": {},
   "outputs": [],
   "source": []
  },
  {
   "cell_type": "markdown",
   "metadata": {},
   "source": [
    "## Part 2 - Breit-Wigner distribution function"
   ]
  },
  {
   "cell_type": "markdown",
   "metadata": {},
   "source": [
    "Now before we can fit Breit-Wigner distribution to our histogram, we need to actually define the distribution function.\n",
    "\n",
    "Define a function **breitwigner( E, gamma, M, a, b, A )** that **returns the Breit-Wigner distribution function** and also takes into account the **background events**. Return your code to Moodle."
   ]
  },
  {
   "cell_type": "code",
   "execution_count": null,
   "metadata": {
    "scrolled": true
   },
   "outputs": [],
   "source": []
  },
  {
   "cell_type": "markdown",
   "metadata": {},
   "source": [
    "## Part 3 - Fitting Breit-Wigner distribution to histogram"
   ]
  },
  {
   "cell_type": "markdown",
   "metadata": {},
   "source": [
    "Finally, it is time to fit the distribution function to our histogram. Use **curve_fit()**-function from scipy.optimize module and find the optimal parameters for the Breit-Wigner distribution. Note that you need some initial guess to get any reasonable optimized parameters from curve_fit function. For the background parameters, you can use for example the following guesses: $a=-1$, $b=100$ and $A=10000$. You can increase the accuracy of the optimization by iterating the process and using the optimized coefficients from previous iteration as your initial guess.\n",
    "\n",
    "Once you have the optimized parameters, plot the distribution and your histogram to confirm that the fit is good. If the doesn't seem to describe the histogram well, try using different initial guess. Print the parameters and their errors ( np.sqrt(np.diag(covariance)) )."
   ]
  },
  {
   "cell_type": "code",
   "execution_count": null,
   "metadata": {
    "scrolled": true
   },
   "outputs": [],
   "source": []
  },
  {
   "cell_type": "markdown",
   "metadata": {},
   "source": [
    "## Part 4 - Analysing the fit"
   ]
  },
  {
   "cell_type": "markdown",
   "metadata": {},
   "source": [
    "Calculate the lifetime of Z-boson based on the results you obtained in part 3. Return your results from parts 3 and 4 to Moodle."
   ]
  },
  {
   "cell_type": "code",
   "execution_count": null,
   "metadata": {
    "scrolled": true
   },
   "outputs": [],
   "source": []
  }
 ],
 "metadata": {
  "kernelspec": {
   "display_name": "Python 3",
   "language": "python",
   "name": "python3"
  },
  "language_info": {
   "codemirror_mode": {
    "name": "ipython",
    "version": 3
   },
   "file_extension": ".py",
   "mimetype": "text/x-python",
   "name": "python",
   "nbconvert_exporter": "python",
   "pygments_lexer": "ipython3",
   "version": "3.7.5"
  }
 },
 "nbformat": 4,
 "nbformat_minor": 4
}

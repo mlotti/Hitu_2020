{
 "cells": [
  {
   "cell_type": "markdown",
   "metadata": {},
   "source": [
    "# Fitting a function to histogram"
   ]
  },
  {
   "cell_type": "markdown",
   "metadata": {},
   "source": [
    "In the exercise we will make a Breit-Wigner fit to invariant mass histogram. With the fitted Breit-Wigner function it will be possible to determine the mass and the lifetime of a Z boson.\n",
    "\n",
    "In high-energy physics, a common distribution function used to describe the distribution of invariant masses is the relativistic Breit-Wigner function that writes as:\n",
    "\n",
    "$$\n",
    "f(E) = \\frac{K}{(E^2-M^2)^2 + M^2 \\Gamma^2},\n",
    "$$\n",
    "\n",
    "where $E$ is the energy, $M$ the maximum of the distribution (equals to the mass of the particle that is detected in the resonance), $\\Gamma$ the full width at half maximum (FWHM) or the decay width of the distribution and $K$ a constant that can be expressed as:\n",
    "\n",
    "$$\n",
    "K = \\frac{2\\sqrt{2}M\\Gamma\\sqrt{M^2(M^2+\\Gamma^2)} }{\\pi\\sqrt{M^2+\\sqrt{M^2(M^2+\\Gamma^2)}}}\n",
    "$$\n",
    "\n",
    "The decay width $\\Gamma$ and the lifetime $\\tau$ of the particle detected in the resonance are related in the following way:\n",
    "\n",
    "$$\n",
    "\\Gamma \\equiv \\frac{\\hbar}{\\tau},\n",
    "$$\n",
    "\n",
    "where $\\hbar$ is the reduced Planck's constant.\n",
    "\n",
    "If we also want to include the background events to the fit, we must add additional parameters $a$, $b$ and $A$ to the distribution function. Together with the background event parameters, the distribution function becomes\n",
    "\n",
    "$$\n",
    "f(E) = aE+b+A\\frac{K}{(E^2-M^2)^2 + M^2 \\Gamma^2},\n",
    "$$\n",
    "\n",
    "By using curve_fit method from scipy-module, we can find optimal parameters for Breit-Wigner distribution to obtain best fit for our histogram. Your task is to fit the Breit-Wigner distribution to the invariant mass histogram for invariant mass range of (70 GeV, 110 GeV)."
   ]
  },
  {
   "cell_type": "markdown",
   "metadata": {},
   "source": [
    "## Part 1: Invariant mass histogram and bin centers"
   ]
  },
  {
   "cell_type": "markdown",
   "metadata": {},
   "source": [
    "In this exercise, we will use the same dataset \"DoubleMuRun2011A.csv\" from previous weeks. First, plot a histogram of the invariant masses in the dataset. Limit your plot to invariant mass range from 70 to 110 GeV. Use 100 bins and save the bin heights and locations to variables (see https://matplotlib.org/3.1.3/api/_as_gen/matplotlib.pyplot.hist.html for more information of the return values)."
   ]
  },
  {
   "cell_type": "code",
   "execution_count": 74,
   "metadata": {},
   "outputs": [
    {
     "data": {
      "image/png": "[encoded data removed]",
      "text/plain": [
       "<Figure size 432x288 with 1 Axes>"
      ]
     },
     "metadata": {
      "needs_background": "light"
     },
     "output_type": "display_data"
    }
   ],
   "source": [
    "import pandas as pd\n",
    "import numpy as np\n",
    "import matplotlib.pyplot as plt\n",
    "\n",
    "nbins = 100\n",
    "data = pd.read_csv(\"DoubleMuRun2011A.csv\")\n",
    "heights, bins, patches = plt.hist(data.M, bins=nbins, range=(70,110))\n",
    "plt.show()"
   ]
  },
  {
   "cell_type": "markdown",
   "metadata": {},
   "source": [
    "In general, when we want to fit a function to a histogram, we want to use the bin centers as our x-axis data values. However, the plt.hist() function returns the locations of the left edges of bins. Therefore, we need a function that converts the locations of bin edges to bin centers to make the fit more accurate.\n",
    "\n",
    "<h3>Function that returns the bin centers</h3><p><br></p><p>Write a python function <b>bin_centers( bins )</b> that takes a list of bin edges as argument and <b>returns the bin centers</b>.<br><p>\n",
    "    \n",
    "Then save the bin centers of your histogram to a variable. Return your code for bin_centers -function to Moodle."
   ]
  },
  {
   "cell_type": "code",
   "execution_count": 75,
   "metadata": {},
   "outputs": [],
   "source": [
    "# possible solution\n",
    "\n",
    "def bin_centers(bins):\n",
    "    if len(bins) > 1:\n",
    "        return [0.5 * (bins[i] + bins[i+1]) for i in range(len(bins)-1)]\n",
    "    else:\n",
    "        print(\"At least two bins are needed.\")\n",
    "        \n",
    "bins = bin_centers(bins)"
   ]
  },
  {
   "cell_type": "code",
   "execution_count": 78,
   "metadata": {
    "scrolled": true
   },
   "outputs": [
    {
     "name": "stdout",
     "output_type": "stream",
     "text": [
      "[0.5, 1.5, 2.5, 3.5, 4.5]\n",
      "[-8.0, -4.0, 0.0, 4.0, 8.0]\n",
      "[81.001835, 83.001505, 85.00117499999999, 87.000845, 89.00051500000001, 91.000185, 92.999855, 94.999525, 96.999195, 98.998865]\n",
      "[0.5, 2.0, 6.0, 15.0, 36.5]\n"
     ]
    }
   ],
   "source": [
    "# TESTS FOR CODERUNNER\n",
    "\n",
    "# test1, evenly spaced positive values\n",
    "bins_test1 = [0, 1, 2, 3, 4, 5]\n",
    "print(bin_centers(bins_test1))\n",
    "# expected output: [0.5, 1.5, 2.5, 3.5, 4.5]\n",
    "\n",
    "# test2, evenly spaced mixed values\n",
    "bins_test2 = [-10, -6, -2, 2, 6, 10]\n",
    "print(bin_centers(bins_test2))\n",
    "# expected output: [-8.0, -4.0, 0.0, 4.0, 8.0]\n",
    "\n",
    "# test3, real data\n",
    "import numpy as np\n",
    "import pandas as pd\n",
    "data = pd.read_csv('DoubleMuRun2011A.csv')\n",
    "data_filtered = data[(data.M <= 100) & (data.M >= 80)]\n",
    "inv_mass = data_filtered.M\n",
    "histtest, binstest3 = np.histogram(inv_mass,bins=10)\n",
    "print(bin_centers(binstest3))\n",
    "# expected output: [81.001835, 83.001505, 85.00117499999999, 87.000845, 89.00051500000001, 91.000185, 92.999855, 94.999525, 96.999195, 98.998865]\n",
    "\n",
    "# test4, unevenly spaces values (optional test, fails will most likely be here)\n",
    "bins_test5 = [0,1,3,9,21,52]\n",
    "print(bin_centers(bins_test5))\n",
    "# expected output: [0.5, 2.0, 6.0, 15.0, 36.5]\n",
    "\n",
    "# other optional tests: empty list, list with only 1 element (use this if you want to be mean)"
   ]
  },
  {
   "cell_type": "markdown",
   "metadata": {},
   "source": [
    "## Part 2 - Breit-Wigner distribution function"
   ]
  },
  {
   "cell_type": "markdown",
   "metadata": {},
   "source": [
    "Now before we can fit Breit-Wigner distribution to our histogram, we need to actually define the distribution function.\n",
    "\n",
    "Define a function **breitwigner( E, gamma, M, a, b, A )** that **returns the Breit-Wigner distribution function** and also takes into account the **background events**. Return your code to Moodle."
   ]
  },
  {
   "cell_type": "code",
   "execution_count": 76,
   "metadata": {
    "scrolled": true
   },
   "outputs": [],
   "source": [
    "# possible solution\n",
    "\n",
    "def breitwigner(E, gamma, M, a, b, A):\n",
    "    y = np.sqrt(M**2*(M**2+gamma**2))\n",
    "    K = 2*np.sqrt(2)*M*gamma*y/(np.pi*np.sqrt(M**2+y))\n",
    "    return a*E+b+A*(K/((E**2-M**2)**2+M**2*gamma**2))"
   ]
  },
  {
   "cell_type": "code",
   "execution_count": 31,
   "metadata": {},
   "outputs": [
    {
     "name": "stdout",
     "output_type": "stream",
     "text": [
      "0.819 0.410 0.000\n",
      "2.819 1.410 1.000\n",
      "2088.006\n"
     ]
    }
   ],
   "source": [
    "# TESTS FOR CODERUNNER\n",
    "\n",
    "# test1: a=b=0, A=1:\n",
    "print(\"{0:.3f} {1:.3f} {2:.3f}\".format(breitwigner(1,1,1,0,0,1),breitwigner(0,1,1,0,0,1),breitwigner(0,0,1,0,0,1)))\n",
    "# expected output: 0.819 0.410 0.000\n",
    "\n",
    "# test2: a=b=A=1:\n",
    "print(\"{0:.3f} {1:.3f} {2:.3f}\".format(breitwigner(1,1,1,1,1,1),breitwigner(0,1,1,1,1,1),breitwigner(0,0,1,1,1,1)))\n",
    "# expected output: 2.819 1.410 1.000\n",
    "\n",
    "# test3: real fit parameters for \"DoubleMuRun2011A.csv\" between 70-110 GeV and using E=M.\n",
    "print(\"{0:.3f}\".format(breitwigner(90.877, 4.233, 90.877, -2.131, 199.980, 13830.258)))\n",
    "# expected output: 2088.006"
   ]
  },
  {
   "cell_type": "markdown",
   "metadata": {},
   "source": [
    "## Part 3 - Fitting Breit-Wigner distribution to histogram"
   ]
  },
  {
   "cell_type": "markdown",
   "metadata": {},
   "source": [
    "Finally, it is time to fit the distribution function to our histogram. Use **curve_fit()**-function from scipy.optimize module and find the optimal parameters for the Breit-Wigner distribution. Note that you need some initial guess to get any reasonable optimized parameters from curve_fit function. For the background parameters, you can use for example the following guesses: $a=-1$, $b=100$ and $A=10000$. You can increase the accuracy of the optimization by iterating the process and using the optimized coefficients from previous iteration as your initial guess.\n",
    "\n",
    "Once you have the optimized parameters, plot the distribution and your histogram to confirm that the fit is good. If the doesn't seem to describe the histogram well, try using different initial guess. Print the parameters and their errors ( np.sqrt(np.diag(covariance)), where covariance is returned by curve_fit -function )."
   ]
  },
  {
   "cell_type": "code",
   "execution_count": 77,
   "metadata": {
    "scrolled": true
   },
   "outputs": [
    {
     "name": "stdout",
     "output_type": "stream",
     "text": [
      "gamma = 4.233 +/- 0.053\n",
      "M     = 90.877 +/- 0.016\n",
      "a     = -2.131 +/- 0.272\n",
      "b     = 199.980 +/- 24.776\n",
      "A     = 13830.258 +/- 143.999\n"
     ]
    },
    {
     "data": {
      "image/png": "[encoded data removed]",
      "text/plain": [
       "<Figure size 432x288 with 1 Axes>"
      ]
     },
     "metadata": {
      "needs_background": "light"
     },
     "output_type": "display_data"
    }
   ],
   "source": [
    "from scipy.optimize import curve_fit\n",
    "\n",
    "accuracy = 1e-5\n",
    "p0 = [5, 90, -1, 100, 10000]\n",
    "while True: # Loop until desired accuracy\n",
    "    best, covariance = curve_fit(breitwigner, bins, heights, p0=p0)\n",
    "    error = max(abs(p0-best))\n",
    "    if error < accuracy: \n",
    "        break\n",
    "    p0 = best\n",
    "    \n",
    "plt.plot(bins, breitwigner(np.array(bins), *best))\n",
    "plt.hist(data.M, bins=nbins, range=(70,110))\n",
    "errors = np.sqrt(np.diag(covariance))\n",
    "param_strings = [\"gamma\",\"M\",\"a\",\"b\",\"A\"]\n",
    "for i in range(len(best)):\n",
    "    print(\"{2:5} = {0:.3f} +/- {1:.3f}\".format(best[i],errors[i],param_strings[i]))\n",
    "plt.show()"
   ]
  },
  {
   "cell_type": "markdown",
   "metadata": {},
   "source": [
    "## Part 4 - Analysing the fit"
   ]
  },
  {
   "cell_type": "markdown",
   "metadata": {},
   "source": [
    "Calculate the lifetime of Z-boson based on the results you obtained in part 3. Answer the questions on Moodle based on your results from parts 3 and 4."
   ]
  },
  {
   "cell_type": "code",
   "execution_count": 86,
   "metadata": {
    "scrolled": true
   },
   "outputs": [
    {
     "name": "stdout",
     "output_type": "stream",
     "text": [
      "tau = 1.55508E-25 s +/- 1.95864E-27 s\n"
     ]
    }
   ],
   "source": [
    "# lifetime\n",
    "hbar = 6.58212e-25 # GeV*s\n",
    "gamma = best[0]\n",
    "errgamma = errors[0]\n",
    "tau = hbar/gamma\n",
    "error = max(hbar/(gamma-errgamma)-tau,tau-hbar/(gamma+errgamma))\n",
    "\n",
    "print(\"tau = {0:.5E} s +/- {1:.5E} s\".format(tau,error))"
   ]
  },
  {
   "cell_type": "markdown",
   "metadata": {},
   "source": [
    "Moodle questions:\n",
    "\n",
    "in question 1 and 2 the dataset can be changed to get slightly different results.\n",
    "\n",
    "1. What is the decay width of Z-boson when fitting Breit-Wigner distribution to invariant mass histogram (using 100 bins) where $70 GeV < M_{inv} < 110 GeV$ and data is from file \"DoubleMuRun2011A.csv\".\n",
    "    1. 4.2 GeV\n",
    "    1. 0.26 GeV\n",
    "    1. 2.5 GeV\n",
    "    1. 6.8 GeV\n",
    "\n",
    "1. What is the lifetime of Z-boson when fitting Breit-Wigner distribution to invariant mass histogram (using 100 bins) where $70 GeV < M_{inv} < 110 GeV$ and data is from file \"DoubleMuRun2011A.csv\".\n",
    "    1. 1.6E-25 s\n",
    "    1. 2.4E-24 s\n",
    "    1. 3.0E-25 s\n",
    "    1. 9.7E-26 s"
   ]
  }
 ],
 "metadata": {
  "kernelspec": {
   "display_name": "Python 3",
   "language": "python",
   "name": "python3"
  },
  "language_info": {
   "codemirror_mode": {
    "name": "ipython",
    "version": 3
   },
   "file_extension": ".py",
   "mimetype": "text/x-python",
   "name": "python",
   "nbconvert_exporter": "python",
   "pygments_lexer": "ipython3",
   "version": "3.7.5"
  }
 },
 "nbformat": 4,
 "nbformat_minor": 4
}

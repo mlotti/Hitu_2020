{
 "cells": [
  {
   "cell_type": "markdown",
   "metadata": {},
   "source": [
    "# Fitting a function to histogram"
   ]
  },
  {
   "cell_type": "markdown",
   "metadata": {},
   "source": [
    "In the exercise we will fit a relativistic Breit-Wigner probability distribution function to a peak in invariant mass histogram. From the parameters of the fitted function, it is then possible to determine the mass and lifetime of the particle that the peak represents.\n",
    "\n",
    "The relativistic Breit-Wigner function is a common distribution used in the field of high-energy physics. The probability density function writes as:\n",
    "\n",
    "$$\n",
    "f(E) = \\frac{K}{(E^2-M^2)^2 + M^2 \\Gamma^2},\n",
    "$$\n",
    "\n",
    "where $E$ is the energy, $M$ the maximum of the distribution (equals to the mass of the particle that is detected in the resonance), $\\Gamma$ the full width at half maximum (FWHM) or the decay width of the distribution and $K$ a constant that can be expressed as:\n",
    "\n",
    "$$\n",
    "K = \\frac{2\\sqrt{2}M\\Gamma\\sqrt{M^2(M^2+\\Gamma^2)} }{\\pi\\sqrt{M^2+\\sqrt{M^2(M^2+\\Gamma^2)}}}\n",
    "$$\n",
    "\n",
    "If we also want to include the background events to the fit, we must add additional parameters $a$, $b$ and $A$ to the distribution function. Together with the background event parameters, the probability density function becomes\n",
    "\n",
    "$$\n",
    "f(E) = aE+b+A\\frac{K}{(E^2-M^2)^2 + M^2 \\Gamma^2},\n",
    "$$\n",
    "\n",
    "The decay width $\\Gamma$ and the lifetime $\\tau$ of the particle detected in the resonance are related in the following way:\n",
    "\n",
    "$$\n",
    "\\Gamma \\equiv \\frac{\\hbar}{\\tau},\n",
    "$$\n",
    "\n",
    "where $\\hbar$ is the reduced Planck's constant. This relation is based on the uncertainty principle $\\Delta E \\Delta t \\gtrsim \\hbar $, which states that we cannot know exactly both the energy and lifetime of a particle. Therefore, the shorter the lifetime, the greater the uncertainty in energy."
   ]
  },
  {
   "cell_type": "markdown",
   "metadata": {},
   "source": [
    "## Exercises"
   ]
  },
  {
   "cell_type": "markdown",
   "metadata": {},
   "source": [
    "In this exercise, we will use dataset **\"DoubleMuRun2011A.csv\"**. Your task is to plot the invariant masses of the events in the dataset, fit Breit-Wigner function to a peak and determine the mass and lifetime of the particle. Here is a summary what you should do.\n",
    "\n",
    "1. Plot the invariant mass histogram from the data in **\"DoubleMuRun2011A.csv\"** using 100 bins. The invariant masses are already calculated and are saved to column called \"M\".\n",
    "1. **Check** which **range** you should use for fitting the distribution function from Moodle exercise **\"Week 3 coding questions\"**. Then plot invariant mass histogram on that range.\n",
    "1. Define a function **bin_centers(bins_edges)** that takes a list of evenly spaced bin edges as arguments and returns the bin centers. **Submit** your **solution** to Moodle exercise **\"Bin centers\"**.\n",
    "1. Define a function **breitwigner(E, gamma, M, a, b, A)** that returns the value of the relativistic Breit-Wigner probability density function. **Submit** your **solution** to Moodle exercise **\"Breit-Wigner distribution\"**.\n",
    "1. Fit Breit-Wigner -function to the peak using bin centers as xdata and bin heights as ydata.\n",
    "1. Find solutions to the questions in Moodle exercise **\"Week 3 coding questions\"**."
   ]
  },
  {
   "cell_type": "markdown",
   "metadata": {},
   "source": [
    "### Part 1: Invariant mass, bin centers and Breit-Wigner distribution"
   ]
  },
  {
   "cell_type": "markdown",
   "metadata": {},
   "source": [
    "Plot the invariant masses in file \"DoubleMuRun2011A.csv\". Use 100 bins."
   ]
  },
  {
   "cell_type": "code",
   "execution_count": null,
   "metadata": {},
   "outputs": [],
   "source": []
  },
  {
   "cell_type": "code",
   "execution_count": 17,
   "metadata": {},
   "outputs": [
    {
     "data": {
      "image/png": "[encoded data removed]",
      "text/plain": [
       "<Figure size 432x288 with 1 Axes>"
      ]
     },
     "metadata": {
      "needs_background": "light"
     },
     "output_type": "display_data"
    }
   ],
   "source": [
    "# solution\n",
    "\n",
    "import pandas as pd\n",
    "import numpy as np\n",
    "import matplotlib.pyplot as plt\n",
    "from scipy.optimize import curve_fit\n",
    "\n",
    "nbins = 100\n",
    "data = pd.read_csv(\"DoubleMuRun2011A.csv\")\n",
    "heights, bins, patches = plt.hist(data.M, bins=nbins)\n",
    "plt.show()"
   ]
  },
  {
   "cell_type": "markdown",
   "metadata": {},
   "source": [
    "As you can probably see, the histogram is quite hard to read. However, we can see that there are some some interesting peaks that we might want to look more closely. Check which the invariant mass range which you should focus on from Moodle exercise **\"Week 3 coding questions\"**. Then plot invariant mass histogram on that range. Again, use 100 bins. Save the bin edges and bin heights to variables (they are return values of plt.hist())."
   ]
  },
  {
   "cell_type": "code",
   "execution_count": null,
   "metadata": {},
   "outputs": [],
   "source": []
  },
  {
   "cell_type": "code",
   "execution_count": 28,
   "metadata": {},
   "outputs": [
    {
     "data": {
      "image/png": "[encoded data removed]",
      "text/plain": [
       "<Figure size 432x288 with 1 Axes>"
      ]
     },
     "metadata": {
      "needs_background": "light"
     },
     "output_type": "display_data"
    }
   ],
   "source": [
    "# solutions for Z boson\n",
    "\n",
    "lower_limit = 70\n",
    "upper_limit = 110\n",
    "\n",
    "plt.figure()\n",
    "heights, bin_edges, patches = plt.hist(data.M, bins=nbins, range=(lower_limit,upper_limit))\n",
    "plt.xlabel('Invariant mass (GeV)')\n",
    "plt.ylabel('Number of events per bin')\n",
    "plt.show()"
   ]
  },
  {
   "cell_type": "markdown",
   "metadata": {},
   "source": [
    "Now you should be able to see a single peak. Your task is to fit a Breit-Wigner distribution function to this peak. For better results, we want to fit the function using bin centers as our xdata and bin heights as our ydata. We got bin heights and bin edges from plt.hist() as return values. Therefore, we need to transform the bin edges to bin centers.\n",
    "\n",
    "Write a function **bin_centers(bins_edges)** that takes a list of evenly spaced bin edges as arguments and returns the bin centers. **Submit** your **solution** to Moodle exercise **\"Bin centers\"**."
   ]
  },
  {
   "cell_type": "code",
   "execution_count": null,
   "metadata": {},
   "outputs": [],
   "source": []
  },
  {
   "cell_type": "code",
   "execution_count": 24,
   "metadata": {},
   "outputs": [],
   "source": [
    "# solution\n",
    "\n",
    "def bin_centers(bins):\n",
    "    if len(bins) > 1:\n",
    "        return [0.5 * (bins[i] + bins[i+1]) for i in range(len(bins)-1)]\n",
    "    else:\n",
    "        print(\"At least two bins are needed.\")"
   ]
  },
  {
   "cell_type": "markdown",
   "metadata": {},
   "source": [
    "Before we can do the function fitting, we still need to define the Breit-Wigner function.\n",
    "\n",
    "Write a function **breitwigner(E, gamma, M, a, b, A)** that returns the value of the relativistic Breit-Wigner probability density function. **Submit** your **solution** to Moodle exercise **\"Breit-Wigner distribution\"**."
   ]
  },
  {
   "cell_type": "code",
   "execution_count": null,
   "metadata": {},
   "outputs": [],
   "source": []
  },
  {
   "cell_type": "code",
   "execution_count": 20,
   "metadata": {},
   "outputs": [],
   "source": [
    "# possible solution\n",
    "\n",
    "def breitwigner(E, gamma, M, a, b, A):\n",
    "    y = np.sqrt(M**2*(M**2+gamma**2))\n",
    "    K = 2*np.sqrt(2)*M*gamma*y/(np.pi*np.sqrt(M**2+y))\n",
    "    return a*E+b+A*(K/((E**2-M**2)**2+M**2*gamma**2))"
   ]
  },
  {
   "cell_type": "markdown",
   "metadata": {},
   "source": [
    "### Part 2 - Fitting Breit-Wigner distribution to histogram"
   ]
  },
  {
   "cell_type": "markdown",
   "metadata": {},
   "source": [
    "First, use your bin_centers()-function to transform the bin edges to bin centers.\n",
    "\n",
    "Finally, it is time to fit the distribution function to the histogram. Use **curve_fit()**-function from scipy.optimize module and find the optimal parameters for the Breit-Wigner distribution. Note that you need some initial guess to get any reasonable optimized parameters from curve_fit function. Approximate your initial guesses for $M$ and $\\Gamma$ from the histogram. For the background parameters, you can use for example the following guesses: $a=1$, $b=A=100$. You should perform the optimization multiple times by using the optimized coefficients from previous iteration as your initial guess. By doing so, you will get more accurate results."
   ]
  },
  {
   "cell_type": "code",
   "execution_count": null,
   "metadata": {},
   "outputs": [],
   "source": []
  },
  {
   "cell_type": "code",
   "execution_count": 75,
   "metadata": {
    "scrolled": true
   },
   "outputs": [
    {
     "name": "stdout",
     "output_type": "stream",
     "text": [
      "[ 4.23265425e+00  9.08774555e+01 -2.13118848e+00  1.99979981e+02\n",
      "  1.38302577e+04]\n"
     ]
    }
   ],
   "source": [
    "# solution for Z-boson\n",
    "\n",
    "bins = bin_centers(bin_edges)\n",
    "\n",
    "accuracy = 1e-5\n",
    "p0 = [4, 90, 1, 100, 100]\n",
    "while True: # Loop until desired accuracy\n",
    "    best, covariance = curve_fit(breitwigner, bins, heights, p0=p0)\n",
    "    error = max(abs(p0-best))\n",
    "    if error < accuracy: \n",
    "        break\n",
    "    p0 = best\n",
    "\n",
    "print(best)"
   ]
  },
  {
   "cell_type": "markdown",
   "metadata": {},
   "source": [
    "Once you have the optimized parameters, plot the fitted function and the initial histogram to confirm that the fit is good. If the function doesn't seem to describe the histogram well, try using different initial guess or more iterations to find optimal parameters. \n",
    "\n",
    "Print the parameters and their errors ( np.sqrt(np.diag(covariance)), where covariance is returned by curve_fit -function )."
   ]
  },
  {
   "cell_type": "code",
   "execution_count": null,
   "metadata": {},
   "outputs": [],
   "source": []
  },
  {
   "cell_type": "code",
   "execution_count": 77,
   "metadata": {
    "scrolled": true
   },
   "outputs": [
    {
     "name": "stdout",
     "output_type": "stream",
     "text": [
      "gamma = 4.233 +/- 0.053\n",
      "M     = 90.877 +/- 0.016\n",
      "a     = -2.131 +/- 0.272\n",
      "b     = 199.980 +/- 24.776\n",
      "A     = 13830.258 +/- 143.999\n"
     ]
    },
    {
     "data": {
      "image/png": "[encoded data removed]",
      "text/plain": [
       "<Figure size 432x288 with 1 Axes>"
      ]
     },
     "metadata": {
      "needs_background": "light"
     },
     "output_type": "display_data"
    }
   ],
   "source": [
    "# Solution for Z boson\n",
    "\n",
    "plt.plot(bins, breitwigner(np.array(bins), *best))\n",
    "plt.hist(data.M, bins=nbins, range=(lower_limit,upper_limit))\n",
    "errors = np.sqrt(np.diag(covariance))\n",
    "param_strings = [\"gamma\",\"M\",\"a\",\"b\",\"A\"]\n",
    "for i in range(len(best)):\n",
    "    print(\"{2:5} = {0:.3f} +/- {1:.3f}\".format(best[i],errors[i],param_strings[i]))\n",
    "plt.show()"
   ]
  },
  {
   "cell_type": "markdown",
   "metadata": {},
   "source": [
    "Now that you have a function that represents the data well, you can use it to estimate the lifetime of the particle.\n",
    "\n",
    "Calculate the lifetime."
   ]
  },
  {
   "cell_type": "code",
   "execution_count": null,
   "metadata": {},
   "outputs": [],
   "source": []
  },
  {
   "cell_type": "code",
   "execution_count": 78,
   "metadata": {},
   "outputs": [
    {
     "name": "stdout",
     "output_type": "stream",
     "text": [
      "tau = 1.55508E-25 s +/- 1.95864E-27 s\n"
     ]
    }
   ],
   "source": [
    "# solution\n",
    "\n",
    "def lifetime(decayWidth):\n",
    "    hbar = 6.582119569e-16/1e9 # GeV*s\n",
    "    return hbar/decayWidth\n",
    "\n",
    "gamma = best[0]\n",
    "errgamma = errors[0]\n",
    "tau = lifetime(gamma)\n",
    "tauminus = lifetime(gamma-errgamma)\n",
    "tauplus = lifetime(gamma+errgamma)\n",
    "error = max(tauminus-tau,tau-tauplus)\n",
    "print(\"tau = {0:.5E} s +/- {1:.5E} s\".format(tau,error))"
   ]
  },
  {
   "cell_type": "markdown",
   "metadata": {},
   "source": [
    "#### Solution for Upsilon-meson"
   ]
  },
  {
   "cell_type": "code",
   "execution_count": 79,
   "metadata": {},
   "outputs": [
    {
     "data": {
      "image/png": "[encoded data removed]",
      "text/plain": [
       "<Figure size 432x288 with 1 Axes>"
      ]
     },
     "metadata": {
      "needs_background": "light"
     },
     "output_type": "display_data"
    }
   ],
   "source": [
    "import pandas as pd\n",
    "import numpy as np\n",
    "import matplotlib.pyplot as plt\n",
    "from scipy.optimize import curve_fit\n",
    "\n",
    "nbins = 100\n",
    "data = pd.read_csv(\"DoubleMuRun2011A.csv\")\n",
    "heights, bins, patches = plt.hist(data.M, bins=nbins)\n",
    "plt.show()"
   ]
  },
  {
   "cell_type": "code",
   "execution_count": 80,
   "metadata": {},
   "outputs": [
    {
     "data": {
      "image/png": "[encoded data removed]",
      "text/plain": [
       "<Figure size 432x288 with 1 Axes>"
      ]
     },
     "metadata": {
      "needs_background": "light"
     },
     "output_type": "display_data"
    }
   ],
   "source": [
    "lower_limit = 9\n",
    "upper_limit = 9.8\n",
    "\n",
    "plt.figure()\n",
    "heights, bin_edges, patches = plt.hist(data.M, bins=nbins, range=(lower_limit,upper_limit))\n",
    "plt.xlabel('Invariant mass (GeV)')\n",
    "plt.ylabel('Number of events per bin')\n",
    "plt.show()"
   ]
  },
  {
   "cell_type": "code",
   "execution_count": 82,
   "metadata": {},
   "outputs": [],
   "source": [
    "def bin_centers(bins):\n",
    "    if len(bins) > 1:\n",
    "        return [0.5 * (bins[i] + bins[i+1]) for i in range(len(bins)-1)]\n",
    "    else:\n",
    "        print(\"At least two bins are needed.\")"
   ]
  },
  {
   "cell_type": "code",
   "execution_count": 83,
   "metadata": {},
   "outputs": [],
   "source": [
    "def breitwigner(E, gamma, M, a, b, A):\n",
    "    y = np.sqrt(M**2*(M**2+gamma**2))\n",
    "    K = 2*np.sqrt(2)*M*gamma*y/(np.pi*np.sqrt(M**2+y))\n",
    "    return a*E+b+A*(K/((E**2-M**2)**2+M**2*gamma**2))"
   ]
  },
  {
   "cell_type": "code",
   "execution_count": 84,
   "metadata": {},
   "outputs": [
    {
     "name": "stdout",
     "output_type": "stream",
     "text": [
      "[ 2.00075405e-01  9.44985238e+00  3.85844515e+01 -2.73581926e+02\n",
      "  1.18268365e+02]\n"
     ]
    }
   ],
   "source": [
    "bins = bin_centers(bin_edges)\n",
    "\n",
    "accuracy = 1e-5\n",
    "p0 = [0.2, 9.5, 1, 100, 100]\n",
    "while True: # Loop until desired accuracy\n",
    "    best, covariance = curve_fit(breitwigner, bins, heights, p0=p0)\n",
    "    error = max(abs(p0-best))\n",
    "    if error < accuracy: \n",
    "        break\n",
    "    p0 = best\n",
    "\n",
    "print(best)"
   ]
  },
  {
   "cell_type": "code",
   "execution_count": 86,
   "metadata": {},
   "outputs": [
    {
     "name": "stdout",
     "output_type": "stream",
     "text": [
      "gamma = 0.200 +/- 0.006\n",
      "M     = 9.450 +/- 0.001\n",
      "a     = 38.584 +/- 7.829\n",
      "b     = -273.582 +/- 72.678\n",
      "A     = 118.268 +/- 3.955\n"
     ]
    },
    {
     "data": {
      "image/png": "[encoded data removed]",
      "text/plain": [
       "<Figure size 432x288 with 1 Axes>"
      ]
     },
     "metadata": {
      "needs_background": "light"
     },
     "output_type": "display_data"
    }
   ],
   "source": [
    "plt.plot(bins, breitwigner(np.array(bins), *best))\n",
    "plt.hist(data.M, bins=nbins, range=(lower_limit,upper_limit))\n",
    "errors = np.sqrt(np.diag(covariance))\n",
    "param_strings = [\"gamma\",\"M\",\"a\",\"b\",\"A\"]\n",
    "for i in range(len(best)):\n",
    "    print(\"{2:5} = {0:.3f} +/- {1:.3f}\".format(best[i],errors[i],param_strings[i]))\n",
    "plt.show()"
   ]
  },
  {
   "cell_type": "code",
   "execution_count": 87,
   "metadata": {},
   "outputs": [
    {
     "name": "stdout",
     "output_type": "stream",
     "text": [
      "tau = 3.28982E-24 s +/- 1.06749E-25 s\n"
     ]
    }
   ],
   "source": [
    "def lifetime(decayWidth):\n",
    "    hbar = 6.582119569e-16/1e9 # GeV*s\n",
    "    return hbar/decayWidth\n",
    "\n",
    "gamma = best[0]\n",
    "errgamma = errors[0]\n",
    "tau = lifetime(gamma)\n",
    "tauminus = lifetime(gamma-errgamma)\n",
    "tauplus = lifetime(gamma+errgamma)\n",
    "error = max(tauminus-tau,tau-tauplus)\n",
    "print(\"tau = {0:.5E} s +/- {1:.5E} s\".format(tau,error))"
   ]
  },
  {
   "cell_type": "markdown",
   "metadata": {},
   "source": [
    "### Solution for J/psi"
   ]
  },
  {
   "cell_type": "code",
   "execution_count": 88,
   "metadata": {},
   "outputs": [
    {
     "data": {
      "image/png": "[encoded data removed]",
      "text/plain": [
       "<Figure size 432x288 with 1 Axes>"
      ]
     },
     "metadata": {
      "needs_background": "light"
     },
     "output_type": "display_data"
    }
   ],
   "source": [
    "import pandas as pd\n",
    "import numpy as np\n",
    "import matplotlib.pyplot as plt\n",
    "from scipy.optimize import curve_fit\n",
    "\n",
    "nbins = 100\n",
    "data = pd.read_csv(\"DoubleMuRun2011A.csv\")\n",
    "heights, bins, patches = plt.hist(data.M, bins=nbins)\n",
    "plt.show()"
   ]
  },
  {
   "cell_type": "code",
   "execution_count": 89,
   "metadata": {},
   "outputs": [
    {
     "data": {
      "image/png": "[encoded data removed]",
      "text/plain": [
       "<Figure size 432x288 with 1 Axes>"
      ]
     },
     "metadata": {
      "needs_background": "light"
     },
     "output_type": "display_data"
    }
   ],
   "source": [
    "lower_limit = 2.8\n",
    "upper_limit = 3.4\n",
    "\n",
    "plt.figure()\n",
    "heights, bin_edges, patches = plt.hist(data.M, bins=nbins, range=(lower_limit,upper_limit))\n",
    "plt.xlabel('Invariant mass (GeV)')\n",
    "plt.ylabel('Number of events per bin')\n",
    "plt.show()"
   ]
  },
  {
   "cell_type": "code",
   "execution_count": 90,
   "metadata": {},
   "outputs": [],
   "source": [
    "def bin_centers(bins):\n",
    "    if len(bins) > 1:\n",
    "        return [0.5 * (bins[i] + bins[i+1]) for i in range(len(bins)-1)]\n",
    "    else:\n",
    "        print(\"At least two bins are needed.\")"
   ]
  },
  {
   "cell_type": "code",
   "execution_count": 91,
   "metadata": {},
   "outputs": [],
   "source": [
    "def breitwigner(E, gamma, M, a, b, A):\n",
    "    y = np.sqrt(M**2*(M**2+gamma**2))\n",
    "    K = 2*np.sqrt(2)*M*gamma*y/(np.pi*np.sqrt(M**2+y))\n",
    "    return a*E+b+A*(K/((E**2-M**2)**2+M**2*gamma**2))"
   ]
  },
  {
   "cell_type": "code",
   "execution_count": 92,
   "metadata": {},
   "outputs": [
    {
     "name": "stdout",
     "output_type": "stream",
     "text": [
      "[ 5.89948911e-02  3.09336071e+00 -9.45886815e+01  2.95304033e+02\n",
      "  2.59693500e+02]\n"
     ]
    }
   ],
   "source": [
    "bins = bin_centers(bin_edges)\n",
    "\n",
    "accuracy = 1e-5\n",
    "p0 = [0.1, 3.1, 1, 100, 100]\n",
    "while True: # Loop until desired accuracy\n",
    "    best, covariance = curve_fit(breitwigner, bins, heights, p0=p0)\n",
    "    error = max(abs(p0-best))\n",
    "    if error < accuracy: \n",
    "        break\n",
    "    p0 = best\n",
    "\n",
    "print(best)"
   ]
  },
  {
   "cell_type": "code",
   "execution_count": 93,
   "metadata": {},
   "outputs": [
    {
     "name": "stdout",
     "output_type": "stream",
     "text": [
      "gamma = 0.059 +/- 0.001\n",
      "M     = 3.093 +/- 0.000\n",
      "a     = -94.589 +/- 32.338\n",
      "b     = 295.304 +/- 100.793\n",
      "A     = 259.694 +/- 3.628\n"
     ]
    },
    {
     "data": {
      "image/png": "[encoded data removed]",
      "text/plain": [
       "<Figure size 432x288 with 1 Axes>"
      ]
     },
     "metadata": {
      "needs_background": "light"
     },
     "output_type": "display_data"
    }
   ],
   "source": [
    "plt.plot(bins, breitwigner(np.array(bins), *best))\n",
    "plt.hist(data.M, bins=nbins, range=(lower_limit,upper_limit))\n",
    "errors = np.sqrt(np.diag(covariance))\n",
    "param_strings = [\"gamma\",\"M\",\"a\",\"b\",\"A\"]\n",
    "for i in range(len(best)):\n",
    "    print(\"{2:5} = {0:.3f} +/- {1:.3f}\".format(best[i],errors[i],param_strings[i]))\n",
    "plt.show()"
   ]
  },
  {
   "cell_type": "code",
   "execution_count": 94,
   "metadata": {},
   "outputs": [
    {
     "name": "stdout",
     "output_type": "stream",
     "text": [
      "tau = 1.11571E-23 s +/- 1.91593E-25 s\n"
     ]
    }
   ],
   "source": [
    "def lifetime(decayWidth):\n",
    "    hbar = 6.582119569e-16/1e9 # GeV*s\n",
    "    return hbar/decayWidth\n",
    "\n",
    "gamma = best[0]\n",
    "errgamma = errors[0]\n",
    "tau = lifetime(gamma)\n",
    "tauminus = lifetime(gamma-errgamma)\n",
    "tauplus = lifetime(gamma+errgamma)\n",
    "error = max(tauminus-tau,tau-tauplus)\n",
    "print(\"tau = {0:.5E} s +/- {1:.5E} s\".format(tau,error))"
   ]
  }
 ],
 "metadata": {
  "kernelspec": {
   "display_name": "Python 3",
   "language": "python",
   "name": "python3"
  },
  "language_info": {
   "codemirror_mode": {
    "name": "ipython",
    "version": 3
   },
   "file_extension": ".py",
   "mimetype": "text/x-python",
   "name": "python",
   "nbconvert_exporter": "python",
   "pygments_lexer": "ipython3",
   "version": "3.7.5"
  }
 },
 "nbformat": 4,
 "nbformat_minor": 4
}

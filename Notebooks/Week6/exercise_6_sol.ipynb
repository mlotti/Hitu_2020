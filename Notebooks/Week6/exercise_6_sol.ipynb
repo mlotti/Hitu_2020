{
 "cells": [
  {
   "cell_type": "markdown",
   "metadata": {},
   "source": [
    "# Helicity as a discriminator in a search for charged Higgs bosons"
   ]
  },
  {
   "cell_type": "markdown",
   "metadata": {},
   "source": [
    "The goal of this exercise is to use theoretical knowledge of helicity to help us in an experimental analysis. \n",
    "\n",
    "Helsinki Institute of Physics is involved in a search for charged Higgs bosons in the CMS collaboration. If one adds a second scalar doublet to the standard model, we get in total five physical Higgs bosons. Three of them are neutral and two have an electrical charge. Models predicting these bosons are called *two-Higgs-doublet models* and they are the first step towards for instance supersymmetry and therefore an observation of a charged Higgs boson would be clear evidence of beyond the standard model theories. \n",
    "\n",
    "We will use two simulated data sets in our analysis: \n",
    "\n",
    "- Charged Higgs boson signal sample\n",
    "- W + jet background sample \n",
    "\n",
    "With these we will study the decay of charged Higgs bosons into a tau lepton and a tau neutrino.\n",
    "\n",
    "\n",
    "When searching for new particles, we need to impose cuts to data to increase the signal over background ratio. Signal over background ratio tells us how much signal and background we have after a cut. In other words when we impose a cut, we usually cut background but also some signal. We want to make sure that every cut takes a small amount of signal away and a large amount of background away. \n",
    "\n",
    "The helicity of tau leptons carries information about their origin, so it provides a useful handle for discrimination between the tau leptons originating from charged Higgs boson decays and those originating from a W decays. Therefore, we will use a variable called R_tau to discriminate between the signal and the background in this exercise. \n",
    "\n",
    "Neutrinos are always left-handed in the standard model. Tau leptons produced in a charged Higgs bosons decay are therefore always right-handed since a charged Higgs boson is a scalar particle. On the other hand (pun intended), when a vector boson W decays into a tau lepton, the tau lepton is forced to be left-handed since the neutrino is left-handed. It turns out that this influences the kinematics of the tau lepton decay. An emission of the leading track particle is more likely to be towards the tau lepton's direction of movement for the right-handed tau. Therefore in laboratory coordinates the leading tracks originally caused by the decay of the charged Higgs boson have on average a larger momentum than the ones caused by the decay of the W boson.\n",
    "\n",
    "R_tau is defined as the the leading track pT of a tau lepton divided by the pT of the tau lepton.\n",
    "\n",
    "From the data files Hplus.csv and WJet.csv you can calculate the R_tau with variables: \n",
    "\n",
    "R_tau = LeadingTrackPt/TauPt\n",
    "\n",
    "This week's task is to find an optimal value for the R_tau that cuts the background without taking too much of the signal away. \n",
    "\n",
    "We begin with reading the data sets. Your first task is to calculate the R_tau values for both Hplus and Wjet data. Return the averages for both data sets. \n",
    "\n",
    "The data are in files Hplus.csv and WJet.csv."
   ]
  },
  {
   "cell_type": "code",
   "execution_count": 43,
   "metadata": {},
   "outputs": [
    {
     "name": "stdout",
     "output_type": "stream",
     "text": [
      "0        135.230743\n",
      "1        117.195907\n",
      "2         44.550690\n",
      "3         18.906328\n",
      "4         76.997918\n",
      "            ...    \n",
      "15121    120.380213\n",
      "15122     92.728636\n",
      "15123     40.523099\n",
      "15124     40.179325\n",
      "15125    100.828178\n",
      "Name: TauPt, Length: 15126, dtype: float64\n",
      "0        57.40625\n",
      "1        55.03125\n",
      "2        44.78125\n",
      "3        17.43750\n",
      "4        77.37500\n",
      "           ...   \n",
      "15121    18.59375\n",
      "15122    48.84375\n",
      "15123    17.28125\n",
      "15124    32.81250\n",
      "15125    28.15625\n",
      "Name: LeadingTrackPt, Length: 15126, dtype: float64\n",
      "0.6179141287931099\n",
      "0.5869992119323307\n"
     ]
    }
   ],
   "source": [
    "%matplotlib inline\n",
    "import pandas as pd\n",
    "import numpy as np\n",
    "import matplotlib.pyplot as plt\n",
    "\n",
    "# Read the data sets Hplus_M_90.pkl and Wjets.pkl from the 'Data' folder\n",
    "# Calculate the average values of R_tau for both data sets.\n",
    "\n",
    "Hplus = pd.read_csv('Hplus.csv')\n",
    "\n",
    "Wjet = pd.read_csv('WJet.csv')\n",
    "\n",
    "print(Wjet.TauPt)\n",
    "print(Wjet.LeadingTrackPt)\n",
    "\n",
    "R_tau_hplus = Hplus.LeadingTrackPt/Hplus.TauPt\n",
    "R_tau_wjet = Wjet.LeadingTrackPt/Wjet.TauPt\n",
    "\n",
    "\n",
    "print(np.average(R_tau_hplus))\n",
    "print(np.average(R_tau_wjet))"
   ]
  },
  {
   "cell_type": "markdown",
   "metadata": {},
   "source": [
    "Next, use the R_tau distributions you obtained in the previous part and plot both of the datasets in a histogram."
   ]
  },
  {
   "cell_type": "code",
   "execution_count": 19,
   "metadata": {},
   "outputs": [
    {
     "data": {
      "image/png": "[encoded data removed]",
      "text/plain": [
       "<matplotlib.figure.Figure at 0x7f9930db8c88>"
      ]
     },
     "metadata": {
      "needs_background": "light"
     },
     "output_type": "display_data"
    }
   ],
   "source": [
    "plt.hist(hplus_flat, alpha=0.5, bins=100)\n",
    "plt.hist(wjet_flat, alpha=0.5, bins=100)\n",
    "plt.show()"
   ]
  },
  {
   "cell_type": "markdown",
   "metadata": {},
   "source": [
    "**Question:** Which of the following is true?\n",
    "\n",
    "1) The difference between the distributions can mainly be seen in the very lowest values of R_tau.\n",
    "\n",
    "2) The difference between the distributions can mainly be seen in the very highest values of R_tau.\n",
    "\n",
    "3) The distributions have the same overall shape but the Hplus one is shifted to the right.\n",
    "\n",
    "-----------------------------------------------------------------------------------------------"
   ]
  },
  {
   "cell_type": "markdown",
   "metadata": {},
   "source": [
    "Now, we will find the optimal R_tau cut that gives us the best purity.\n",
    "Use as the purity (or as the signal to background ratio) the number of signal events divided by the number of background events:\n",
    "\n",
    "P = (number of signal events after the cut)/(number of background events after the cut)\n",
    "\n",
    "Iterate over different R_tau cut values to find the optimal purity. Calculate the purity always only for the events that have a higher R_tau value than the cut. Return the optimal cut and the purity obtained with it."
   ]
  },
  {
   "cell_type": "code",
   "execution_count": 35,
   "metadata": {
    "scrolled": false
   },
   "outputs": [
    {
     "name": "stdout",
     "output_type": "stream",
     "text": [
      "The optimal cut is 1.0746\n",
      "It gives the purity of 3.0\n"
     ]
    }
   ],
   "source": [
    "# Loop over possible cut values and  get the one with the best ratio of signal to background\n",
    "best_purity = 0\n",
    "optimal_cut = 0\n",
    "for cut in np.linspace(0.02, 1.15, num=1140):\n",
    "    n_hplus = sum(1 for i in hplus_flat if i > cut)\n",
    "    n_wjet = sum(1 for i in wjet_flat if i > cut)\n",
    "    purity = n_hplus/n_wjet\n",
    "    if purity>best_purity:\n",
    "        best_purity = purity\n",
    "        optimal_cut = cut\n",
    "\n",
    "print('The optimal cut is', round(optimal_cut, 5))\n",
    "print('It gives the purity of', best_purity)\n",
    "# The same purity is also achieved with some other cuts nearby"
   ]
  }
 ],
 "metadata": {
  "kernelspec": {
   "display_name": "Python 2",
   "language": "python",
   "name": "python2"
  },
  "language_info": {
   "codemirror_mode": {
    "name": "ipython",
    "version": 3
   },
   "file_extension": ".py",
   "mimetype": "text/x-python",
   "name": "python",
   "nbconvert_exporter": "python",
   "pygments_lexer": "ipython3",
   "version": "3.6.9"
  }
 },
 "nbformat": 4,
 "nbformat_minor": 2
}

{
 "cells": [
  {
   "cell_type": "markdown",
   "metadata": {},
   "source": [
    "# Helicity as a discriminator in a search for charged Higgs bosons"
   ]
  },
  {
   "cell_type": "markdown",
   "metadata": {},
   "source": [
    "The goal of this exercise is to use theoretical knowledge of helicity to help us in an experimental analysis. \n",
    "\n",
    "Helsinki Institute of Physics is involved in a search for charged Higgs bosons in the CMS collaboration. If one adds a second scalar doublet to the standard model, we get in total five physical Higgs bosons. Three of them are neutral and two have an electrical charge. Models predicting these bosons are called *two-Higgs-doublet models* and they are the first step towards for instance supersymmetry and therefore an observation of a charged Higgs boson would be clear evidence of Beyond the Standard Model theories. \n",
    "\n",
    "We will use two simulated data sets in our analysis: \n",
    "\n",
    "- Charged Higgs boson signal sample\n",
    "- W + jet background sample \n",
    "\n",
    "With these we will study the decay of charged Higgs bosons into a tau lepton and a tau neutrino.\n",
    "\n",
    "\n",
    "When searching for new particles, we need to impose cuts to data to increase the signal over background ratio. Signal over background ratio tells us how much signal and background we have after a cut. In other words when we impose a cut, we usually cut background but also some signal. We want to make sure that every cut takes a small amount of signal away and a large amount of background away. \n",
    "\n",
    "The helicity of tau leptons carries information about their origin, so it provides a useful handle for discrimination between the tau leptons originating from charged Higgs boson decays and those originating from a W decays. Therefore, we will use a variable called R_tau to discriminate between the signal and the background in this exercise. \n",
    "\n",
    "Neutrinos are always left-handed in the Standard Model. Tau leptons produced in a charged Higgs bosons decay are therefore always right-handed since a charged Higgs boson is a scalar particle. On the other hand (pun intended), when a vector boson W decays into a tau lepton, the tau lepton is forced to be left-handed since the neutrino is left-handed. It turns out that this influences the kinematics of the tau lepton decay. An emission of the leading track particle is more likely to be towards the tau lepton's direction of movement for the right-handed tau. Therefore in laboratory coordinates the leading tracks originally caused by the decay of the charged Higgs boson have on average a larger momentum than the ones caused by the decay of the W boson.\n",
    "\n",
    "R_tau is defined as the the leading track pT of a tau lepton divided by the pT of the tau lepton.\n",
    "\n",
    "From the data files you can calculate the R_tau with variables: \n",
    "\n",
    "R_tau = LeadingTrackPt/TauPt\n",
    "\n",
    "### Part 1: Calculate R_tau\n",
    "\n",
    "This week's task is to find an optimal value for the R_tau that cuts the background without taking too much of the signal away. Check Moodle which files for Hplus and Wjet you should use.\n",
    "\n",
    "We begin with reading the data sets. Your first task is to calculate the R_tau values for both Hplus and Wjet data. Return the averages for both data sets. "
   ]
  },
  {
   "cell_type": "code",
   "execution_count": 27,
   "metadata": {},
   "outputs": [
    {
     "name": "stdout",
     "output_type": "stream",
     "text": [
      "0.6151774322388736\n",
      "0.5865520161294362\n"
     ]
    }
   ],
   "source": [
    "%matplotlib inline\n",
    "import pandas as pd\n",
    "import numpy as np\n",
    "\n",
    "# Read the data sets\n",
    "# Calculate the values of R_tau and return the average values of R_tau for both data sets.\n",
    "\n",
    "Hplus = pd.read_csv('Hplus2.csv')\n",
    "\n",
    "Wjet = pd.read_csv('WJet2.csv')\n",
    "\n",
    "R_tau_hplus = Hplus.LeadingTrackPt/Hplus.TauPt\n",
    "R_tau_wjet = Wjet.LeadingTrackPt/Wjet.TauPt\n",
    "\n",
    "\n",
    "print(np.average(R_tau_hplus))\n",
    "print(np.average(R_tau_wjet))"
   ]
  },
  {
   "cell_type": "markdown",
   "metadata": {},
   "source": [
    "### Part 2: Plot\n",
    "\n",
    "It's always a good idea to plot the data to understand what is going on. Use the R_tau distributions you obtained in the previous part and plot both of the datasets in a histogram.\n",
    "\n",
    "**Maybe ask the shape so that they actually plot this**"
   ]
  },
  {
   "cell_type": "code",
   "execution_count": 28,
   "metadata": {},
   "outputs": [
    {
     "data": {
      "image/png": "[encoded data removed]",
      "text/plain": [
       "<matplotlib.figure.Figure at 0x7f4b75f33c50>"
      ]
     },
     "metadata": {
      "needs_background": "light"
     },
     "output_type": "display_data"
    }
   ],
   "source": [
    "import matplotlib.pyplot as plt\n",
    "plt.hist(R_tau_hplus, alpha=0.5, bins=100)\n",
    "plt.hist(R_tau_wjet, alpha=0.5, bins=100)\n",
    "plt.show()"
   ]
  },
  {
   "cell_type": "markdown",
   "metadata": {},
   "source": [
    "### Part 3: Finding the optimal cut\n",
    "\n",
    "Now, we will find the optimal R_tau cut that gives us the best purity.\n",
    "Use as the purity (or as the signal to background ratio) the number of signal events divided by the number of background events:\n",
    "\n",
    "P = (number of signal events after the cut)/(number of background events after the cut)\n",
    "\n",
    "Iterate over different R_tau cut values to find the optimal purity. Calculate the purity always only for the events that have a higher R_tau value than the cut. Test 1000 cuts evenly spaced between [0, 1]. If the cut is over 1 there isn't enough events left for further analysis. Return the optimal cut and the purity obtained with it."
   ]
  },
  {
   "cell_type": "code",
   "execution_count": 29,
   "metadata": {
    "scrolled": false
   },
   "outputs": [
    {
     "name": "stdout",
     "output_type": "stream",
     "text": [
      "The optimal cut is 0.7987987987987988\n",
      "It gives the purity of 1.2759237187127532\n"
     ]
    }
   ],
   "source": [
    "# Loop over possible cut values and  get the one with the best ratio of signal to background\n",
    "best_purity = 0\n",
    "optimal_cut = 0\n",
    "for cut in np.linspace(0, 1.0, num=1000):\n",
    "    n_hplus = sum(1 for i in R_tau_hplus if i > cut)\n",
    "    n_wjet = sum(1 for i in R_tau_wjet if i > cut)\n",
    "    purity = n_hplus/n_wjet\n",
    "    if purity>best_purity:\n",
    "        best_purity = purity\n",
    "        optimal_cut = cut\n",
    "\n",
    "print('The optimal cut is', optimal_cut)\n",
    "print('It gives the purity of', best_purity)\n",
    "# The same purity is also achieved with some other cuts nearby"
   ]
  }
 ],
 "metadata": {
  "kernelspec": {
   "display_name": "Python 2",
   "language": "python",
   "name": "python2"
  },
  "language_info": {
   "codemirror_mode": {
    "name": "ipython",
    "version": 3
   },
   "file_extension": ".py",
   "mimetype": "text/x-python",
   "name": "python",
   "nbconvert_exporter": "python",
   "pygments_lexer": "ipython3",
   "version": "3.6.9"
  }
 },
 "nbformat": 4,
 "nbformat_minor": 2
}

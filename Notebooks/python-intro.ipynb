{
 "cells": [
  {
   "cell_type": "markdown",
   "metadata": {},
   "source": [
    "# Python in data-analysis"
   ]
  },
  {
   "cell_type": "markdown",
   "metadata": {},
   "source": [
    "Python is a programming language that has many beneficial features for example in data-analysis. Python libraries such as numpy, pandas and matplotlib provide a robust method to manipulate and visualize data.\n",
    "\n",
    "In this tutorial you can find some of the most important things about Python related to this course.\n",
    "Examples in this notebook can be useful in the upcoming exercises.\n",
    "\n",
    "You can run code cells in notebooks by clicking the cell and pressing `CTRL`+`ENTER`.\n",
    "If you can't remember how to do something in notebook, just press **H** while in command mode and you can see a list of shortcuts you can use.\n",
    "\n",
    "Feel free to modify the code cells and try different things!"
   ]
  },
  {
   "cell_type": "markdown",
   "metadata": {},
   "source": [
    "1. [Basics](#basics)\n",
    "1. [Functions](#functions)\n",
    "1. [Modules](#modules)\n",
    "    1. [NumPy](#numpy)\n",
    "    1. [Pandas](#pandas)\n",
    "    1. [Matplotlib](#matplotlib)\n",
    "    1. [SciPy](#scipy)\n",
    "1. [More examples](#examples)"
   ]
  },
  {
   "cell_type": "markdown",
   "metadata": {},
   "source": [
    "## Basics"
   ]
  },
  {
   "cell_type": "markdown",
   "metadata": {},
   "source": [
    "The following example shows the very basic properties of python such as variables,  list-datatype, if-statements and loops."
   ]
  },
  {
   "cell_type": "code",
   "execution_count": null,
   "metadata": {},
   "outputs": [],
   "source": [
    "# Example 1 of basics of python\n",
    "\n",
    "# Variables\n",
    "text = 'The result is' # you can also use double quotes \"\"\n",
    "num1 = 25\n",
    "num2 = 7\n",
    "result = num1 - num2\n",
    " \n",
    "print(text,result)"
   ]
  },
  {
   "cell_type": "code",
   "execution_count": null,
   "metadata": {},
   "outputs": [],
   "source": [
    "# Example 2 of basics of python\n",
    "\n",
    "# lists\n",
    "values = [1,3,19,-75]\n",
    "fruits = ['Apple', 'Banana', 'Orange']\n",
    "\n",
    "print(\"Values:\",values)\n",
    "print(\"Fruits:\",fruits)\n",
    "\n",
    "fruits.append('Passion fruit')\n",
    "print(\"New fruits:\",fruits)"
   ]
  },
  {
   "cell_type": "markdown",
   "metadata": {},
   "source": [
    "### If-statements"
   ]
  },
  {
   "cell_type": "markdown",
   "metadata": {},
   "source": [
    "**If**-statements can be used if we only want to execute the code if a certain condition is met. The syntax is quite self-explanatory:"
   ]
  },
  {
   "cell_type": "code",
   "execution_count": null,
   "metadata": {},
   "outputs": [],
   "source": [
    "# Example 1 of if-statement\n",
    "\n",
    "condition1 = 1 > 2 # this is False\n",
    "condition2 = 2 > 1 # this is True\n",
    "\n",
    "if condition1:\n",
    "    # This part of code is accessed if condition1 is true\n",
    "    print(\"Condition 1 was true.\")\n",
    "elif condition2:\n",
    "    # This part of code is accessed if condition1 is false and condition2 is true\n",
    "    print(\"Condition 2 was true.\")\n",
    "else:\n",
    "    # This part of code is accessed if each condition is false\n",
    "    print(\"Each condition was false.\")\n",
    "    \n",
    "# You can try changing the conditions and see what happens. You can also put the condition directly to \n",
    "# the if-statement rather than assinging it to a variable (e.g. \"if 1 < 2:\")."
   ]
  },
  {
   "cell_type": "markdown",
   "metadata": {},
   "source": [
    "### Loops"
   ]
  },
  {
   "cell_type": "markdown",
   "metadata": {},
   "source": [
    "**For**-loops are used to iterate over a sequence of values. For-loop can be used in the following way:\n",
    "\n",
    "`for element in sequence:\n",
    "    do something`\n",
    "In this case the code part is done for each element in a sequence.\n",
    "\n",
    "A sequence is usually a list or defined using `range(start,stop,interval)`-function (see example). "
   ]
  },
  {
   "cell_type": "code",
   "execution_count": null,
   "metadata": {},
   "outputs": [],
   "source": [
    "# Example of for-loop. Print contents of a list.\n",
    "\n",
    "fruits = ['Apple', 'Banana', 'Orange']\n",
    "\n",
    "for fruit in fruits:\n",
    "    print(fruit)"
   ]
  },
  {
   "cell_type": "code",
   "execution_count": null,
   "metadata": {},
   "outputs": [],
   "source": [
    "# Example 2 of for-loop. Print integers and their squares from 1 to 9\n",
    "\n",
    "for i in range(1,10): # note that the stopping value is not included in the iteration\n",
    "    print(\"Number: \",i,\"  Square:\",i*i)"
   ]
  },
  {
   "cell_type": "code",
   "execution_count": null,
   "metadata": {},
   "outputs": [],
   "source": [
    "# Example of if-statement and for-loop.\n",
    "\n",
    "values = range(0,10)\n",
    "limit = 5\n",
    "\n",
    "for value in values:\n",
    "    if value < limit:\n",
    "        print(value,\"is smaller than\",limit)\n",
    "    elif value > limit:\n",
    "        print(value,\"is larger than\",limit)\n",
    "    else:\n",
    "        print(value,\"is equal to\",limit)"
   ]
  },
  {
   "cell_type": "markdown",
   "metadata": {},
   "source": [
    "**While**-loop is another option to make iterative code. Here are a couple of examples how to use it."
   ]
  },
  {
   "cell_type": "code",
   "execution_count": null,
   "metadata": {},
   "outputs": [],
   "source": [
    "# Example 1 of while loop\n",
    "\n",
    "i = 0\n",
    "while i < 5: # Loop continues until the condition turns into false.\n",
    "    print(i)\n",
    "    i = i+1 # increase i by 1 for next iteration"
   ]
  },
  {
   "cell_type": "code",
   "execution_count": null,
   "metadata": {},
   "outputs": [],
   "source": [
    "# Example 2 of while loop. This code asks the user for input and repeats it. Program exits when \"exit\" is passed.\n",
    "\n",
    "while True: # Infinite loop\n",
    "    answer = str(input()) # input() can be used to take user input\n",
    "    if answer == \"exit\":\n",
    "        print(\"Exiting... bye bye.\\n\")\n",
    "        break # break-keyword will break the loop\n",
    "    else:\n",
    "        print(\"You said\",answer)"
   ]
  },
  {
   "cell_type": "markdown",
   "metadata": {},
   "source": [
    "### Basics - Examples"
   ]
  },
  {
   "cell_type": "code",
   "execution_count": null,
   "metadata": {},
   "outputs": [],
   "source": [
    "# Save texts 'Test 1' and 'Test 2' and numbers 0 and 1 into variables called t1,t2,n1,n2\n",
    "\n",
    "t1 = 'Test 1'\n",
    "t2 = 'Test 2'\n",
    "n1 = 0\n",
    "n2 = 1\n",
    "\n",
    "# Make if-statement that prints 'Test 1' if number is 0, 'Test 2' if number is 1 and 'Unknown' otherwise\n",
    "\n",
    "number = 1 # You can change this to something else and see what happens when you run the code.\n",
    "if number == n1:   # note the double equal-sign here\n",
    "    print(t1)\n",
    "elif number == n2:\n",
    "    print(t2)\n",
    "else:\n",
    "    print('Unknown')"
   ]
  },
  {
   "cell_type": "code",
   "execution_count": null,
   "metadata": {},
   "outputs": [],
   "source": [
    "# Let's make a for loop that prints the integers from 1 to 10\n",
    "\n",
    "for i in range(1,11): # The last number in range is not included. Default interval for range-function is 1.\n",
    "    print(i)"
   ]
  },
  {
   "cell_type": "markdown",
   "metadata": {},
   "source": [
    "<a id=\"functions\"></a>\n",
    "## Functions"
   ]
  },
  {
   "cell_type": "markdown",
   "metadata": {},
   "source": [
    "Functions are basically just pieces of code that allows you to use the same functionality multiple times. There are a number of ready-made functions in python itself and in modules that are discussed in the following section. Often it is useful to implement new functions to perform some task. Some useful functions in python are:\n",
    "- `print(argument)` prints the argument inside parenthesis\n",
    "- `len(object)` returns the length of an object, for example a list or a string\n",
    "- `abs(value)` returns the absolute value of the value\n",
    "- `min(values)` and `max(values)` returns the minimum or maximum value of the argument values"
   ]
  },
  {
   "cell_type": "markdown",
   "metadata": {},
   "source": [
    "Example 2 shows an example of a custom-made function"
   ]
  },
  {
   "cell_type": "code",
   "execution_count": null,
   "metadata": {},
   "outputs": [],
   "source": [
    "# Example of python-functions\n",
    "\n",
    "vals = [-36, 13, -4, 1, 196]\n",
    "length = len(vals)\n",
    "absvalue = abs(vals[2]) # note that index of first element is 0\n",
    "minimum = min(vals)\n",
    "print(\"Number of elements in vals is\", length)\n",
    "print(\"Absolute value of the third element in vals is\", absvalue) \n",
    "print(\"Minimum value of vals is\", minimum)"
   ]
  },
  {
   "cell_type": "code",
   "execution_count": null,
   "metadata": {},
   "outputs": [],
   "source": [
    "# Example of custom function\n",
    "\n",
    "# Let's make a function that takes a single float number as a parameter and returns the square of it.\n",
    "\n",
    "def square(x):\n",
    "    return x*x\n",
    "\n",
    "# Now we can use this function\n",
    "\n",
    "print(\"The square of 3 is\", square(3))\n",
    "print()\n",
    "\n",
    "# Let's test the function with a list of multiple numbers\n",
    "\n",
    "testValues = [-5,-3,0,2,12]\n",
    "# Loop over each value in list\n",
    "for i in testValues:\n",
    "    print(\"The square of\", i, \"is\", square(i))"
   ]
  },
  {
   "cell_type": "markdown",
   "metadata": {},
   "source": [
    "<a id=\"modules\"></a>\n",
    "## Modules"
   ]
  },
  {
   "cell_type": "markdown",
   "metadata": {},
   "source": [
    "Python is widely used in scientific community for computing, modifying and analyzing data, and for these purposes Python is greatly optimized. Part of Python is to use different kind of *modules*, which are files containing definitions (functions) and statements. These modules are imported using **import**-command. The most important modules we're going to use are introduced below."
   ]
  },
  {
   "cell_type": "markdown",
   "metadata": {},
   "source": [
    "<a id=\"numpy\"></a>\n",
    "### Numerical calculus - NumPy"
   ]
  },
  {
   "cell_type": "markdown",
   "metadata": {},
   "source": [
    "NumPy is the fundamental package for scientific computing in Python. For more information, see [NumPy documentation](https://numpy.org/devdocs/user/whatisnumpy.html).\n",
    "\n",
    "**Summary** of useful commands\n",
    "\n",
    "Import\n",
    "```Python\n",
    "import numpy as np\n",
    "```\n",
    "\n",
    "Calculus ( [pi](https://docs.scipy.org/doc/numpy/reference/constants.html), [sqrt](https://docs.scipy.org/doc/numpy/reference/generated/numpy.sqrt.html), [exp](https://docs.scipy.org/doc/numpy/reference/generated/numpy.exp.html), [sin](https://docs.scipy.org/doc/numpy/reference/generated/numpy.sin.html), [sum](https://docs.scipy.org/doc/numpy/reference/generated/numpy.sum.html), [linpace](https://docs.scipy.org/doc/numpy/reference/generated/numpy.linspace.html) )\n",
    "```Python\n",
    "np.pi\n",
    "np.sqrt(x)\n",
    "np.exp(x)\n",
    "np.sin(x)\n",
    "np.sum(array)\n",
    "np.linspace(start,stop,num)\n",
    "```\n"
   ]
  },
  {
   "cell_type": "markdown",
   "metadata": {},
   "source": [
    "<a id=\"pandas\"></a>\n",
    "### Data manipulation - Pandas"
   ]
  },
  {
   "cell_type": "markdown",
   "metadata": {},
   "source": [
    "Pandas is an open source library providing high-performance, easy-to-use data structures and data analysis tools for the Python programming language. For more information, see [Pandas documentation](https://pandas.pydata.org/pandas-docs/stable/index.html).\n",
    "\n",
    "**Summary** of useful commands (df is a variable that containts the pandas-dataframe):\n",
    "\n",
    "Import\n",
    "```Python\n",
    "import pandas as pd\n",
    "```\n",
    "\n",
    "Data reading ( [read_csv](https://pandas.pydata.org/pandas-docs/stable/reference/api/pandas.read_csv.html), [read_table](https://pandas.pydata.org/pandas-docs/stable/reference/api/pandas.read_table.html) )\n",
    "```Python\n",
    "df = pd.read_csv('path')\n",
    "df = pd.read_table('path')\n",
    "```\n",
    "\n",
    "Data inspecting ( [head](https://pandas.pydata.org/pandas-docs/stable/reference/api/pandas.DataFrame.head.html), [len](https://docs.python.org/3/library/functions.html#len), [shape](https://pandas.pydata.org/pandas-docs/stable/reference/api/pandas.DataFrame.shape.html) )\n",
    "```Python\n",
    "df.head(n)\n",
    "len(df)\n",
    "df.shape\n",
    "```\n",
    "\n",
    "Data manipulation ( pick spesific columns, filter data using limits )\n",
    "```Python\n",
    "df.column_name\n",
    "df.['column_name]\n",
    "df[ (df.column_name >= lower_limit) & (df.column_name <= upper_limit)]  \n",
    "```"
   ]
  },
  {
   "cell_type": "markdown",
   "metadata": {},
   "source": [
    "<a id=\"matplotlib\"></a>\n",
    "### Plotting - Matplotlib"
   ]
  },
  {
   "cell_type": "markdown",
   "metadata": {},
   "source": [
    "Matplotlib is a comprehensive library for creating static, animated, and interactive visualizations in Python. For more information, see [Matplotlib documentation](https://matplotlib.org/).\n",
    "\n",
    "**Summary** of useful commands:\n",
    "\n",
    "Import\n",
    "```Python\n",
    "import matplotlib.pyplot as plt\n",
    "```\n",
    "\n",
    "Plot functions ( [plot](https://matplotlib.org/3.1.1/api/_as_gen/matplotlib.pyplot.plot.html), [hist](https://matplotlib.org/3.2.0/api/_as_gen/matplotlib.pyplot.hist.html), [scatter](https://matplotlib.org/3.2.0/api/_as_gen/matplotlib.pyplot.scatter.html), [errorbar](https://matplotlib.org/api/_as_gen/matplotlib.pyplot.errorbar.html) )\n",
    "\n",
    "```Python\n",
    "plt.plot(xdata, ydata, 'style')\n",
    "plt.hist(data, n)\n",
    "plt.scatter(xdata, ydata)\n",
    "plt.errorbar(val1, val2, xerr, yerr)\n",
    "```\n",
    "\n",
    "Formatting ( [figure](https://matplotlib.org/3.2.0/api/_as_gen/matplotlib.pyplot.figure.html), [xscale](https://matplotlib.org/3.2.0/api/_as_gen/matplotlib.pyplot.xscale.html), [xlabel](https://matplotlib.org/3.1.1/api/_as_gen/matplotlib.pyplot.xlabel.html), [title](https://matplotlib.org/3.2.0/api/_as_gen/matplotlib.pyplot.title.html), [legend](https://matplotlib.org/3.1.1/api/_as_gen/matplotlib.pyplot.legend.html) )\n",
    "```Python\n",
    "plt.figure(figsize=[width,height])\n",
    "plt.xscale('log')\n",
    "plt.xlabel('x-axis name')\n",
    "plt.title('title name')\n",
    "plt.legend()\n",
    "```\n",
    "\n",
    "\n",
    "Other ( [show](https://matplotlib.org/3.2.0/api/_as_gen/matplotlib.pyplot.show.html) )\n",
    "```Python\n",
    "plt.show()\n",
    "```"
   ]
  },
  {
   "cell_type": "markdown",
   "metadata": {},
   "source": [
    "<a id=\"scipy\"></a>\n",
    "### Scientific computing - SciPy"
   ]
  },
  {
   "cell_type": "markdown",
   "metadata": {},
   "source": [
    "SciPy library provides many user-friendly and efficient numerical routines, such as routines for numerical integration, interpolation, optimization, linear algebra, and statistics. For more information, see [SciPy documentation](https://www.scipy.org/scipylib/index.html)\n",
    "\n",
    "**Summary** of useful commands (import statements here are separately for each function):\n",
    "\n",
    "Import only the ones you need\n",
    "```Python\n",
    "from scipy.optimize import curve_fit\n",
    "from scipy.integrate import simps\n",
    "from scipy.interpolate import interp1d\n",
    "```\n",
    "\n",
    "Functions ( [curve_fit](https://docs.scipy.org/doc/scipy/reference/generated/scipy.optimize.curve_fit.html), [simps](https://docs.scipy.org/doc/scipy/reference/generated/scipy.integrate.simps.html), [interp1d](https://docs.scipy.org/doc/scipy/reference/generated/scipy.interpolate.interp1d.html) )\n",
    "```Python\n",
    "curve_fit(function, xdata, ydata, initial_guess)\n",
    "simps(y,x)\n",
    "interp1d(x,y,kind='...') # ... can be for example linear, quadratic or cubic \n",
    "```"
   ]
  },
  {
   "cell_type": "markdown",
   "metadata": {},
   "source": [
    "<a id=\"examples\"></a>\n",
    "### Examples"
   ]
  },
  {
   "cell_type": "markdown",
   "metadata": {},
   "source": [
    "#### Simple calculus"
   ]
  },
  {
   "cell_type": "code",
   "execution_count": null,
   "metadata": {
    "scrolled": true
   },
   "outputs": [],
   "source": [
    "# numpy examples\n",
    "\n",
    "import numpy as np\n",
    "\n",
    "number = 100 # you can change this to see what happens\n",
    "print(\"Square root of\",number,\"is\",np.sqrt(number))\n",
    "\n",
    "angle_rad = np.pi\n",
    "angle_deg = np.degrees(angle_rad)\n",
    "print(\"Cosine of\", angle_deg, \"degrees is\", np.cos(angle_rad))"
   ]
  },
  {
   "cell_type": "markdown",
   "metadata": {},
   "source": [
    "#### Using matplotlib"
   ]
  },
  {
   "cell_type": "code",
   "execution_count": null,
   "metadata": {},
   "outputs": [],
   "source": [
    "# Simple matplotlb example\n",
    "\n",
    "import matplotlib.pyplot as plt\n",
    "\n",
    "# Define x-points using np.linspace\n",
    "x = np.linspace(-2,8,10) # 10 points evenly spaced between -2 and 8\n",
    "y = x**2 # x**2 means x squared\n",
    "\n",
    "plt.figure(figsize=(10,5)) # figsize in inches\n",
    "plt.plot(x,y,'ro-', label='dataset') # plot in red dots connected with line. Label is shown in legend\n",
    "plt.xlabel('y-axis label')\n",
    "plt.ylabel('x-axis label')\n",
    "plt.title('title')\n",
    "plt.legend() # show legend\n",
    "plt.show() # show plot"
   ]
  },
  {
   "cell_type": "markdown",
   "metadata": {},
   "source": [
    "#### Plotting a histogram from data in file"
   ]
  },
  {
   "cell_type": "code",
   "execution_count": null,
   "metadata": {},
   "outputs": [],
   "source": [
    "# Pandas and matplotlib example\n",
    "\n",
    "# Let's read sample data from a csv-file '../Data/sample.csv' that contains the birthdays for a group of people. \n",
    "# We want to plot a histogram of the birth months.\n",
    "\n",
    "# first we need to import the necessary modules (in notebooks the import-statements that were run before are \n",
    "# still valid and in that case the statements here wouldn't be necessary)\n",
    "\n",
    "import pandas as pd\n",
    "import matplotlib.pyplot as plt\n",
    "\n",
    "data = pd.read_csv('../Data/sample.csv') # read the data\n",
    "months = data.month              # month-column in csv-file can be selected using data.month or data['month']\n",
    "\n",
    "plt.figure(figsize=(10,5))\n",
    "plt.hist(months,12)              # plot the histogram\n",
    "plt.xlabel('month')              # set label for x-axis\n",
    "plt.ylabel('number of people')   # set label for y-axis\n",
    "plt.show()                       # show the histogram\n"
   ]
  },
  {
   "cell_type": "markdown",
   "metadata": {},
   "source": [
    "#### Fitting a function"
   ]
  },
  {
   "cell_type": "code",
   "execution_count": null,
   "metadata": {
    "scrolled": true
   },
   "outputs": [],
   "source": [
    "# Numpy, matplotlib and scipy example\n",
    "\n",
    "# In this example we fit a quadratic function to a dataset using curve_fit from scipy.optimize.\n",
    "# numpy-library also has ready-made functions for fitting, but it is useful to know how to fit an arbitrary \n",
    "# function to your data.\n",
    "\n",
    "import numpy as np\n",
    "import matplotlib.pyplot as plt\n",
    "from scipy.optimize import curve_fit\n",
    "\n",
    "# This is the function we want to fit to the data.\n",
    "def quadratic(x,a,b,c):\n",
    "    return a*x**2 + b*x + c\n",
    "\n",
    "# This code is just to produce some random noisy data where we need to fit a function. Don't mind this too much.\n",
    "xdata = np.linspace(-10,10,50)\n",
    "y = quadratic(xdata, np.random.uniform(-1,1), np.random.uniform(-1,1), np.random.uniform(-1,1))\n",
    "np.random.seed(5)\n",
    "y_noise = 0.4 * np.random.normal(size=xdata.size)\n",
    "ydata = y + y_noise\n",
    "fig = plt.figure(figsize=(10,5))\n",
    "plt.plot(xdata, ydata, 'r-', label='Data')\n",
    "\n",
    "# The function-fitting is done here\n",
    "p0 = [0.5, 1, -2] # This is the initial guess for parameters a, b and c. It is necessary especially for complicated functions\n",
    "curve, covar = curve_fit(quadratic, xdata, ydata, p0) # curve is now a list of parameters a, b and c\n",
    "[a,b,c] = curve\n",
    "\n",
    "plt.plot(xdata, quadratic(xdata,a,b,c), 'k-', label='Fit')\n",
    "plt.xlabel('x')\n",
    "plt.ylabel('y')\n",
    "plt.legend()\n",
    "plt.show()"
   ]
  },
  {
   "cell_type": "markdown",
   "metadata": {},
   "source": [
    "# CODERUNNER EXERCISES"
   ]
  },
  {
   "cell_type": "markdown",
   "metadata": {},
   "source": [
    "# Week 1 (getting familiar with python)"
   ]
  },
  {
   "cell_type": "markdown",
   "metadata": {},
   "source": [
    "# Average"
   ]
  },
  {
   "cell_type": "markdown",
   "metadata": {},
   "source": [
    "<p>Write a function <b>average( vals )</b> that takes a list of values and returns the average value.</p>"
   ]
  },
  {
   "cell_type": "code",
   "execution_count": null,
   "metadata": {},
   "outputs": [],
   "source": [
    "# possible solution\n",
    "\n",
    "import numpy as np\n",
    "\n",
    "def average( vals ):\n",
    "    return np.sum(vals)/len(vals) # or simply np.mean(vals)"
   ]
  },
  {
   "cell_type": "code",
   "execution_count": null,
   "metadata": {},
   "outputs": [],
   "source": [
    "# test1\n",
    "testlist = [0]\n",
    "print(average(testlist))\n",
    "# expected output:\n",
    "# 0.0\n",
    "\n",
    "# test2\n",
    "testlist = [1,2,3,4]\n",
    "print(average(testlist))\n",
    "# expected output:\n",
    "# 2.5\n",
    "\n",
    "# test1\n",
    "testlist = [-2,-1,0,1,2,3]\n",
    "print(average(testlist))\n",
    "# expected output:\n",
    "# 0.5\n",
    "\n",
    "# test1\n",
    "testlist = [-1.2345, 0.1245, 663.13223, 32847.1111]\n",
    "print(round(average(testlist),2))\n",
    "# expected output:\n",
    "# 8377.28"
   ]
  },
  {
   "cell_type": "markdown",
   "metadata": {},
   "source": [
    "## Exponential"
   ]
  },
  {
   "cell_type": "markdown",
   "metadata": {},
   "source": [
    "<p>Write a function <b>exponential( x, a, b, f0 )</b> that returns the value of the function \\( f(x)=ae^{bx}+f_0 \\).</p>"
   ]
  },
  {
   "cell_type": "code",
   "execution_count": null,
   "metadata": {},
   "outputs": [],
   "source": [
    "# possible solution\n",
    "\n",
    "import numpy as np\n",
    "\n",
    "def exponential( x, a, b, f0 ):\n",
    "    return a*np.exp(b*x) + f0\n",
    "\n",
    "\n",
    "# Hint 1 if fails: Use for exp()-function from numpy-module.\n",
    "# Hint 2 if fails: exp-function can be used like this:\n",
    "# import numpy as np\n",
    "# np.exp(...)\n",
    "# Hint 3 if fails:\n",
    "# import numpy as np\n",
    "# def exponential( x, a, b, f0 ):\n",
    "#     return ... * np.exp(...) + ..."
   ]
  },
  {
   "cell_type": "code",
   "execution_count": null,
   "metadata": {},
   "outputs": [],
   "source": [
    "# test1, x=-1, a=b=1, f0=0\n",
    "x = -1\n",
    "a = b = 1\n",
    "f0 = 0\n",
    "print(round(exponential(x,a,b,f0),2))\n",
    "# expected output:\n",
    "# 0.37\n",
    "\n",
    "# test2, x=b=1, a=0, f0=18\n",
    "print(exponential(1,0,1,18))\n",
    "# expected output:\n",
    "# 18.0\n",
    "\n",
    "# test3, x=3, a=18, b=-0.71, f0=-5.968\n",
    "x = 3\n",
    "a = 18\n",
    "b = -0.71\n",
    "f0  =-5.968\n",
    "print(round(exponential(x,a,b,f0),2))\n",
    "# expected output:\n",
    "# -3.83"
   ]
  },
  {
   "cell_type": "markdown",
   "metadata": {},
   "source": [
    "# Week 2 (particle physics exercises start)"
   ]
  },
  {
   "cell_type": "markdown",
   "metadata": {},
   "source": [
    "## Bin centers"
   ]
  },
  {
   "cell_type": "markdown",
   "metadata": {},
   "source": [
    "<h3>Function that returns the bin centers</h3><p><br></p><p>Write a python function <b>bin_centers( bins )</b> that takes a list of bin edges as argument and <b>returns the bin centers</b>.<br><p>When fitting a distribution to a histogram, a good way is to take advantage of the <b>numpy</b> module's histogram-function, which returns the bin heights and bin edges as arrays. For function fitting, it would be better to use bin centers instead of the edges. Therefore, the function you will write in this exercise can be used later to determine the bin center locations in function fitting exercises. </p>"
   ]
  },
  {
   "cell_type": "code",
   "execution_count": null,
   "metadata": {},
   "outputs": [],
   "source": [
    "# possible solution\n",
    "\n",
    "def bin_centers(bins):\n",
    "    if len(bins) > 1:\n",
    "        return [0.5 * (bins[i] + bins[i+1]) for i in range(len(bins)-1)]\n",
    "    else:\n",
    "        print(\"At least two bins are needed.\")"
   ]
  },
  {
   "cell_type": "code",
   "execution_count": null,
   "metadata": {
    "scrolled": true
   },
   "outputs": [],
   "source": [
    "# test1, evenly spaced positive values\n",
    "bins = [0, 1, 2, 3, 4, 5]\n",
    "print(bin_centers(bins))\n",
    "# expected output: [0.5, 1.5, 2.5, 3.5, 4.5]\n",
    "\n",
    "# test2, evenly spaced mixed values\n",
    "bins = [-10, -6, -2, 2, 6, 10]\n",
    "print(bin_centers(bins))\n",
    "# expected output: [-8.0, -4.0, 0.0, 4.0, 8.0]\n",
    "\n",
    "# test3, real data\n",
    "import numpy as np\n",
    "import pandas as pd\n",
    "data = pd.read_csv('../Data/DoubleMuRun2011A.csv')\n",
    "data_filtered = data[(data.M <= 100) & (data.M >= 80)]\n",
    "inv_mass = data_filtered.M\n",
    "hist, bins = np.histogram(inv_mass,bins=10)\n",
    "print(bin_centers(bins))\n",
    "# expected output: [81.001835, 83.001505, 85.00117499999999, 87.000845, 89.00051500000001, 91.000185, 92.999855, 94.999525, 96.999195, 98.998865]\n",
    "\n",
    "# test4, unevenly spaces values (optional test, fails will most likely be here)\n",
    "bins = [0,1,3,9,21,52]\n",
    "print(bin_centers(bins))\n",
    "# expected output: [0.5, 2.0, 6.0, 15.0, 36.5]\n",
    "\n",
    "# other optional tests: empty list, list with only 1 element (use this if you want to be mean)"
   ]
  },
  {
   "cell_type": "markdown",
   "metadata": {},
   "source": [
    "## Invariant mass"
   ]
  },
  {
   "cell_type": "markdown",
   "metadata": {},
   "source": [
    "<h3>Function that returns the invariant mass</h3><p><br></p><p>Write a python function <b>invariant_mass( pt1, pt2, eta1, eta2, psi1, psi2 )</b> that takes transverse momentums, pseudorapidities and azimuth angles of two particles as parameters and <b>returns the invariant mass</b>. Remember that the invariant mass can be calculated as \\(M=\\sqrt{2p_{T1}p_{T2}(\\cosh(\\eta_1-\\eta_2)-\\cos(\\phi_1-\\phi_2))} \\).</p><p>Hint: You can use square root and trigonometric functions by importing <b>numpy</b> module.<br></p>"
   ]
  },
  {
   "cell_type": "code",
   "execution_count": null,
   "metadata": {},
   "outputs": [],
   "source": [
    "# possible solution\n",
    "\n",
    "import numpy as np\n",
    "\n",
    "def invariant_mass(pt1,pt2,eta1,eta2,phi1,phi2):\n",
    "    return np.sqrt( 2*pt1*pt2* ( np.cosh(eta1-eta2) - np.cos(phi1-phi2) ) )"
   ]
  },
  {
   "cell_type": "code",
   "execution_count": null,
   "metadata": {},
   "outputs": [],
   "source": [
    "# test with artificial parameters\n",
    "pt1,pt2,eta1,eta2,phi1,phi2  =  0,1,2,3,4,5\n",
    "print(round(invariant_mass(pt1,pt2,eta1,eta2,phi1,phi2),2))\n",
    "\n",
    "# expected output: \n",
    "# 0.0\n",
    "\n",
    "# test with artificial parameters\n",
    "pt1,pt2,eta1,eta2,phi1,phi2  =  9,8,7,6,5,4\n",
    "print(round(invariant_mass(pt1,pt2,eta1,eta2,phi1,phi2),2))\n",
    "\n",
    "# expected output: \n",
    "# 12.02\n",
    "\n",
    "# test with data near Z mass\n",
    "pt1,pt2,eta1,eta2,phi1,phi2  =  58.6914, 45.7231, -1.02101, -0.37030, 0.836256, 2.741820\n",
    "print(round(invariant_mass(pt1,pt2,eta1,eta2,phi1,phi2),2))\n",
    "\n",
    "# expected output: \n",
    "# 91.14\n",
    "\n",
    "# test with data near J/psi mass\n",
    "pt1,pt2,eta1,eta2,phi1,phi2  =  6.60896, 17.876452, -0.250095, -0.375014, 0.512346, 0.765667\n",
    "print(round(invariant_mass(pt1,pt2,eta1,eta2,phi1,phi2),2))\n",
    "\n",
    "# expected output: \n",
    "# 3.06\n",
    "\n",
    "# test with more data\n",
    "import pandas as pd\n",
    "df = pd.read_csv('../Data/DoubleMuRun2011A.csv')\n",
    "df2 = df.head(10)\n",
    "inv_mass = invariant_mass(df2.pt1,df2.pt2,df2.eta1,df2.eta2,df2.phi1,df2.phi2)\n",
    "print(inv_mass.round(2))\n",
    "\n",
    "# expected output:\n",
    "# 0    17.49\n",
    "# 1    11.55\n",
    "# 2     9.16\n",
    "# 3    12.48\n",
    "# 4    14.31\n",
    "# 5     6.82\n",
    "# 6    39.53\n",
    "# 7    37.74\n",
    "# 8    10.54\n",
    "# 9     3.11\n",
    "# dtype: float64"
   ]
  }
 ],
 "metadata": {
  "kernelspec": {
   "display_name": "Python 3",
   "language": "python",
   "name": "python3"
  },
  "language_info": {
   "codemirror_mode": {
    "name": "ipython",
    "version": 3
   },
   "file_extension": ".py",
   "mimetype": "text/x-python",
   "name": "python",
   "nbconvert_exporter": "python",
   "pygments_lexer": "ipython3",
   "version": "3.7.5"
  }
 },
 "nbformat": 4,
 "nbformat_minor": 4
}

{
 "cells": [
  {
   "cell_type": "markdown",
   "metadata": {},
   "source": [
    "# LO vs. NLO simulation "
   ]
  },
  {
   "cell_type": "markdown",
   "metadata": {},
   "source": [
    "In this exercise we will get familiar with leading order (LO) and next-to-leading order (NLO) simulation. As you might know, beyond the tree level things can get messy. The NLO Feynman diagrams (diagrams with one loop) need to be taken into account and for instance the cross section calculation becomes harder. The NLO diagrams influence the experimental results as well. \n",
    "\n",
    "Your task this week is to analyse two datasets. One is a ttbar process (a process that produces a top quark and an anti-top quark) simulated in LO and the other is a ttbar process in NLO. These simulations have been made in the framework of CMS detector by following the circumstances of 2016 data taking. This means that we are looking at proton-proton collisions with $\\sqrt{s}$ = 13 TeV center-of-mass energy. \n",
    "\n",
    "In the normalisation use need to know the theoretical cross section of the process. We assume the mass of the top quark to be 172.5 GeV.\n",
    "The latest calculated theoretical cross section is then 831.76 pb.\n",
    "\n",
    "In this exercise we are studying jets. Jets are collimated sprays of hadrons. Since the lifetime of a top quark is very short, it decays into a jet which is then measured. The difference of LO and NLO can be seen for instance in the jet distributions.\n",
    "\n",
    "We have so far used csv files in our studies. In particle physics however we use quite a lot of .root files. Therefore we will get familiar with .root files in this exercise as well. Below is an example of how to read and loop over the data. Note that the data is nested. Each particle collision event may create multiple jets. To find the data for each jet separately one must have two nested loops, one looping over the events and the other looping through the jets of the event.\n",
    "\n",
    "An example of going through the data can be seen below. It saves the transverse momenta of all jets (using a variable called Jets_pt_MCjet) into an array called pts."
   ]
  },
  {
   "cell_type": "code",
   "execution_count": 36,
   "metadata": {},
   "outputs": [
    {
     "name": "stdout",
     "output_type": "stream",
     "text": [
      "The pT of the first jet is 132.37 GeV\n"
     ]
    }
   ],
   "source": [
    "%matplotlib inline\n",
    "import pandas as pd\n",
    "import numpy as np\n",
    "import matplotlib.pyplot as plt\n",
    "import uproot\n",
    "\n",
    "# Read the data sets tt_LO.csv and tt_NLO.csv\n",
    "\n",
    "f_NLO = uproot.open('tt_NLO.root')\n",
    "\n",
    "tree_NLO = f_NLO.get('Events')\n",
    "\n",
    "f_LO = uproot.open('tt_LO.root')\n",
    "\n",
    "tree_LO = f_LO.get('Events')\n",
    "\n",
    "#Here is an example how to loop over all jet pTs.\n",
    "\n",
    "jet_pts = []\n",
    "\n",
    "for event_pts in tree_NLO.array('Jets_pt_MCjet'): \n",
    "  for pt in event_pts:\n",
    "    jet_pts.append(pt)\n",
    "\n",
    "print('The pT of the first jet is', round(pts[0],2), 'GeV') # 132.37"
   ]
  },
  {
   "cell_type": "code",
   "execution_count": 41,
   "metadata": {},
   "outputs": [
    {
     "name": "stdout",
     "output_type": "stream",
     "text": [
      "406\n",
      "406\n"
     ]
    }
   ],
   "source": [
    "print(len(f_NLO.get('Events')))\n",
    "for event in f_NLO.get('Events'):\n",
    "print(len(tree_NLO.array('Jets_pt_MCjet')))"
   ]
  },
  {
   "cell_type": "markdown",
   "metadata": {},
   "source": [
    "The first task is to plot the numbers of jets per event in a histogram and compare the obtained distributions for LO and NLO. In other words, loop over the events and for each event calculate the number of jets (entries) it contains.\n",
    "\n",
    "IMPORTANT: The simulated events need to be weighted. Each event has a weight assigned to it which can be found using variable GenWeight. You need to loop over the events to collect an array of weights as well. Use that as input for the argument 'weights' when plotting the histogram using plt.hist. In the NLO simulation some weights are negative. The negative weights are an artifact of the cross section calculation. There some terms get a negative weight from a fermion loop.  Also normalize the histograms since the two data sets have different amounts of events. \n",
    "\n",
    "Return the averages and standard deviations for both datasets. Does including NLO Feynman diagrams actually make a difference in practise?"
   ]
  },
  {
   "cell_type": "code",
   "execution_count": 26,
   "metadata": {
    "scrolled": true
   },
   "outputs": [
    {
     "data": {
      "image/png": "[encoded data removed]",
      "text/plain": [
       "<matplotlib.figure.Figure at 0x7f1e823524a8>"
      ]
     },
     "metadata": {
      "needs_background": "light"
     },
     "output_type": "display_data"
    },
    {
     "name": "stdout",
     "output_type": "stream",
     "text": [
      "Average for LO:  7.083926031294452\n",
      "Average for NLO:  7.384236453201971\n",
      "SD for LO:  2.2389441870588827\n",
      "SD for NLO:  2.3811964089882536\n"
     ]
    }
   ],
   "source": [
    "%matplotlib inline\n",
    "import pandas as pd\n",
    "import numpy as np\n",
    "import matplotlib.pyplot as plt\n",
    "import uproot\n",
    "\n",
    "# Plot the number of MC jets after cuts for LO and NLO\n",
    "\n",
    "weights_jets_NLO = []\n",
    "weights_jets_LO = []\n",
    "jets_per_event_NLO = []\n",
    "jets_per_event_LO = []\n",
    "\n",
    "for jets_pt in tree_NLO.array('Jets_pt_MCjet'):\n",
    "    jets_per_event_NLO.append(len(jets_pt))\n",
    "    \n",
    "for weight in tree_NLO.array('GenWeight'):\n",
    "    weights_jets_NLO.append(weight)\n",
    "    \n",
    "for jets_pt in tree_LO.array('Jets_pt_MCjet'):\n",
    "    jets_per_event_LO.append(len(jets_pt))\n",
    "    \n",
    "for weight in tree_LO.array('GenWeight'):\n",
    "    weights_jets_LO.append(weight)\n",
    "    \n",
    "\n",
    "bins = np.arange(0, max(jets_per_event_LO) + 1.5) - 0.5\n",
    "plt.hist(jets_per_event_LO, bins=bins, weights=weights_jets_LO, color='b', density=True, alpha=0.5, label='LO')\n",
    "plt.hist(jets_per_event_NLO, bins=bins, weights=weights_jets_NLO, color='r', density=True, alpha=0.5, label='NLO')\n",
    "\n",
    "\n",
    "plt.title('Number of MC Jets')\n",
    "plt.legend()\n",
    "plt.show()\n",
    "\n",
    "print('Average for LO: ', np.average(jets_per_event_LO))\n",
    "print('Average for NLO: ', np.average(jets_per_event_NLO))\n",
    "print('SD for LO: ', np.std(jets_per_event_LO))\n",
    "print('SD for NLO: ', np.std(jets_per_event_NLO))"
   ]
  },
  {
   "cell_type": "markdown",
   "metadata": {},
   "source": [
    "Next we will focus on the LO dataset.\n",
    "\n",
    "Cut the dataset so that you only accept jets that have a pseudorapidity $-2.1<\\eta<2.1$. The variable is named Jets_eta_MCjet. Also require that the transverse momentum of the jets is between $50\\textrm{ GeV}<p_T<150\\textrm{ GeV}$ (the variable is Jets_pt_MCjet). Plot the transverse momentum for the accepted events in a histogram. Again use the weights (all jets in the same event have the same weight) and normalize the pT distribution. Use 50 bins for the histogram."
   ]
  },
  {
   "cell_type": "code",
   "execution_count": 29,
   "metadata": {
    "scrolled": true
   },
   "outputs": [
    {
     "data": {
      "image/png": "[encoded data removed]",
      "text/plain": [
       "<matplotlib.figure.Figure at 0x7f1e8204a1d0>"
      ]
     },
     "metadata": {
      "needs_background": "light"
     },
     "output_type": "display_data"
    }
   ],
   "source": [
    "%matplotlib inline\n",
    "import pandas as pd\n",
    "import numpy as np\n",
    "import matplotlib.pyplot as plt\n",
    "import uproot\n",
    "\n",
    "# Plot the LO jet pT after cuts\n",
    "\n",
    "LO_pts = []\n",
    "LO_etas = []\n",
    "number_of_jets = []\n",
    "weights_jets_LO = []\n",
    "weights_LO = []\n",
    "jets_per_event_LO = []           \n",
    "\n",
    "for i in range(tree_LO.array('Jets_pt_MCjet').shape[0]):\n",
    "    for j in range(tree_LO.array('Jets_eta_MCjet')[i].shape[0]):\n",
    "        eta = tree_LO.array('Jets_eta_MCjet')[i][j]\n",
    "        pt = tree_LO.array('Jets_pt_MCjet')[i][j]\n",
    "        if eta > -2.1 and eta < 2.1 and pt > 50 and pt < 150:\n",
    "            LO_pts.append(pt)\n",
    "            weights_LO.append(tree_LO.array('GenWeight')[i])\n",
    "\n",
    "bin_no = 50\n",
    "plt.hist(LO_pts, bins=bin_no, weights=weights_LO, color='b', density=True, label='LO')\n",
    "\n",
    "plt.title('Selected MC Jet pT')\n",
    "plt.legend()\n",
    "plt.show()"
   ]
  },
  {
   "cell_type": "markdown",
   "metadata": {},
   "source": [
    "The data should look like it could be reasonably modelled by an exponentially decaying function. Let's train curve fitting once more and try to fit an exponential curve $c_1e^{c_2x}$ to the data ($c_1$ and $c_2$ are constants).\n",
    "\n",
    "We have used scipy.curve_fit before, but here we can be smarter than that. The easiest way to do this is to realize that an exponential curve is just a straight line after taking a logarithm. Therefore you can take the natural\n",
    "logarithms of bin heights and fit a straight line $ax+b$ to them using [numpy.polyfit](https://docs.scipy.org/doc/numpy/reference/generated/numpy.polyfit.html) (fitting polynomials is in general quite easy and much less frustrating than arbitrary functions). The exponential curve is then $e^be^{ax}$. Check by plotting that the curve fits reasonably well to the data. Return the parameters $a$ and $b$ (do NOT return $e^b$ by accident)."
   ]
  },
  {
   "cell_type": "code",
   "execution_count": 10,
   "metadata": {
    "scrolled": true
   },
   "outputs": [
    {
     "name": "stdout",
     "output_type": "stream",
     "text": [
      "[-0.02822793 -2.09486934]\n"
     ]
    },
    {
     "data": {
      "image/png": "[encoded data removed]",
      "text/plain": [
       "<matplotlib.figure.Figure at 0x7f1e820b2780>"
      ]
     },
     "metadata": {
      "needs_background": "light"
     },
     "output_type": "display_data"
    }
   ],
   "source": [
    "# Fit an exponential curve to the data. \n",
    "\n",
    "bars, counts, bins = plt.hist(LO_pts, bins=bin_no, weights=weights_LO, color='b', density=True, label='LO')\n",
    "\n",
    "x = np.linspace(50, 150, bin_no)\n",
    "\n",
    "par = np.polyfit(x, np.log(bars), 1)\n",
    "print(par)\n",
    "plt.plot(x, np.exp(par[1])*np.exp(par[0]*x), 'r')\n",
    "plt.title('Selected MC Jet pT')\n",
    "plt.legend()\n",
    "plt.show()"
   ]
  }
 ],
 "metadata": {
  "kernelspec": {
   "display_name": "Python 2",
   "language": "python",
   "name": "python2"
  },
  "language_info": {
   "codemirror_mode": {
    "name": "ipython",
    "version": 3
   },
   "file_extension": ".py",
   "mimetype": "text/x-python",
   "name": "python",
   "nbconvert_exporter": "python",
   "pygments_lexer": "ipython3",
   "version": "3.6.9"
  }
 },
 "nbformat": 4,
 "nbformat_minor": 2
}

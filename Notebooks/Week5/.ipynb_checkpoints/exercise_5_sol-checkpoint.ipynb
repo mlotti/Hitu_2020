{
 "cells": [
  {
   "cell_type": "markdown",
   "metadata": {},
   "source": [
    "# LO vs. NLO simulation "
   ]
  },
  {
   "cell_type": "markdown",
   "metadata": {},
   "source": [
    "In this exercise we will get familiar with leading order (LO) and next-to-leading order (NLO) simulation. As you might know, beyond the tree level things can get messy. The NLO Feynman diagrams (diagrams with one loop) need to be taken into account and for instance the cross section calculation becomes harder. The NLO diagrams influence the experimental results as well. \n",
    "\n",
    "Your task this week is to analyse two datasets. One is a ttbar process (a process that produces a top quark and an anti-top quark) simulated in LO and the other is a ttbar process in NLO. These simulations have been made in the framework of CMS detector by following the circumstances of 2016 data taking. This means that we are looking at proton-proton collisions with $\\sqrt{s}$ = 13 TeV center-of-mass energy. \n",
    "\n",
    "In the normalisation use need to know the theoretical cross section of the process. We assume the mass of the top quark to be 172.5 GeV.\n",
    "The latest calculated theoretical cross section is then 831.76 pb.\n",
    "\n",
    "In this exercise we are studying jets. Jets are collimated sprays of hadrons. Since the lifetime of a top quark is very short, it decays into a jet which is then measured. The difference of LO and NLO can be seen for instance in the jet distributions.\n",
    "\n",
    "We have so far used csv files in our studies. In particle physics however we use quite a lot of .root files. Therefore we will get familiar with .root files in this exercise as well. Below is an example of how to read and loop over the data. Note that the data is nested. Each particle collision event may create multiple jets. To find the data for each jet separately one must have two nested loops, one looping over the events and the other looping through the jets of the event.\n",
    "\n",
    "An example of going through the data can be seen below. It saves the transverse momentum and pseudorapidity of each jet to their own lists. The transverse momenta are obtained using a variable called 'Jets_pt_MCjet' and the psedurapidities using 'Jets_eta_MCjet'."
   ]
  },
  {
   "cell_type": "code",
   "execution_count": 114,
   "metadata": {},
   "outputs": [],
   "source": [
    "%matplotlib inline\n",
    "import numpy as np\n",
    "import matplotlib.pyplot as plt\n",
    "import uproot\n",
    "\n",
    "# Read the data sets tt_LO.csv and tt_NLO.csv\n",
    "\n",
    "f_NLO = uproot.open('tt_NLO.root')\n",
    "tree_NLO = f_NLO.get('Events')\n",
    "f_LO = uproot.open('tt_LO.root')\n",
    "tree_LO = f_LO.get('Events')\n",
    "\n",
    "#Here is an example of how to gather jet pts:\n",
    "\n",
    "weights_LO = [] \n",
    "weights_NLO = []\n",
    "        \n",
    "for weight in tree_LO.array('GenWeight'): \n",
    "    weights.append(weight)\n",
    "    \n",
    "for weight in tree_NLO.array('GenWeight'): \n",
    "    weights.append(weight)\n",
    "    \n",
    "#print(jet_pts)\n",
    "\n",
    "with open('weights_LO.txt', 'w') as f:\n",
    "    f.write('weight_LO')\n",
    "    for weight in weights_LO:\n",
    "        f.write('\\n')\n",
    "        f.write(weight)\n",
    "\n"
   ]
  },
  {
   "cell_type": "code",
   "execution_count": 102,
   "metadata": {},
   "outputs": [
    {
     "name": "stdout",
     "output_type": "stream",
     "text": [
      "The pT of the first jet in the first event is 79.74 GeV\n"
     ]
    }
   ],
   "source": [
    "events_LO = []\n",
    "\n",
    "# An example of how to read the pt values into a 2D array\n",
    "with open('tt_LO_pt.txt', 'r') as f:\n",
    "    for line in f.readlines():\n",
    "        event = line.rstrip('\\n').split(',')\n",
    "        event = [float(i) for i in event]\n",
    "        events.append(event)\n",
    "            \n",
    "print('The pT of the first jet in the first event is', round(events[0][0], 2), 'GeV') # 79.74"
   ]
  },
  {
   "cell_type": "markdown",
   "metadata": {},
   "source": [
    "### Part 1: LO and NLO jet counts\n",
    "\n",
    "The first task is to plot the numbers of jets per event in a histogram and compare the obtained distributions for LO and NLO. In other words, loop over the events and for each event calculate the number of jets (entries) it contains.\n",
    "\n",
    "We want to have a lower limit of transverse momentum for jets to be included in our analysis. Check from Moodle at \"Week 5 coding questions\" which cut you should use. Only count the jets that have a higher pT than your cut.\n",
    "\n",
    "NOTE: The simulated events need to be weighted. Each event has a weight assigned to it which can be found using variable GenWeight. You need to loop over the events to collect an array of weights as well. Use that as input for the argument 'weights' when plotting the histogram using plt.hist. In the NLO simulation you might notice that some weights are negative. The negative weights are an artifact of the cross section calculation. There some terms get a negative weight from a fermion loop.  Also normalize the histograms.\n",
    "\n",
    "Return the averages and standard deviations for both datasets. Does including NLO Feynman diagrams actually make a difference in practice?"
   ]
  },
  {
   "cell_type": "code",
   "execution_count": 67,
   "metadata": {
    "scrolled": true
   },
   "outputs": [
    {
     "data": {
      "image/png": "[encoded data removed]",
      "text/plain": [
       "<matplotlib.figure.Figure at 0x7fd462c7ab00>"
      ]
     },
     "metadata": {
      "needs_background": "light"
     },
     "output_type": "display_data"
    },
    {
     "name": "stdout",
     "output_type": "stream",
     "text": [
      "Average for LO:  1.7140825035561877\n",
      "Average for NLO:  1.9064039408866995\n",
      "SD for LO:  1.0557238038189345\n",
      "SD for NLO:  1.110233798829457\n"
     ]
    }
   ],
   "source": [
    "%matplotlib inline\n",
    "import numpy as np\n",
    "import matplotlib.pyplot as plt\n",
    "import uproot\n",
    "\n",
    "# Plot the number of MC jets after cuts for LO and NLO\n",
    "\n",
    "weights_jets_NLO = []\n",
    "weights_jets_LO = []\n",
    "jets_per_event_NLO = []\n",
    "jets_per_event_LO = []\n",
    "\n",
    "pt_cut = 60\n",
    "\n",
    "# Collect NLO jet numbers\n",
    "for jets_pt in tree_NLO.array('Jets_pt_MCjet'):\n",
    "    i = 0\n",
    "    for event_pt in jets_pt:\n",
    "        if event_pt > pt_cut:\n",
    "            i += 1\n",
    "    jets_per_event_NLO.append(i)\n",
    "    \n",
    "# Collect NLO weights\n",
    "for weight in tree_NLO.array('GenWeight'):\n",
    "    weights_jets_NLO.append(weight)\n",
    "    \n",
    "# Collect LO jet numbers\n",
    "for jets_pt in tree_LO.array('Jets_pt_MCjet'):\n",
    "    i = 0\n",
    "    for event_pt in jets_pt:\n",
    "        if event_pt > pt_cut:\n",
    "            i += 1\n",
    "    jets_per_event_LO.append(i)\n",
    "    \n",
    "# Collect LO weights\n",
    "for weight in tree_LO.array('GenWeight'):\n",
    "    weights_jets_LO.append(weight)\n",
    "    \n",
    "# Plot\n",
    "bins = np.arange(0, max(jets_per_event_LO) + 1.5) - 0.5\n",
    "plt.hist(jets_per_event_LO, bins=bins, weights=weights_jets_LO, color='b', density=True, alpha=0.5, label='LO')\n",
    "plt.hist(jets_per_event_NLO, bins=bins, weights=weights_jets_NLO, color='r', density=True, alpha=0.5, label='NLO')\n",
    "plt.title('Number of MC Jets')\n",
    "plt.legend()\n",
    "plt.show()\n",
    "\n",
    "print('Average for LO: ', np.average(jets_per_event_LO))\n",
    "print('Average for NLO: ', np.average(jets_per_event_NLO))\n",
    "print('SD for LO: ', np.std(jets_per_event_LO))\n",
    "print('SD for NLO: ', np.std(jets_per_event_NLO))"
   ]
  },
  {
   "cell_type": "markdown",
   "metadata": {},
   "source": [
    "### Part 2: Plotting pT\n",
    "\n",
    "In this part we will take a look at the transverse momenta of individual jets in the LO dataset. Plot the transverse momentum for the accepted jets in a histogram. In LO dataset we'll be fine without using weights so no need to use them this time. Normalize the pT distribution. Use 50 bins for the histogram. \n",
    "\n",
    "(Check from Moodle whether you should use the NLO or the LO dataset. Choose this time the accepted jets using both the momentum of the particles and their pseudorapidities as discriminators. The ranges which you should use are also on Moodle)"
   ]
  },
  {
   "cell_type": "code",
   "execution_count": 80,
   "metadata": {
    "scrolled": true
   },
   "outputs": [
    {
     "data": {
      "image/png": "[encoded data removed]",
      "text/plain": [
       "<matplotlib.figure.Figure at 0x7fd464dda828>"
      ]
     },
     "metadata": {
      "needs_background": "light"
     },
     "output_type": "display_data"
    }
   ],
   "source": [
    "%matplotlib inline\n",
    "import numpy as np\n",
    "import matplotlib.pyplot as plt\n",
    "import uproot\n",
    "\n",
    "# Plot the jet pT after cuts\n",
    "\n",
    "pt_lower_lim = 50\n",
    "pt_upper_lim = 200\n",
    "bin_no = 50\n",
    "\n",
    "pts = []\n",
    "weights = []\n",
    "accepted_jets_per_event = []\n",
    "\n",
    "for event_pts in tree_LO.array('Jets_pt_MCjet'): \n",
    "    i = 0\n",
    "    for pt in event_pts:\n",
    "        if pt > pt_lower_lim and pt < pt_upper_lim:\n",
    "            pts.append(pt)\n",
    "            i += 1\n",
    "    accepted_jets_per_event.append(i)\n",
    "       \n",
    "plt.hist(pts, bins=bin_no, color='b', density=True, label='LO')\n",
    "\n",
    "plt.title('Selected MC Jet pT')\n",
    "plt.legend()\n",
    "plt.show()"
   ]
  },
  {
   "cell_type": "markdown",
   "metadata": {},
   "source": [
    "### Part 3: Fitting an exponential\n",
    "\n",
    "The data you plotted should look like it could be reasonably modelled by an exponentially decaying function. Let's train curve fitting once more and try to fit an exponential curve $c_1e^{c_2x}$ to the data ($c_1$ and $c_2$ are constants).\n",
    "\n",
    "We have used scipy.curve_fit before, but here we can be smarter than that. The easiest way to do this is to realize that an exponential curve is just a straight line after taking a logarithm. Therefore you can take the natural\n",
    "logarithms of bin heights and fit a straight line $ax+b$ to them using [numpy.polyfit](https://docs.scipy.org/doc/numpy/reference/generated/numpy.polyfit.html) (fitting polynomials is in general quite easy and much less frustrating than arbitrary functions). The exponential curve is then $e^be^{ax}$.\n",
    "\n",
    "Write a function exponential fit which takes as inputs 'heights' and 'bin_edges', the first two return values given by plt.hist. It calculates the histogram centers and then fits a line to log(heights) using np.polyfit. Return the values $a$ and $e^b$ (NOT just b) **in this order**. Return two separate values, not a list. You can return multiple values by separating them with a comma.\n",
    "\n",
    "**Submit** the function via Moodle."
   ]
  },
  {
   "cell_type": "code",
   "execution_count": 81,
   "metadata": {},
   "outputs": [],
   "source": [
    "# Write a function exponential_fit\n",
    "\n",
    "def exponential_fit(heights, bin_edges):\n",
    "    bin_centers = [0.5 * (bin_edges[i] + bin_edges[i+1]) for i in range(len(bin_edges)-1)]\n",
    "    par = np.polyfit(bin_centers, np.log(heights), 1)\n",
    "    return par[0], np.exp(par[1])"
   ]
  },
  {
   "cell_type": "markdown",
   "metadata": {},
   "source": [
    "Check by plotting that the curve created by your function fits reasonably well to the data. Return the parameters $a$ and $e^b$ for your data."
   ]
  },
  {
   "cell_type": "code",
   "execution_count": 82,
   "metadata": {
    "scrolled": true
   },
   "outputs": [
    {
     "name": "stdout",
     "output_type": "stream",
     "text": [
      "a: -0.031643078020762674\n",
      "e^b: 0.15690504277525016\n"
     ]
    },
    {
     "data": {
      "image/png": "[encoded data removed]",
      "text/plain": [
       "<matplotlib.figure.Figure at 0x7fd462b20b38>"
      ]
     },
     "metadata": {
      "needs_background": "light"
     },
     "output_type": "display_data"
    }
   ],
   "source": [
    "# Fit an exponential curve to the data. \n",
    "\n",
    "heights, bin_edges, patches = plt.hist(pts, bins=bin_no, color='b', density=True, label='LO')\n",
    "\n",
    "a, eb = exponential_fit(heights, bin_edges)\n",
    "\n",
    "print('a:', a)\n",
    "print('e^b:', eb)\n",
    "\n",
    "x = np.linspace(bin_edges[0], bin_edges[-1], 1000)\n",
    "\n",
    "plt.plot(x, eb*np.exp(a*x), 'r')\n",
    "plt.title('Selected MC Jet pT')\n",
    "plt.legend()\n",
    "plt.show()"
   ]
  }
 ],
 "metadata": {
  "kernelspec": {
   "display_name": "Python 2",
   "language": "python",
   "name": "python2"
  },
  "language_info": {
   "codemirror_mode": {
    "name": "ipython",
    "version": 3
   },
   "file_extension": ".py",
   "mimetype": "text/x-python",
   "name": "python",
   "nbconvert_exporter": "python",
   "pygments_lexer": "ipython3",
   "version": "3.6.9"
  }
 },
 "nbformat": 4,
 "nbformat_minor": 2
}

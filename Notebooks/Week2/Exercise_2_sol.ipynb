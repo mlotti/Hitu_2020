{
 "cells": [
  {
   "cell_type": "markdown",
   "metadata": {},
   "source": [
    "# Particle physics data-analysis with CMS open data"
   ]
  },
  {
   "cell_type": "markdown",
   "metadata": {},
   "source": [
    "This week we will use real data from CMS experiment at CERN for a simple particle physics data analysis. The goal of the exercise is to discover the appearance of a particle by making a histogram from the _invariant mass_ values of muon pairs detected in the CMS detector. In the following weeks, we will determine the lifetime of a particle by fitting a Breit-Wigner distribution function to the histogram and study the effect of pseudorapidity on the mass distribution.\n",
    "\n",
    "The structure of this week's exercise is the following:\n",
    "- Theory background\n",
    "- Calculation of invariant masses\n",
    "- Making and analyzing the histogram\n",
    "\n",
    "Now take a relaxed position and read the theory background first. Understanding the theory is essential for reaching the goal and learning from the exercise. So take your time and enjoy the fascination of particle physics!"
   ]
  },
  {
   "cell_type": "markdown",
   "metadata": {},
   "source": [
    "## Theory background"
   ]
  },
  {
   "cell_type": "markdown",
   "metadata": {},
   "source": [
    "Particle physics is the field of physics where structures of matter and radiation and interactions between them are studied. In experimental particle physics research is made by accelerating particles and colliding them to other particles or solid targets. This is done with _particle accelerators_. The collisions are examined with _particle detectors_.\n",
    "\n",
    "World's biggest particle accelerator, Large Hadron Collider (LHC), is located at CERN, the European Organization for Nuclear Research. LHC is 27 kilometers long circle-shaped synchrotron accelerator and it is located in a tunnel 100 meters underground on the border of France and Switzerland (see Figure 1)."
   ]
  },
  {
   "cell_type": "markdown",
   "metadata": {},
   "source": [
    "<figure>\n",
    "    <img src=\"../images/LHC.png\" alt=\"image missing\" style=\"height: 350px\" />\n",
    "    <figcaption>Figure 1: The Large Hadron Collider and the four detectors around it. &copy; <a href=\"https://cds.cern.ch/record/1708847\">CERN</a> [1]</figcaption>\n",
    "</figure>"
   ]
  },
  {
   "cell_type": "markdown",
   "metadata": {
    "slideshow": {
     "slide_type": "slide"
    }
   },
   "source": [
    "In 2012, ATLAS and CMS experiments at CERN announced that they had observed a new particle which mass was equal to the predicted mass of the Higgs boson. Higgs boson and the Higgs field related to it explain the origin of the mass of particles. In 2013 Peter Higgs and François Englert, who predicted the Higgs boson theoretically, were awarded the Nobel prize in physics."
   ]
  },
  {
   "cell_type": "markdown",
   "metadata": {},
   "source": [
    "### Accelerating particles"
   ]
  },
  {
   "cell_type": "markdown",
   "metadata": {},
   "source": [
    "The LHC mainly accelerates protons. The proton source of the LHC is a bottle of hydrogen where protons are produced by stripping the electrons away from the hydrogen atoms with help of an electric field.\n",
    "\n",
    "Before the protons arrive in the LHC they will be accelerated with electric fields and directed with magnetic fields in Linac 2, Proton Synchrotron Booster, Proton Synchrotron and Super Proton Synchrotron accelerators. \n",
    "\n",
    "After pre-accelerating the protons, they are directed to LHC. At this stage, protons have gained energy of 450 GeV. Protons will be directed into constantly spread bunches in two different proton beams. Each beam contains 2808 proton bunches located about 7,5 meters away from each other. Each of these bunches holds $1\\text{,}2\\cdot 10^{11}$ protons. The beams will circulate in opposite directions in two different vacuum tubes. Figure 2 shows part of the LHC accelerator opened with the two vacuum tubes inside. Each proton beam will reach the energy of about 7 TeV (7000 GeV) in LHC."
   ]
  },
  {
   "cell_type": "markdown",
   "metadata": {},
   "source": [
    "<figure>\n",
    "    <img src=\"../images/LHC2.jpg\" alt=\"image missing\" style=\"height: 350px\" />\n",
    "    <figcaption> Figure 2: Part of the LHC accelerator opened. &copy; <a href=\"https://cds.cern.ch/record/905940\">CERN</a> [2]</figcaption>\n",
    "</figure>"
   ]
  },
  {
   "cell_type": "markdown",
   "metadata": {},
   "source": [
    "Particle collisions are created by crossing the two beams that are heading in opposite directions. When two proton bunches cross not all of the protons collide with each other. Only about 40 protons per bunch will collide and create about 20 collisions. Because the bunches are traveling so fast, there will be about 40 million bunch crosses per one second in the LHC which means that there will be 800 million proton collisions every second in the LHC. That's a lot of action!\n",
    "\n",
    "The maximum energy in collisions is 14 TeV. However, in most cases, the collision energy is smaller than that because when protons collide it is the quarks and gluons which collide with each other. So all of the energy of the protons won't be transmitted to the collision.\n",
    "\n",
    "When the protons collide the collision energy can be transformed into mass ($E=mc^2$). New particles may be produced in the collisions. By examining and measuring the particles created in collisions, researchers are trying to understand better, for example, dark matter, antimatter and the constitution of all matter.\n",
    "\n",
    "Figure 3 shows a visualization of a collision event in the CMS detector."
   ]
  },
  {
   "cell_type": "markdown",
   "metadata": {},
   "source": [
    "<figure>\n",
    "    <img src=\"../images/eventdisplay.png\" alt=\"image missing\" style=\"height: 450px\" />\n",
    "    <figcaption> Figure 3: Collision event in CMS detector.</figcaption>\n",
    "</figure>"
   ]
  },
  {
   "cell_type": "markdown",
   "metadata": {},
   "source": [
    "### Video"
   ]
  },
  {
   "cell_type": "markdown",
   "metadata": {},
   "source": [
    "The acceleration and collision processes are summarised well in the short video below. Watch the video from the start until 1:15 to get an idea of these processes. You can start the video by running the code cell below (click the cell and then press CTRL + ENTER)."
   ]
  },
  {
   "cell_type": "code",
   "execution_count": 11,
   "metadata": {},
   "outputs": [
    {
     "data": {
      "text/html": [
       "<iframe width=\"840\" height=\"473\" src=\"https://www.youtube.com/embed/pQhbhpU9Wrg\" frameborder=\"0\" allow=\"accelerometer; autoplay; encrypted-media; gyroscope; picture-in-picture\" allowfullscreen></iframe>"
      ],
      "text/plain": [
       "<IPython.core.display.HTML object>"
      ]
     },
     "execution_count": 11,
     "metadata": {},
     "output_type": "execute_result"
    }
   ],
   "source": [
    "from IPython.display import HTML\n",
    "\n",
    "HTML('<iframe width=\"840\" height=\"473\" src=\"https://www.youtube.com/embed/pQhbhpU9Wrg\" frameborder=\"0\" allow=\"accelerometer; autoplay; encrypted-media; gyroscope; picture-in-picture\" allowfullscreen></iframe>')"
   ]
  },
  {
   "cell_type": "markdown",
   "metadata": {},
   "source": [
    "### Examining particle collisions"
   ]
  },
  {
   "cell_type": "markdown",
   "metadata": {},
   "source": [
    "Particle collisions are examined with _particle detectors_. In LHC particle beams are crossed in four different sections. These sections are the locations of four particle detectors: ATLAS, LHCb, ALICE and CMS (see Figure 1). This exercise focuses on the CMS detector and the data it collects.\n",
    "\n",
    "CMS, the Compact Muon Solenoid, is a general-purpose detector. Goals of the CMS are for example studying the standard model of particle physics, searching for extra dimensions and searching for particles that could make up dark matter.\n",
    "\n",
    "In other words, the goal of the CMS detector is to detect particles that are created in collisions and measure different quantities from them. CMS consists of different detectors that can detect and measure different particles. The structure of the CMS detector is shown in Figure 4."
   ]
  },
  {
   "cell_type": "markdown",
   "metadata": {},
   "source": [
    "<figure>\n",
    "    <img src=\"../images/CMS.jpg\" alt=\"image missing\" style=\"height: 360px\" />\n",
    "    <figcaption> Figure 4: CMS detector opened. &copy; <a href=\"https://cds.cern.ch/record/1433717\">CERN</a> [3]</figcaption>\n",
    "</figure>"
   ]
  },
  {
   "cell_type": "markdown",
   "metadata": {},
   "source": [
    "The detectors in CMS form an onion-like structure which ensures that as many particles as possible from the collision are detected.\n",
    "\n",
    "Different particles act differently in the CMS detectors. Figure 5 shows the cross-section of CMS. Proton beams would travel in and out of the plane. Figure 5 also demonstrates how different particles, that were created in a collision, would proceed in CMS."
   ]
  },
  {
   "cell_type": "markdown",
   "metadata": {},
   "source": [
    "<figure>\n",
    "    <img src=\"../images/CMS2.gif\" alt=\"image missing\" style=\"height: 350px\" />\n",
    "    <figcaption> Figure 5: The cross-section of the CMS detector. &copy; <a href=\"https://cms-docdb.cern.ch/cgi-bin/PublicDocDB/ShowDocument?docid=4172\">CERN</a> [4]</figcaption>\n",
    "</figure>"
   ]
  },
  {
   "cell_type": "markdown",
   "metadata": {},
   "source": [
    "The innermost part is the silicon tracker that makes it possible to reconstruct trajectories of charged particles. Charged particles interact electromagnetically with the tracker and make the tracker create an electric pulse. An intense magnetic field bends the trajectories of the charged particles. With the curvature of the trajectories shown by the pulses created in the tracker, it is possible to calculate the momenta of the charged particles.\n",
    "\n",
    "Particle energies can be measured with the help of the calorimeters. Electrons and photons will stop at the Electromagnetic Calorimeter (ECAL). Hadrons such as example protons and neutrons will pass through the ECAL but will be stopped in the Hadron Calorimeter (HCAL).\n",
    "\n",
    "ECAL is made from lead tungstate crystals that will produce light when electrons and photons pass through them. The amount of light produced is proportional to the energy of the particle. Therefore, it is possible to determine the energy of the particle stopped in ECAL with photodetectors. Also, the operation of the HCAL is based on detecting light.\n",
    "\n",
    "Only muons and weakly interacting particles like neutrinos will pass both the ECAL and HCAL. Energies and momenta of muons can be determined with the muon chambers. The detection of the momentum is based on electrical pulses that muons create in different sections of the muon chambers. Energies of muons can't be measured directly, but the energies will be determined by calculating them from other measured quantities.\n",
    "\n",
    "Neutrinos can't be detected directly with the CMS, but their existence can be derived with the help of missing energy. The total energy of the particles detected in a collision may be smaller than the energy before the collision. This conflicts with the energy conservation law. This indicates that something has been left undetected in the collision and, therefore, there is a possibility that neutrons were created in the collision."
   ]
  },
  {
   "cell_type": "markdown",
   "metadata": {},
   "source": [
    "### Recording the data"
   ]
  },
  {
   "cell_type": "markdown",
   "metadata": {},
   "source": [
    "As mentioned above, there happens about billion particle collision in the CMS every second. The detector can detect all of these but it would be impossible to record all data from these collisions. Instead right after a collision different trigger systems will decide whether the collision has been potentially interesting or not. Non-interesting collisions won't be recorded. This multi-staged triggering process reduces the number of recorded collisions from billion to about thousand collisions per second.\n",
    "\n",
    "Data collected from collisions will be saved to AOD (Analysis Object Data) files that can be opened with the ROOT program (https://root.cern.ch/). Structures of the files are very complicated so those can't be handled for example in simple data tables.\n",
    "\n",
    "In this exercise, a CSV file format is used instead. A CSV file is just a regular text file that contains different values separated with commas (see Figure 6). These files can be easily read and handled with Python."
   ]
  },
  {
   "cell_type": "markdown",
   "metadata": {},
   "source": [
    "<figure>\n",
    "    <img src=\"../images/datafile.png\" alt=\"image missing\" style=\"height: 80px\" />\n",
    "    <figcaption> Figure 6: An example of the structure of the CSV file.</figcaption>\n",
    "</figure>"
   ]
  },
  {
   "cell_type": "markdown",
   "metadata": {},
   "source": [
    "### Indirect detection of particles"
   ]
  },
  {
   "cell_type": "markdown",
   "metadata": {},
   "source": [
    "Not every particle can be detected directly as explained above with the CMS or other particle detectors. Interesting processes are often short-lived. These processes can be searched throughout long-lived processes so detecting is then indirect.\n",
    "\n",
    "For example, Z boson (the particle that mediates weak interaction) can't be detected directly with the CMS since the lifetime of Z is very short. This means that the Z boson will decay before it even reaches the silicon detector.\n",
    "\n",
    "How it is possible to detect the Z boson then? A solution to this question comes from the decay process of the Z boson. If particles that originate from the decay of the Z are possible to detect, it is also possible to deduce the existence of Z.\n",
    "\n",
    "Z boson can decay in 24 different ways. In this exercise, only one of these is considered: the decay of Z to muon $\\mu^-$ and antimuon $\\mu^+$. The Feynman diagram of this decay process is shown in Figure 7."
   ]
  },
  {
   "cell_type": "markdown",
   "metadata": {},
   "source": [
    "<figure>\n",
    "    <img src=\"../images/Zdecay.png\" alt=\"image missing\" style=\"height: 170px\" />\n",
    "    <figcaption> Figure 7: Z boson decaying into muon and antimuon.</figcaption>\n",
    "</figure>"
   ]
  },
  {
   "cell_type": "markdown",
   "metadata": {},
   "source": [
    "Muons that are created in the decay process can be detected with the CMS. But just the detection of the muon and the antimuon isn't sufficient evidence of the existence of the Z. The detected two muons could originate from any of the processes that will happen in the collision event (many different processes are going on at the same time). Because of this, the mass of Z also needs to be reconstructed."
   ]
  },
  {
   "cell_type": "markdown",
   "metadata": {},
   "source": [
    "### The invariant mass"
   ]
  },
  {
   "cell_type": "markdown",
   "metadata": {},
   "source": [
    "The mass of the Z boson (or some other particle) can be determined with the help of a concept called _invariant mass_. Let's next derive loosely an expression for the invariant mass.\n",
    "\n",
    "Consider a situation where a particle with mass $M$ and energy $E$ decays into two particles with masses $m_1$ and $m_2$, and energies $E_1$ and $E_2$. Energy $E$ and momentum $\\mathbf{p}$ is conserved in the decay process so $E = E_1 +E_2$ and $\\mathbf{p} = \\mathbf{p}_1+ \\mathbf{p}_2$.\n",
    "\n",
    "Particles will obey the relativistic dispersion relation:\n",
    "\n",
    "$$\n",
    "Mc^2 = \\sqrt{E^2 - c^2\\mathbf{p}^2}.\n",
    "$$\n",
    "\n",
    "Together with the conservation of energy and momentum, this can be shown as\n",
    "\n",
    "$$\n",
    "Mc^2 = \\sqrt{(E_1+E_2)^2 - c^2(\\mathbf{p_1} + \\mathbf{p_2})^2}\n",
    "$$\n",
    "$$\n",
    "=\\sqrt{E_1^2+2E_1E_2+E_2^2 -c^2\\mathbf{p_1}^2-2c^2\\mathbf{p_1}\\cdot\\mathbf{p_2}-c^2\\mathbf{p_2}^2}\n",
    "$$\n",
    "$$\n",
    "=\\sqrt{2E_1E_2 - 2c^2 |\\mathbf{p_1}||\\mathbf{p_2}|\\cos(\\theta)+m_1^2c^4+m_2^2c^4}. \\qquad (1)\n",
    "$$\n",
    "\n",
    "The relativistic dispersion relation can be brought to the following format:\n",
    "\n",
    "$$\n",
    "M^2c^4 = E^2 - c^2\\mathbf{p}^2\n",
    "$$\n",
    "$$\n",
    "E = \\sqrt{c^2\\mathbf{p}^2 + M^2c^4},\n",
    "$$\n",
    "\n",
    "from where by setting $c = 1$ (very common in particle physics) and by assuming that the masses of the particles are very small compared to their momenta, we end up with the following expression:\n",
    "\n",
    "$$\n",
    "E = \\sqrt{\\mathbf{p}^2 + M^2} = |\\mathbf{p}|\\sqrt{1+\\frac{M^2}{\\mathbf{p}^2}}\n",
    "\\stackrel{M<<|\\mathbf{p}|}{\\longrightarrow}|\\mathbf{p}|.\n",
    "$$\n",
    "\n",
    "By applying $E = |\\mathbf{p}|$ to equation (1), it can be reduced to the format\n",
    "\n",
    "$$\n",
    "M=\\sqrt{2E_1E_2(1-\\cos(\\theta))},\n",
    "$$\n",
    "\n",
    "where $\\theta$ is the angle between the momentum vector of the particles. With this equation, it is possible to calculate the invariant mass for the particle pair if energies of the particles and the angle $\\theta$ are known.\n",
    "\n",
    "In experimental particle physics, the equation for the invariant mass is often in the form\n",
    "\n",
    "$$\n",
    "M = \\sqrt{2p_{T1}p_{T2}( \\cosh(\\eta_1-\\eta_2)-\\cos(\\phi_1-\\phi_2) )}, \\qquad (2)\n",
    "$$\n",
    "\n",
    "where transverse momentum $p_T$ is the component of the momentum of the particle that is perpendicular to the particle beam, $\\eta$ is the pseudorapidity and $\\phi$ is the azimuth angle. Pseudorapidity and the angle $\\theta$ are related by $\\eta = -\\ln(\\tan(\\frac{\\theta}{2}))$.\n",
    "\n",
    "Figure 8 expresses the angles $\\theta$, $\\eta$ and $\\phi$ in the CMS detector. The particle beams will travel to the z-direction. Figure 8 also shows that because of the determination of $\\eta$ it goes to 0 when $\\theta = 90^{\\circ}$ and to $\\infty$ when $\\theta = 0^{\\circ}$."
   ]
  },
  {
   "cell_type": "markdown",
   "metadata": {},
   "source": [
    "<figure>\n",
    "    <img src=\"../images/CMSangles.png\" alt=\"image missing\" style=\"height: 300px\" />\n",
    "    <figcaption> Figure 8: Angles $\\theta$, $\\eta$ and $\\phi$ in the CMS detector.</figcaption>\n",
    "</figure>"
   ]
  },
  {
   "cell_type": "markdown",
   "metadata": {},
   "source": [
    "### Reconstructing particle mass"
   ]
  },
  {
   "cell_type": "markdown",
   "metadata": {},
   "source": [
    "With invariant mass, it is possible to prove the existence of a particle. In this exercise, you will use data that contains such collisions where two muons have been detected (among with many other particles). It is possible to calculate an invariant mass value for a muon pair in one collision event using equation (2).\n",
    "\n",
    "If the invariant mass of the muon pair is equal to the mass of, for example, Z boson, it can be verified that the muon pair originates from the decay of the Z. If the invariant mass of the muon pair gets some other value the muons are originated from some other processes. __Therefore, invariant mass can be used as evidence of the existence of the Z boson__."
   ]
  },
  {
   "cell_type": "markdown",
   "metadata": {},
   "source": [
    "### Identifying the particle"
   ]
  },
  {
   "cell_type": "markdown",
   "metadata": {},
   "source": [
    "In practice, the identification of a particle goes in the following way. The invariant mass for two muons is calculated for a large number of collision events. Then, a histogram is made from the calculated invariant mass values. This histogram shows how many muon pairs in the dataset had a specific invariant mass determined by the number of bins in the histogram.\n",
    "\n",
    "If a peak (many invariant mass values near the same bin) is formed in the histogram, it can prove that in the collision events there has been a particle which mass corresponds to the peak. After that, it is possible to fit a function to the histogram and determine the mass and the lifetime of the particle from the parameters of the fitted function (this will be done in exercise 3)."
   ]
  },
  {
   "cell_type": "markdown",
   "metadata": {},
   "source": [
    "# Invariant mass"
   ]
  },
  {
   "cell_type": "markdown",
   "metadata": {},
   "source": [
    "In this part of the exercise, your task is to read collision data from a csv-file, calculate the invariant mass of the two muons for each collision event in the dataset, plot a histogram from the invariant mass values and identify the particle that was decayed into two muons."
   ]
  },
  {
   "cell_type": "markdown",
   "metadata": {},
   "source": [
    "## Part 1 - data"
   ]
  },
  {
   "cell_type": "markdown",
   "metadata": {},
   "source": [
    "Each student has a different data file. Check the name of your data file from Moodle exercise.\n",
    "\n",
    "The data file contains events, where two muons were observed. The data file is stored in the same folder as this notebook file so that you can easily read it using _pandas_ -library."
   ]
  },
  {
   "cell_type": "markdown",
   "metadata": {},
   "source": [
    "### Task\n",
    "\n",
    "Read the data from file and save it to a pandas dataframe called 'ds'. Then print the first few rows to see how the data looks.\n",
    "\n",
    "<br>\n",
    "<details>\n",
    "    <summary>$\\text{Click here for a hint}$</summary>\n",
    "    Use read_csv()-function from pandas library and head()-method of a dataframe-object.\n",
    "</details>\n",
    "\n",
    "$\\color{red}{\\text{Write the code below and test the function with CodeRunner-exercise 1 on Moodle}}$"
   ]
  },
  {
   "cell_type": "code",
   "execution_count": 13,
   "metadata": {},
   "outputs": [
    {
     "data": {
      "text/html": [
       "<div>\n",
       "<style scoped>\n",
       "    .dataframe tbody tr th:only-of-type {\n",
       "        vertical-align: middle;\n",
       "    }\n",
       "\n",
       "    .dataframe tbody tr th {\n",
       "        vertical-align: top;\n",
       "    }\n",
       "\n",
       "    .dataframe thead th {\n",
       "        text-align: right;\n",
       "    }\n",
       "</style>\n",
       "<table border=\"1\" class=\"dataframe\">\n",
       "  <thead>\n",
       "    <tr style=\"text-align: right;\">\n",
       "      <th></th>\n",
       "      <th>Run</th>\n",
       "      <th>Event</th>\n",
       "      <th>Type1</th>\n",
       "      <th>E1</th>\n",
       "      <th>px1</th>\n",
       "      <th>py1</th>\n",
       "      <th>pz1</th>\n",
       "      <th>pt1</th>\n",
       "      <th>eta1</th>\n",
       "      <th>phi1</th>\n",
       "      <th>Q1</th>\n",
       "      <th>Type2</th>\n",
       "      <th>E2</th>\n",
       "      <th>px2</th>\n",
       "      <th>py2</th>\n",
       "      <th>pz2</th>\n",
       "      <th>pt2</th>\n",
       "      <th>eta2</th>\n",
       "      <th>phi2</th>\n",
       "      <th>Q2</th>\n",
       "    </tr>\n",
       "  </thead>\n",
       "  <tbody>\n",
       "    <tr>\n",
       "      <th>0</th>\n",
       "      <td>165617</td>\n",
       "      <td>75206813</td>\n",
       "      <td>G</td>\n",
       "      <td>10.16230</td>\n",
       "      <td>0.476262</td>\n",
       "      <td>-8.51642</td>\n",
       "      <td>5.52306</td>\n",
       "      <td>8.52973</td>\n",
       "      <td>0.609133</td>\n",
       "      <td>-1.51493</td>\n",
       "      <td>-1</td>\n",
       "      <td>G</td>\n",
       "      <td>19.77540</td>\n",
       "      <td>2.750800</td>\n",
       "      <td>-13.98710</td>\n",
       "      <td>13.70590</td>\n",
       "      <td>14.25500</td>\n",
       "      <td>0.853872</td>\n",
       "      <td>-1.376610</td>\n",
       "      <td>1</td>\n",
       "    </tr>\n",
       "    <tr>\n",
       "      <th>1</th>\n",
       "      <td>165617</td>\n",
       "      <td>74428554</td>\n",
       "      <td>G</td>\n",
       "      <td>21.82790</td>\n",
       "      <td>-6.221380</td>\n",
       "      <td>11.08450</td>\n",
       "      <td>17.74470</td>\n",
       "      <td>12.71110</td>\n",
       "      <td>1.135660</td>\n",
       "      <td>2.08225</td>\n",
       "      <td>-1</td>\n",
       "      <td>G</td>\n",
       "      <td>36.65130</td>\n",
       "      <td>-10.687400</td>\n",
       "      <td>15.06920</td>\n",
       "      <td>31.65440</td>\n",
       "      <td>18.47430</td>\n",
       "      <td>1.307610</td>\n",
       "      <td>2.187680</td>\n",
       "      <td>1</td>\n",
       "    </tr>\n",
       "    <tr>\n",
       "      <th>2</th>\n",
       "      <td>165617</td>\n",
       "      <td>74981507</td>\n",
       "      <td>G</td>\n",
       "      <td>30.58620</td>\n",
       "      <td>15.521800</td>\n",
       "      <td>5.12931</td>\n",
       "      <td>-25.85090</td>\n",
       "      <td>16.34740</td>\n",
       "      <td>-1.239060</td>\n",
       "      <td>0.31916</td>\n",
       "      <td>1</td>\n",
       "      <td>G</td>\n",
       "      <td>12.48680</td>\n",
       "      <td>7.764020</td>\n",
       "      <td>1.04247</td>\n",
       "      <td>-9.72328</td>\n",
       "      <td>7.83369</td>\n",
       "      <td>-1.042090</td>\n",
       "      <td>0.133471</td>\n",
       "      <td>-1</td>\n",
       "    </tr>\n",
       "    <tr>\n",
       "      <th>3</th>\n",
       "      <td>165617</td>\n",
       "      <td>75612982</td>\n",
       "      <td>G</td>\n",
       "      <td>7.55441</td>\n",
       "      <td>1.291290</td>\n",
       "      <td>-5.35884</td>\n",
       "      <td>-5.16462</td>\n",
       "      <td>5.51223</td>\n",
       "      <td>-0.836073</td>\n",
       "      <td>-1.33434</td>\n",
       "      <td>-1</td>\n",
       "      <td>T</td>\n",
       "      <td>3.84161</td>\n",
       "      <td>-0.989578</td>\n",
       "      <td>-3.45483</td>\n",
       "      <td>-1.35340</td>\n",
       "      <td>3.59376</td>\n",
       "      <td>-0.368220</td>\n",
       "      <td>-1.849760</td>\n",
       "      <td>1</td>\n",
       "    </tr>\n",
       "    <tr>\n",
       "      <th>4</th>\n",
       "      <td>165617</td>\n",
       "      <td>74760204</td>\n",
       "      <td>G</td>\n",
       "      <td>24.63760</td>\n",
       "      <td>9.983590</td>\n",
       "      <td>19.14260</td>\n",
       "      <td>-11.86970</td>\n",
       "      <td>21.58960</td>\n",
       "      <td>-0.525296</td>\n",
       "      <td>1.09007</td>\n",
       "      <td>1</td>\n",
       "      <td>G</td>\n",
       "      <td>11.02130</td>\n",
       "      <td>3.378510</td>\n",
       "      <td>7.82724</td>\n",
       "      <td>-6.98411</td>\n",
       "      <td>8.52525</td>\n",
       "      <td>-0.747611</td>\n",
       "      <td>1.163320</td>\n",
       "      <td>-1</td>\n",
       "    </tr>\n",
       "  </tbody>\n",
       "</table>\n",
       "</div>"
      ],
      "text/plain": [
       "      Run     Event Type1        E1        px1       py1       pz1       pt1  \\\n",
       "0  165617  75206813     G  10.16230   0.476262  -8.51642   5.52306   8.52973   \n",
       "1  165617  74428554     G  21.82790  -6.221380  11.08450  17.74470  12.71110   \n",
       "2  165617  74981507     G  30.58620  15.521800   5.12931 -25.85090  16.34740   \n",
       "3  165617  75612982     G   7.55441   1.291290  -5.35884  -5.16462   5.51223   \n",
       "4  165617  74760204     G  24.63760   9.983590  19.14260 -11.86970  21.58960   \n",
       "\n",
       "       eta1     phi1  Q1 Type2        E2        px2       py2       pz2  \\\n",
       "0  0.609133 -1.51493  -1     G  19.77540   2.750800 -13.98710  13.70590   \n",
       "1  1.135660  2.08225  -1     G  36.65130 -10.687400  15.06920  31.65440   \n",
       "2 -1.239060  0.31916   1     G  12.48680   7.764020   1.04247  -9.72328   \n",
       "3 -0.836073 -1.33434  -1     T   3.84161  -0.989578  -3.45483  -1.35340   \n",
       "4 -0.525296  1.09007   1     G  11.02130   3.378510   7.82724  -6.98411   \n",
       "\n",
       "        pt2      eta2      phi2  Q2  \n",
       "0  14.25500  0.853872 -1.376610   1  \n",
       "1  18.47430  1.307610  2.187680   1  \n",
       "2   7.83369 -1.042090  0.133471  -1  \n",
       "3   3.59376 -0.368220 -1.849760   1  \n",
       "4   8.52525 -0.747611  1.163320  -1  "
      ]
     },
     "execution_count": 13,
     "metadata": {},
     "output_type": "execute_result"
    }
   ],
   "source": [
    "# solution for dataset1.csv\n",
    "\n",
    "import pandas as pd\n",
    "\n",
    "filename = 'dataset1.csv'\n",
    "ds = pd.read_csv(filename)\n",
    "ds.head()\n",
    "\n",
    "# Hint1: Use read_csv()-function from pandas library and head()-method of a dataframe-object."
   ]
  },
  {
   "cell_type": "code",
   "execution_count": 3,
   "metadata": {
    "scrolled": false
   },
   "outputs": [
    {
     "data": {
      "text/html": [
       "<div>\n",
       "<style scoped>\n",
       "    .dataframe tbody tr th:only-of-type {\n",
       "        vertical-align: middle;\n",
       "    }\n",
       "\n",
       "    .dataframe tbody tr th {\n",
       "        vertical-align: top;\n",
       "    }\n",
       "\n",
       "    .dataframe thead th {\n",
       "        text-align: right;\n",
       "    }\n",
       "</style>\n",
       "<table border=\"1\" class=\"dataframe\">\n",
       "  <thead>\n",
       "    <tr style=\"text-align: right;\">\n",
       "      <th></th>\n",
       "      <th>Run</th>\n",
       "      <th>Event</th>\n",
       "      <th>pt1</th>\n",
       "      <th>eta1</th>\n",
       "      <th>phi1</th>\n",
       "      <th>Q1</th>\n",
       "      <th>dxy1</th>\n",
       "      <th>iso1</th>\n",
       "      <th>pt2</th>\n",
       "      <th>eta2</th>\n",
       "      <th>phi2</th>\n",
       "      <th>Q2</th>\n",
       "      <th>dxy2</th>\n",
       "      <th>iso2</th>\n",
       "    </tr>\n",
       "  </thead>\n",
       "  <tbody>\n",
       "    <tr>\n",
       "      <th>0</th>\n",
       "      <td>165617</td>\n",
       "      <td>74969122</td>\n",
       "      <td>54.7055</td>\n",
       "      <td>-0.4324</td>\n",
       "      <td>2.5742</td>\n",
       "      <td>1</td>\n",
       "      <td>-0.0745</td>\n",
       "      <td>0.4999</td>\n",
       "      <td>34.2464</td>\n",
       "      <td>-0.9885</td>\n",
       "      <td>-0.4987</td>\n",
       "      <td>-1</td>\n",
       "      <td>0.0712</td>\n",
       "      <td>3.4221</td>\n",
       "    </tr>\n",
       "    <tr>\n",
       "      <th>1</th>\n",
       "      <td>165617</td>\n",
       "      <td>75138253</td>\n",
       "      <td>24.5872</td>\n",
       "      <td>-2.0522</td>\n",
       "      <td>2.8666</td>\n",
       "      <td>-1</td>\n",
       "      <td>-0.0554</td>\n",
       "      <td>0.0000</td>\n",
       "      <td>28.5389</td>\n",
       "      <td>0.3852</td>\n",
       "      <td>-1.9912</td>\n",
       "      <td>1</td>\n",
       "      <td>0.0515</td>\n",
       "      <td>0.0000</td>\n",
       "    </tr>\n",
       "    <tr>\n",
       "      <th>2</th>\n",
       "      <td>165617</td>\n",
       "      <td>75887636</td>\n",
       "      <td>31.7386</td>\n",
       "      <td>-2.2595</td>\n",
       "      <td>-1.3323</td>\n",
       "      <td>-1</td>\n",
       "      <td>0.0879</td>\n",
       "      <td>0.0000</td>\n",
       "      <td>30.2344</td>\n",
       "      <td>-0.4684</td>\n",
       "      <td>1.8833</td>\n",
       "      <td>1</td>\n",
       "      <td>-0.0876</td>\n",
       "      <td>0.0000</td>\n",
       "    </tr>\n",
       "    <tr>\n",
       "      <th>3</th>\n",
       "      <td>165617</td>\n",
       "      <td>75779415</td>\n",
       "      <td>39.7394</td>\n",
       "      <td>-0.7123</td>\n",
       "      <td>-0.3123</td>\n",
       "      <td>1</td>\n",
       "      <td>0.0585</td>\n",
       "      <td>0.0000</td>\n",
       "      <td>48.2790</td>\n",
       "      <td>-0.1956</td>\n",
       "      <td>2.9703</td>\n",
       "      <td>-1</td>\n",
       "      <td>-0.0492</td>\n",
       "      <td>0.0000</td>\n",
       "    </tr>\n",
       "    <tr>\n",
       "      <th>4</th>\n",
       "      <td>165617</td>\n",
       "      <td>75098104</td>\n",
       "      <td>41.2998</td>\n",
       "      <td>-0.1571</td>\n",
       "      <td>-3.0408</td>\n",
       "      <td>1</td>\n",
       "      <td>-0.0305</td>\n",
       "      <td>1.2280</td>\n",
       "      <td>43.4508</td>\n",
       "      <td>0.5910</td>\n",
       "      <td>-0.0428</td>\n",
       "      <td>-1</td>\n",
       "      <td>0.0442</td>\n",
       "      <td>0.0000</td>\n",
       "    </tr>\n",
       "  </tbody>\n",
       "</table>\n",
       "</div>"
      ],
      "text/plain": [
       "      Run     Event      pt1    eta1    phi1  Q1    dxy1    iso1      pt2  \\\n",
       "0  165617  74969122  54.7055 -0.4324  2.5742   1 -0.0745  0.4999  34.2464   \n",
       "1  165617  75138253  24.5872 -2.0522  2.8666  -1 -0.0554  0.0000  28.5389   \n",
       "2  165617  75887636  31.7386 -2.2595 -1.3323  -1  0.0879  0.0000  30.2344   \n",
       "3  165617  75779415  39.7394 -0.7123 -0.3123   1  0.0585  0.0000  48.2790   \n",
       "4  165617  75098104  41.2998 -0.1571 -3.0408   1 -0.0305  1.2280  43.4508   \n",
       "\n",
       "     eta2    phi2  Q2    dxy2    iso2  \n",
       "0 -0.9885 -0.4987  -1  0.0712  3.4221  \n",
       "1  0.3852 -1.9912   1  0.0515  0.0000  \n",
       "2 -0.4684  1.8833   1 -0.0876  0.0000  \n",
       "3 -0.1956  2.9703  -1 -0.0492  0.0000  \n",
       "4  0.5910 -0.0428  -1  0.0442  0.0000  "
      ]
     },
     "execution_count": 3,
     "metadata": {},
     "output_type": "execute_result"
    }
   ],
   "source": [
    "# solution for Zmumu.csv\n",
    "\n",
    "import pandas as pd\n",
    "\n",
    "ds = pd.read_csv('Zmumu.csv')\n",
    "ds.head()\n",
    "\n",
    "# Hint1: Use read_csv()-function from pandas library and head()-method of a dataframe-object."
   ]
  },
  {
   "cell_type": "code",
   "execution_count": 6,
   "metadata": {},
   "outputs": [
    {
     "name": "stdout",
     "output_type": "stream",
     "text": [
      "True\n"
     ]
    }
   ],
   "source": [
    "# test whether the 'ds' -dataframe contains the events in 'Zmumu.csv'\n",
    "# NOTE! the file Zmumu.csv needs to be added to Coderunner for the test to work.\n",
    "\n",
    "import pandas as pd\n",
    "\n",
    "testds = pd.read_csv('Zmumu.csv')\n",
    "print(ds.equals(testds))\n",
    "\n",
    "# Excpected output:\n",
    "# True"
   ]
  },
  {
   "cell_type": "markdown",
   "metadata": {},
   "source": [
    "## Part 2 - calculation"
   ]
  },
  {
   "cell_type": "markdown",
   "metadata": {},
   "source": [
    "As you probably saw from part 1, the dataset contains a number of different columns. The meaning of each column is:\n",
    "\n",
    "- Run = The run number of the event.\n",
    "- Event = The event number.\n",
    "- Type = Either T or G, where T stands for tracker muon and G stands for global muon.\n",
    "- E = The total energy of the muon (GeV).\n",
    "- px, py, pz = The components of the momemtum of the muon (GeV).\n",
    "- pt = The transverse momentum of the muon (GeV).\n",
    "- eta = $\\eta$ = The pseudorapidity of the muon.\n",
    "- phi = $\\phi$ = The phi angle of the muon (rad).\n",
    "- Q = The charge of the muon."
   ]
  },
  {
   "cell_type": "markdown",
   "metadata": {},
   "source": [
    "### Task\n",
    "\n",
    "Write a python function <b>invariant_mass( pt1, pt2, eta1, eta2, psi1, psi2 )</b> that takes transverse momentums, pseudorapidities and azimuth angles of two particles as parameters and <b>returns the invariant mass</b>. Remember that the invariant mass can be calculated as $M=\\sqrt{2p_{T1}p_{T2}(\\cosh(\\eta_1-\\eta_2)-\\cos(\\phi_1-\\phi_2))}$. \n",
    "\n",
    "<br>\n",
    "\n",
    "<details>\n",
    "    <summary>$\\color{black}{\\text{Click here for a hint}}$</summary>\n",
    "    You can use square root and trigonometric functions by importing <b>numpy</b> module.\n",
    "</details>\n",
    "\n",
    "$\\color{red}{\\text{Write the code below and test the function with CodeRunner-exercise 2 on Moodle}}$"
   ]
  },
  {
   "cell_type": "code",
   "execution_count": 14,
   "metadata": {},
   "outputs": [],
   "source": [
    "# possible solution\n",
    "\n",
    "import numpy as np\n",
    "\n",
    "def invariant_mass(pt1,pt2,eta1,eta2,phi1,phi2):\n",
    "    return np.sqrt( 2*pt1*pt2* ( np.cosh(eta1-eta2) - np.cos(phi1-phi2) ) )\n",
    "\n",
    "# Hint1: You can use square root and trigonometric functions by importing numpy-module."
   ]
  },
  {
   "cell_type": "code",
   "execution_count": 16,
   "metadata": {},
   "outputs": [
    {
     "name": "stdout",
     "output_type": "stream",
     "text": [
      "0.0\n",
      "12.02\n",
      "91.14\n",
      "3.06\n",
      "17.49\n",
      "11.55\n",
      "9.16\n",
      "12.48\n",
      "14.31\n",
      "6.82\n",
      "39.53\n",
      "37.74\n",
      "10.54\n",
      "3.11\n"
     ]
    }
   ],
   "source": [
    "# test with artificial parameters\n",
    "\n",
    "import numpy as np\n",
    "\n",
    "pt1,pt2,eta1,eta2,phi1,phi2  =  0,1,2,3,4,5\n",
    "print(round(invariant_mass(pt1,pt2,eta1,eta2,phi1,phi2),2))\n",
    "\n",
    "# expected output: \n",
    "# 0.0\n",
    "\n",
    "# test with artificial parameters\n",
    "pt1,pt2,eta1,eta2,phi1,phi2  =  9,8,7,6,5,4\n",
    "print(round(invariant_mass(pt1,pt2,eta1,eta2,phi1,phi2),2))\n",
    "\n",
    "# expected output: \n",
    "# 12.02\n",
    "\n",
    "# test with data near Z mass\n",
    "pt1,pt2,eta1,eta2,phi1,phi2  =  58.6914, 45.7231, -1.02101, -0.37030, 0.836256, 2.741820\n",
    "print(round(invariant_mass(pt1,pt2,eta1,eta2,phi1,phi2),2))\n",
    "\n",
    "# expected output: \n",
    "# 91.14\n",
    "\n",
    "# test with data near J/psi mass\n",
    "pt1,pt2,eta1,eta2,phi1,phi2  =  6.60896, 17.876452, -0.250095, -0.375014, 0.512346, 0.765667\n",
    "print(round(invariant_mass(pt1,pt2,eta1,eta2,phi1,phi2),2))\n",
    "\n",
    "# expected output: \n",
    "# 3.06\n",
    "\n",
    "# test with more data\n",
    "import pandas as pd\n",
    "df = pd.read_csv('DoubleMuRun2011A.csv')\n",
    "df2 = df.head(10)\n",
    "inv_mass = invariant_mass(df2.pt1,df2.pt2,df2.eta1,df2.eta2,df2.phi1,df2.phi2)\n",
    "for mass in inv_mass:\n",
    "    print(round(mass,2))\n",
    "\n",
    "# expected output:\n",
    "# 17.49\n",
    "# 11.55\n",
    "# 9.16\n",
    "# 12.48\n",
    "# 14.31\n",
    "# 6.82\n",
    "# 39.53\n",
    "# 37.74\n",
    "# 10.54\n",
    "# 3.11"
   ]
  },
  {
   "cell_type": "markdown",
   "metadata": {},
   "source": [
    "### Task\n",
    "\n",
    "<br>\n",
    "Use your invariant_mass -function to calculate the invariant mass of each pair of muons in the dataset. Save the masses to a variable called 'inv_mass'.\n",
    "<br>\n",
    "Hint: Remember you can access to a column of a dataframe by writing \"dataframe_name.column_name\". You should be able to pass whole columns as parameters to your function (as long as the columns are of the same length).\n",
    "<br>\n",
    "\n",
    "$\\color{red}{\\text{Write the code below and test the function with CodeRunner-exercise 3 on Moodle}}$"
   ]
  },
  {
   "cell_type": "code",
   "execution_count": 15,
   "metadata": {},
   "outputs": [
    {
     "data": {
      "text/plain": [
       "0    3.105162\n",
       "1    3.093230\n",
       "2    3.063882\n",
       "3    3.092384\n",
       "4    3.181425\n",
       "dtype: float64"
      ]
     },
     "execution_count": 15,
     "metadata": {},
     "output_type": "execute_result"
    }
   ],
   "source": [
    "# solution for dataset1.csv\n",
    "\n",
    "ds = pd.read_csv('dataset1.csv')\n",
    "\n",
    "inv_mass = invariant_mass(ds.pt1,ds.pt2,ds.eta1,ds.eta2,ds.phi1,ds.phi2)\n",
    "\n",
    "# Hint1: Access 'pt1'-column in ds-dataframe by writing 'ds.pt1'.\n",
    "# Hint2: inv_mass = invariant_mass(...)\n",
    "# Hint3: inv_mass = invariant_mass(ds.pt1,ds.pt2,...)"
   ]
  },
  {
   "cell_type": "code",
   "execution_count": 18,
   "metadata": {},
   "outputs": [],
   "source": [
    "# solution for Zmumu.csv\n",
    "# Zmumu.csv file needed for coderunner.\n",
    "\n",
    "ds = pd.read_csv('Zmumu.csv')\n",
    "\n",
    "inv_mass = invariant_mass(ds.pt1,ds.pt2,ds.eta1,ds.eta2,ds.phi1,ds.phi2)\n",
    "\n",
    "# Hint1: Access 'pt1'-column in ds-dataframe by writing 'ds.pt1'.\n",
    "# Hint2: inv_mass = invariant_mass(...)\n",
    "# Hint3: inv_mass = invariant_mass(ds.pt1,ds.pt2,...)"
   ]
  },
  {
   "cell_type": "code",
   "execution_count": 19,
   "metadata": {},
   "outputs": [
    {
     "name": "stdout",
     "output_type": "stream",
     "text": [
      "87.97\n"
     ]
    }
   ],
   "source": [
    "# test cases for Zmumu.csv\n",
    "\n",
    "import numpy as np\n",
    "\n",
    "print(round(np.mean(inv_mass),2))\n",
    "# Expected output:\n",
    "# 87.97"
   ]
  },
  {
   "cell_type": "markdown",
   "metadata": {},
   "source": [
    "## Part 3 - histogram"
   ]
  },
  {
   "cell_type": "markdown",
   "metadata": {},
   "source": [
    "Now that you have calculated the invariant masses for the entire dataset, it's time to plot a histogram and see what kind of distribution we get."
   ]
  },
  {
   "cell_type": "markdown",
   "metadata": {},
   "source": [
    "### Task\n",
    "\n",
    "Plot a histogram from the invariant mass values. Use different amount of bins to see how the figure changes. You can also use \"range\"-attribute for plt.hist to zoom to a specific range. You should be able to see a peak. What particle does the peak correspond to (compare your result to figure 9)?\n",
    "\n",
    "<br>\n",
    "<details>\n",
    "    <summary>$\\text{Click here for a hint}$</summary>\n",
    "    Use hist()-function from matplotlib.pyplot -module.\n",
    "</details>\n",
    "\n",
    "$\\color{red}{\\text{Write the code below}}$"
   ]
  },
  {
   "cell_type": "code",
   "execution_count": 18,
   "metadata": {},
   "outputs": [
    {
     "data": {
      "image/png": "[encoded data removed]",
      "text/plain": [
       "<Figure size 432x288 with 1 Axes>"
      ]
     },
     "metadata": {
      "needs_background": "light"
     },
     "output_type": "display_data"
    },
    {
     "data": {
      "image/png": "[encoded data removed]",
      "text/plain": [
       "<Figure size 432x288 with 1 Axes>"
      ]
     },
     "metadata": {
      "needs_background": "light"
     },
     "output_type": "display_data"
    },
    {
     "data": {
      "image/png": "[encoded data removed]",
      "text/plain": [
       "<Figure size 432x288 with 1 Axes>"
      ]
     },
     "metadata": {
      "needs_background": "light"
     },
     "output_type": "display_data"
    },
    {
     "data": {
      "image/png": "[encoded data removed]",
      "text/plain": [
       "<Figure size 432x288 with 1 Axes>"
      ]
     },
     "metadata": {
      "needs_background": "light"
     },
     "output_type": "display_data"
    }
   ],
   "source": [
    "import matplotlib.pyplot as plt\n",
    "\n",
    "for i in [5,50,250,1000]:\n",
    "    fig = plt.figure()\n",
    "    plt.hist(inv_mass,bins=i)\n",
    "    plt.xlabel('Invariant mass (GeV)')\n",
    "    plt.ylabel('Events per bin')\n",
    "plt.show()"
   ]
  },
  {
   "cell_type": "markdown",
   "metadata": {},
   "source": [
    "<figure>\n",
    "    <img src=\"../images/CMShistogram.png\" alt=\"image missing\" style=\"height: 300px\" />\n",
    "    <figcaption> Figure 9: Histogram of collisions where two muons were observed.</figcaption>\n",
    "</figure>"
   ]
  },
  {
   "cell_type": "markdown",
   "metadata": {},
   "source": [
    "## Final task"
   ]
  },
  {
   "cell_type": "markdown",
   "metadata": {},
   "source": [
    "Find the answer for the following questions and submit your answers to Moodle."
   ]
  },
  {
   "cell_type": "markdown",
   "metadata": {},
   "source": [
    "Note: leave only the questions here. The answer options will go to moodle question. The answer options and correct answer needs to be modified based on the dataset student has.\n",
    "\n",
    "1 How many events are in the dataset?\n",
    "\n",
    "    a) 10000 correct\n",
    "    b) 50000\n",
    "    c) 100000\n",
    "    d) 1000\n",
    "\n",
    "2 How many events where 80 GeV < inv_mass < 100 GeV are in the dataset? (You can filter your inv_mass -dataframe to figure this out.)\n",
    "\n",
    "    a) 8259 correct\n",
    "    b) 129\n",
    "    c) 49821\n",
    "    d) 6119\n",
    "\n",
    "3 Which of the following invariant_mass value is closest to the peak value of the histogram?\n",
    "\n",
    "    a) 90 GeV correct\n",
    "    b) 85 Gev\n",
    "    c) 80 GeV\n",
    "    d) 95 Gev\n",
    "\n",
    "4 How many events are there in the largest bin, when the number of bins is 50? (roughly)\n",
    "\n",
    "    a) 1600 correct\n",
    "    b) 2100\n",
    "    c) 900\n",
    "    d) 450\n",
    "\n",
    "5 How about when number of bins is 250?\n",
    "\n",
    "    a) 350 correct\n",
    "    b) 900\n",
    "    c) 550\n",
    "    d) 80\n",
    "    \n",
    "6 Which particle did you discover from your data?"
   ]
  },
  {
   "cell_type": "code",
   "execution_count": 33,
   "metadata": {},
   "outputs": [
    {
     "name": "stdout",
     "output_type": "stream",
     "text": [
      "Question 1:\n",
      "10000\n",
      "\n",
      "Question 2:\n",
      "8259\n",
      "\n",
      "Questions 3,4,5 from figures above.\n"
     ]
    }
   ],
   "source": [
    "print(\"Question 1:\")\n",
    "print(len(inv_mass))\n",
    "print()\n",
    "print(\"Question 2:\")\n",
    "print(len(inv_mass[(inv_mass > 80) & (inv_mass < 100)]))\n",
    "print()\n",
    "print(\"Questions 3,4,5 from figures above.\")"
   ]
  },
  {
   "cell_type": "markdown",
   "metadata": {},
   "source": [
    "[1] P. Mouche, *Overall view of the LHC. Vue d'ensemble du LHC*, 2014.\n",
    "Url: [https://cds.cern.ch/record/1708847](https://cds.cern.ch/record/1708847).\n",
    "\n",
    "[2] M. Brice, *View of an open LHC interconnection. Vue d'une interconnection ouverte*, 2005.\n",
    "Url: [https://cds.cern.ch/record/905940](https://cds.cern.ch/record/905940)\n",
    "\n",
    "[3] CMS Collaboration, *Detector Drawings*, 2012.\n",
    "Url: [https://cds.cern.ch/record/1433717](https://cds.cern.ch/record/1433717).\n",
    "\n",
    "[4] M. Lapka, D. Barney, E. Quigg et al., *Interactive slice of CMS detector*, 2010.\n",
    "Url: [https://cms-docdb.cern.ch/cgi-bin/PublicDocDB/ShowDocument?docid=4172](https://cms-docdb.cern.ch/cgi-bin/PublicDocDB/ShowDocument?docid=4172)."
   ]
  }
 ],
 "metadata": {
  "kernelspec": {
   "display_name": "Python 3",
   "language": "python",
   "name": "python3"
  },
  "language_info": {
   "codemirror_mode": {
    "name": "ipython",
    "version": 3
   },
   "file_extension": ".py",
   "mimetype": "text/x-python",
   "name": "python",
   "nbconvert_exporter": "python",
   "pygments_lexer": "ipython3",
   "version": "3.7.5"
  }
 },
 "nbformat": 4,
 "nbformat_minor": 2
}

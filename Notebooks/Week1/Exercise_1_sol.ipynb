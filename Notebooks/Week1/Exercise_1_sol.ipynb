{
 "cells": [
  {
   "cell_type": "markdown",
   "metadata": {},
   "source": [
    "# Python in data-analysis"
   ]
  },
  {
   "cell_type": "markdown",
   "metadata": {},
   "source": [
    "Python is a programming language that has many beneficial features for example in data-analysis. Python libraries such as numpy, pandas and matplotlib provide a robust method to manipulate and visualize data.\n",
    "\n",
    "In this tutorial you can find some of the most important things about Python related to this course.\n",
    "Examples in this notebook can be useful in the upcoming exercises.\n",
    "\n",
    "You can run code cells in notebooks by clicking the cell and pressing `CTRL`+`ENTER`.\n",
    "If you need more help using jupyter notebooks, press **H** while in command mode (a cell is selected and color of the border is blue). There you can find all commands.\n",
    "\n",
    "Feel free to modify the code cells and try different things!"
   ]
  },
  {
   "cell_type": "markdown",
   "metadata": {},
   "source": [
    "## Content"
   ]
  },
  {
   "cell_type": "markdown",
   "metadata": {},
   "source": [
    "1. [Python basics](#basics)\n",
    "1. [Functions](#functions)\n",
    "1. [Modules](#modules)\n",
    "    1. [NumPy](#numpy)\n",
    "    1. [Pandas](#pandas)\n",
    "    1. [Matplotlib](#matplotlib)\n",
    "    1. [SciPy](#scipy)\n",
    "1. [More examples](#examples)\n",
    "1. [Exercises](#exercises)"
   ]
  },
  {
   "cell_type": "markdown",
   "metadata": {},
   "source": [
    "## Python basics"
   ]
  },
  {
   "cell_type": "markdown",
   "metadata": {},
   "source": [
    "The following example shows the very basic properties of python such as variables,  list-datatype, if-statements and loops."
   ]
  },
  {
   "cell_type": "code",
   "execution_count": null,
   "metadata": {},
   "outputs": [],
   "source": [
    "# Example 1 of basics of python\n",
    "# -----------------------------\n",
    "# This example demonstrates how to use variables and simple arithmetic operations in Python.\n",
    "# Lines that start with # are comment lines. They won't affect to your code.\n",
    "# --------------------------------------------------------------------------\n",
    "\n",
    "text = \"The result is\" # This is a string-variable. It is written inside either single or double quotes.\n",
    "num1 = 25 # Integers or floating numbers are written without quotes.\n",
    "num2 = 7\n",
    "result = num1 - num2 # You can perform simple arithmetic operations with your variables.\n",
    "\n",
    "# Let's print the result using print()-function. The variables you want to print are separated by a comma.\n",
    "print(text, result)\n",
    "\n",
    "# You could also write strings and number directly to print()-function.\n",
    "print(\"This text is written directly to print()-function\")"
   ]
  },
  {
   "cell_type": "code",
   "execution_count": null,
   "metadata": {},
   "outputs": [],
   "source": [
    "# Example 2 of basics of python\n",
    "# -----------------------------\n",
    "# This example demonstrates how to use lists in Python.\n",
    "# -----------------------------------------------------\n",
    "\n",
    "values = [1,3,19,-75] # This is a list of integers. List is written inside square brackets.\n",
    "fruits = ['Apple', 'Banana', 'Orange'] # You can also make a list of strings.\n",
    "\n",
    "# Lists can also be printed using the print()-function.\n",
    "print(\"Values:\",values)\n",
    "print(\"Fruits:\",fruits)\n",
    "\n",
    "# You can also access specific member of the list.\n",
    "# Here we will print the second member of fruits-list.\n",
    "print(\"Second fruit is\",fruits[1]) # note that indexing starts from 0. Therefore the index for second element is 1.\n",
    "\n",
    "# You can add new members to list using append()-method. Here is an example.\n",
    "fruits.append('Passion fruit') # add Passion fruit to fruits-list.\n",
    "\n",
    "# Let's print out our fruits-list once again to see the modification.\n",
    "print(\"New fruits:\",fruits)"
   ]
  },
  {
   "cell_type": "code",
   "execution_count": null,
   "metadata": {},
   "outputs": [],
   "source": [
    "# Test your skills:\n",
    "#     1. Save integers 3 and 5 to variables called num1 and num2.\n",
    "#     2. Calculate the product of num1 and num2 and save it to a variable called result.\n",
    "#     3. Use the print()-function to print the result.\n"
   ]
  },
  {
   "cell_type": "markdown",
   "metadata": {},
   "source": [
    "### If-statements"
   ]
  },
  {
   "cell_type": "markdown",
   "metadata": {},
   "source": [
    "**If**-statements can be used if we only want to execute the code if a certain condition is met."
   ]
  },
  {
   "cell_type": "code",
   "execution_count": null,
   "metadata": {},
   "outputs": [],
   "source": [
    "# Example of if-statement\n",
    "# -----------------------\n",
    "# This example demonstrates how to use if-else -statements in Python.\n",
    "# -------------------------------------------------------------------\n",
    "\n",
    "num1 = 1\n",
    "num2 = 2\n",
    "\n",
    "if num1 > num2:\n",
    "    # This part of code is accessed if condition1 is true\n",
    "    print(\"num1 is greater than num2\")\n",
    "elif num2 > num1:\n",
    "    # This part of code is accessed if condition1 is false and condition2 is true\n",
    "    print(\"num2 is greater than num1\")\n",
    "else:\n",
    "    # This part of code is accessed if each condition is false\n",
    "    print(\"Each condition before else-statement was false.\")\n",
    "\n",
    "# Try changing the number variables. Set for example num1 = 2 and num2 = 1 and see what happens. "
   ]
  },
  {
   "cell_type": "code",
   "execution_count": null,
   "metadata": {},
   "outputs": [],
   "source": [
    "# Test your skills:\n",
    "#     1. Write an if-statement that checks if fruit-variable is \"apple\".\n",
    "#     2. If the condition is met, print \"this is an apple\"\n",
    "#     3. If the condition is not met, print \"this is not an apple\"\n",
    "#     4. Test your code by changing the fruit-variable to something else.\n",
    "\n",
    "fruit = \"apple\""
   ]
  },
  {
   "cell_type": "markdown",
   "metadata": {},
   "source": [
    "### Loops"
   ]
  },
  {
   "cell_type": "markdown",
   "metadata": {},
   "source": [
    "**For**-loops are used to iterate over a sequence of values. For-loop can be used in the following way:\n",
    "\n",
    "`for element in sequence:\n",
    "    do something`\n",
    "    \n",
    "In this case the code part is done for each element in a sequence.\n",
    "\n",
    "A sequence is usually a list or defined using `range(start,stop,interval)`-function (see example 2). "
   ]
  },
  {
   "cell_type": "code",
   "execution_count": null,
   "metadata": {},
   "outputs": [],
   "source": [
    "# Example 1 of for-loop. \n",
    "# ----------------------\n",
    "# This example shows how to print the contents of a list one by one.\n",
    "# ---------------------------------\n",
    "\n",
    "fruits = ['Apple', 'Banana', 'Orange'] # Let's define a fruits-list\n",
    "\n",
    "# For each fruit in fruits-list we want to print the fruit.\n",
    "for fruit in fruits:\n",
    "    print(fruit)"
   ]
  },
  {
   "cell_type": "code",
   "execution_count": null,
   "metadata": {},
   "outputs": [],
   "source": [
    "# Example 2 of for-loop.\n",
    "# ----------------------\n",
    "# This example shows how to print integers and their squares from 1 to 9.\n",
    "# -----------------------------------------------------------------------\n",
    "\n",
    "# We can define numbers from 1 to 9 using the range(strat,stop,interval)-function.\n",
    "# This for-loop assigns the values from 1 to 9 one by one to variable i.\n",
    "# The default interval of range()-function is 1 so we can leave it out.\n",
    "for i in range(1,10): # Note that the stopping value is not included in the iteration.\n",
    "    print(\"Number:\",i,\" Square:\",i*i) # First print the number and then it's square."
   ]
  },
  {
   "cell_type": "code",
   "execution_count": null,
   "metadata": {
    "scrolled": true
   },
   "outputs": [],
   "source": [
    "# Example 3 of for-loop (with if-statement)\n",
    "# -----------------------------------------\n",
    "# This example shows how to print values from 0 to 10 and a text \n",
    "# that indicates if the value is smaller, greater or equal to a limit.\n",
    "# --------------------------------------------------------------------\n",
    "\n",
    "limit = 5 # Define limit here. You can change the limit to see how the code changes.b\n",
    "\n",
    "for value in range(0,11):\n",
    "    if value < limit:\n",
    "        print(value,\"is smaller than\",limit)\n",
    "    elif value > limit:\n",
    "        print(value,\"is larger than\",limit)\n",
    "    else:\n",
    "        print(value,\"is equal to\",limit)"
   ]
  },
  {
   "cell_type": "code",
   "execution_count": null,
   "metadata": {},
   "outputs": [],
   "source": [
    "# Test your skills:\n",
    "#     1. Write a for-loop that goes through numbers from 5 to 9.\n",
    "#     2. For each value, print value - 4\n"
   ]
  },
  {
   "cell_type": "markdown",
   "metadata": {},
   "source": [
    "**While**-loop is another option to make iterative code. Here are a couple of examples how to use it."
   ]
  },
  {
   "cell_type": "code",
   "execution_count": null,
   "metadata": {},
   "outputs": [],
   "source": [
    "# Example 1 of while loop\n",
    "# -----------------------\n",
    "# This example shows how to perform a number of iterations using while-loop.\n",
    "# --------------------------------------------------------------------------\n",
    "\n",
    "# Start iterating from 0. Save iteration state to variable i.\n",
    "i = 0\n",
    "while i < 5: # Loop continues until the condition turns into false (in this case the last iteration will be i=4).\n",
    "    print(i) # Print the value of i.\n",
    "    i = i+1 # Increase i by 1 for next iteration.\n",
    "    \n",
    "# IMPORTANT NOTE! Always remember to increment the number of iteration variable inside while-loop unless you know\n",
    "# what you're doing. If you forget to increment the iteration variable, the loop will continue forever.\n",
    "# If this happens, you need to quit executing the code by pressing the stop-button in top-panel of this notebook."
   ]
  },
  {
   "cell_type": "code",
   "execution_count": null,
   "metadata": {},
   "outputs": [],
   "source": [
    "# Example 2 of while loop.\n",
    "# ------------------------\n",
    "# This example demonstrates how to take user input and use infinite while-loop.\n",
    "# -----------------------------------------------------------------------------\n",
    "\n",
    "while True: # Infinite while-loop.\n",
    "    # input() can be used to take user input. str() is used to convert the user input to string-format.\n",
    "    answer = str(input()) # Whatever the user types will be saved to answer-variable. \n",
    "    if answer == \"exit\": # Use double equal-sign to check if the answer is equal to exit.\n",
    "        print(\"Exiting... bye bye.\\n\")\n",
    "        break # break-keyword will break the infinite loop\n",
    "    else:\n",
    "        print(\"You said\",answer) # Print what the user typed."
   ]
  },
  {
   "cell_type": "code",
   "execution_count": null,
   "metadata": {},
   "outputs": [],
   "source": [
    "# Test your skills:\n",
    "#     1. Save number 0 to a variable called result.\n",
    "#     2. Make a while-loop that goes through 10 iterations.\n",
    "#     3. For each iteration add 10 to result.\n",
    "#     4. After your loop, print the result.\n"
   ]
  },
  {
   "cell_type": "markdown",
   "metadata": {},
   "source": [
    "<a id=\"functions\"></a>\n",
    "## Functions"
   ]
  },
  {
   "cell_type": "markdown",
   "metadata": {},
   "source": [
    "Functions are basically just pieces of code that allows you to use the same functionality multiple times. There are a number of ready-made functions in python itself and in modules that are discussed in the following section. Often it is useful to implement new functions to perform some task. Some useful functions in python are:\n",
    "- `print(argument)` Prints the argument inside parenthesis. This should be familiar already.\n",
    "- `len(object)` Returns the length of an object, for example the number of values in list or the number of characters in a string.\n",
    "- `abs(value)` Returns the absolute value of some value.\n",
    "- `min(values)` and `max(values)` Returns the minimum or maximum value of the argument values."
   ]
  },
  {
   "cell_type": "code",
   "execution_count": null,
   "metadata": {},
   "outputs": [],
   "source": [
    "# Example 1 of functions (ready-made functions)\n",
    "# ---------------------------------------------\n",
    "# This example shows how to use some ready-made functions in Python.\n",
    "# ------------------------------------------------------------------\n",
    "\n",
    "vals = [-36, 13, -4, 1, 196] # Define a list of some values.\n",
    "\n",
    "length = len(vals) # Save the length of the list to variable length.\n",
    "print(\"Number of elements in vals is\", length) # Print the length.\n",
    "absvalue = abs(vals[2]) # Save the absolute value of the third element in vals-list to variable absvalue.\n",
    "print(\"Absolute value of the third element in vals is\", absvalue) # Print the absolute value.\n",
    "minimum = min(vals) # Save the minimum value in vals-list to variable minimum.\n",
    "print(\"Minimum value of vals is\", minimum) # Print the minimum value."
   ]
  },
  {
   "cell_type": "code",
   "execution_count": null,
   "metadata": {},
   "outputs": [],
   "source": [
    "# Example 2 of functions (custom function)\n",
    "# ----------------------------------------\n",
    "# This example shows how you can make a custom function in Python.\n",
    "# We will write a function that takes a single number as a parameter and returns the square of it.\n",
    "# ------------------------------------------------------------------------------------------------\n",
    "\n",
    "# Custom function definition starts with keyword \"def\". \n",
    "# The value returned by function is determined by keyword \"return\".\n",
    "# Note that the function doesn't have to return anything.\n",
    "\n",
    "# Define function called square. Whatever the number x is, this function will multiply it by itself.\n",
    "def square(x):\n",
    "    return x*x \n",
    "\n",
    "# Now we can try using this function\n",
    "print(\"The square of 3 is\", square(3))\n",
    "\n",
    "# Let's test the function with a list of multiple numbers\n",
    "testValues = [-5,-3,0,2,12]\n",
    "\n",
    "# Loop over each value in list\n",
    "for value in testValues:\n",
    "    print(\"The square of\", value, \"is\", square(value))"
   ]
  },
  {
   "cell_type": "code",
   "execution_count": null,
   "metadata": {},
   "outputs": [],
   "source": [
    "# Example 3 of functions (another custom function)\n",
    "# ------------------------------------------------\n",
    "# This example shows how to make a function that changes radians to degrees.\n",
    "# --------------------------------------------------------------------------\n",
    "\n",
    "# Argument valueInRadians will be used to calculate the value in degrees.\n",
    "# For now, we will use pi = 3.1415 but we will find a way to give more accurate value for it later\n",
    "def RadToDeg(valueInRadians):\n",
    "    valueInDegrees = 360*valueInRadians/(2*3.1415) # This part of code does the transformation from rad to deg.\n",
    "    return valueInDegrees # Return the value in degrees.\n",
    "\n",
    "# Let's test our function with few values\n",
    "testValues = [0.0, 3.1415/2, 3.1415, 3/2*3.1415, 2*3.1415] # these values are [0, pi/2, pi, 3*pi/2, 2*pi]\n",
    "\n",
    "# Loop over each value in list\n",
    "for value in testValues:\n",
    "    print(value, \"Rad =\", RadToDeg(value), \"Degrees.\")"
   ]
  },
  {
   "cell_type": "code",
   "execution_count": null,
   "metadata": {},
   "outputs": [],
   "source": [
    "# Test your skills:\n",
    "#     1: Write a function that adds 1 to a value.\n",
    "#     2: Test your function using a list of values.\n"
   ]
  },
  {
   "cell_type": "markdown",
   "metadata": {},
   "source": [
    "<a id=\"modules\"></a>\n",
    "## Modules"
   ]
  },
  {
   "cell_type": "markdown",
   "metadata": {},
   "source": [
    "Python is widely used in scientific community for computing, modifying and analyzing data, and for these purposes Python is greatly optimized. Part of Python is to use different kind of *modules*, which are files containing definitions (functions) and statements. These modules are imported using **import**-command. The most important modules we're going to use are introduced below. Example usage of these modules are below all introductions.\n",
    "\n",
    "These modules also have many more useful functions that are not listed here. Usually if you are having trouble to find a solution to coding problem, the fastest way to find an answer is to use google. Websites such as [stackexchange.com](https://stackexchange.com) have a lot of useful threads that can be utilized."
   ]
  },
  {
   "cell_type": "markdown",
   "metadata": {},
   "source": [
    "<a id=\"numpy\"></a>\n",
    "### Numerical calculus - NumPy"
   ]
  },
  {
   "cell_type": "markdown",
   "metadata": {},
   "source": [
    "NumPy is the fundamental package for scientific computing in Python. For more information, see [NumPy documentation](https://numpy.org/devdocs/user/whatisnumpy.html).\n",
    "\n",
    "**Summary** of useful functions\n",
    "\n",
    "Import\n",
    "```Python\n",
    "import numpy as np\n",
    "```\n",
    "\n",
    "Calculus ( [pi](https://docs.scipy.org/doc/numpy/reference/constants.html), [sqrt](https://docs.scipy.org/doc/numpy/reference/generated/numpy.sqrt.html), [exp](https://docs.scipy.org/doc/numpy/reference/generated/numpy.exp.html), [sin](https://docs.scipy.org/doc/numpy/reference/generated/numpy.sin.html), [sum](https://docs.scipy.org/doc/numpy/reference/generated/numpy.sum.html), [linpace](https://docs.scipy.org/doc/numpy/reference/generated/numpy.linspace.html) )\n",
    "```Python\n",
    "np.pi                        Value of pi\n",
    "np.sqrt(x)                   Square root\n",
    "np.exp(x)                    Exponential\n",
    "np.sin(x)                    Sine-function \n",
    "np.sum(array)                Sum of a list or an array\n",
    "np.linspace(start,stop,num)  Linearly spaced array of numbers\n",
    "```\n"
   ]
  },
  {
   "cell_type": "markdown",
   "metadata": {},
   "source": [
    "<a id=\"pandas\"></a>\n",
    "### Data manipulation - Pandas"
   ]
  },
  {
   "cell_type": "markdown",
   "metadata": {},
   "source": [
    "Pandas is an open source library providing high-performance, easy-to-use data structures and data analysis tools for the Python programming language. For more information, see [Pandas documentation](https://pandas.pydata.org/pandas-docs/stable/index.html).\n",
    "\n",
    "**Summary** of useful commands (df is a variable that containts the pandas-dataframe):\n",
    "\n",
    "Import\n",
    "```Python\n",
    "import pandas as pd\n",
    "```\n",
    "\n",
    "Data reading ( [read_csv](https://pandas.pydata.org/pandas-docs/stable/reference/api/pandas.read_csv.html), [read_table](https://pandas.pydata.org/pandas-docs/stable/reference/api/pandas.read_table.html) )\n",
    "```Python\n",
    "df = pd.read_csv('path')\n",
    "df = pd.read_table('path')\n",
    "```\n",
    "\n",
    "Data inspecting ( [head](https://pandas.pydata.org/pandas-docs/stable/reference/api/pandas.DataFrame.head.html), [len](https://docs.python.org/3/library/functions.html#len), [shape](https://pandas.pydata.org/pandas-docs/stable/reference/api/pandas.DataFrame.shape.html) )\n",
    "```Python\n",
    "df.head(n)\n",
    "len(df)\n",
    "df.shape\n",
    "```\n",
    "\n",
    "Data manipulation ( pick spesific columns, filter data using limits )\n",
    "```Python\n",
    "df.column_name\n",
    "df.['column_name']\n",
    "df[ (df.column_name >= lower_limit) & (df.column_name <= upper_limit)]  \n",
    "```"
   ]
  },
  {
   "cell_type": "markdown",
   "metadata": {},
   "source": [
    "<a id=\"matplotlib\"></a>\n",
    "### Making graphs - Matplotlib"
   ]
  },
  {
   "cell_type": "markdown",
   "metadata": {},
   "source": [
    "Matplotlib is a comprehensive library for creating static, animated, and interactive visualizations in Python. For more information, see [Matplotlib documentation](https://matplotlib.org/).\n",
    "\n",
    "**Summary** of useful commands:\n",
    "\n",
    "Import\n",
    "```Python\n",
    "import matplotlib.pyplot as plt\n",
    "```\n",
    "\n",
    "Plot functions ( [plot](https://matplotlib.org/3.1.1/api/_as_gen/matplotlib.pyplot.plot.html), [hist](https://matplotlib.org/3.2.0/api/_as_gen/matplotlib.pyplot.hist.html), [scatter](https://matplotlib.org/3.2.0/api/_as_gen/matplotlib.pyplot.scatter.html), [errorbar](https://matplotlib.org/api/_as_gen/matplotlib.pyplot.errorbar.html) )\n",
    "\n",
    "```Python\n",
    "plt.plot(xdata, ydata, 'style')\n",
    "plt.hist(data, n)\n",
    "plt.scatter(xdata, ydata)\n",
    "plt.errorbar(val1, val2, xerr, yerr)\n",
    "```\n",
    "\n",
    "Formatting ( [figure](https://matplotlib.org/3.2.0/api/_as_gen/matplotlib.pyplot.figure.html), [xscale](https://matplotlib.org/3.2.0/api/_as_gen/matplotlib.pyplot.xscale.html), [xlabel](https://matplotlib.org/3.1.1/api/_as_gen/matplotlib.pyplot.xlabel.html), [title](https://matplotlib.org/3.2.0/api/_as_gen/matplotlib.pyplot.title.html), [legend](https://matplotlib.org/3.1.1/api/_as_gen/matplotlib.pyplot.legend.html) )\n",
    "```Python\n",
    "plt.figure(figsize=[width,height])\n",
    "plt.xscale('log')\n",
    "plt.xlabel('x-axis name')\n",
    "plt.title('title name')\n",
    "plt.legend()\n",
    "```\n",
    "\n",
    "\n",
    "Other ( [show](https://matplotlib.org/3.2.0/api/_as_gen/matplotlib.pyplot.show.html) )\n",
    "```Python\n",
    "plt.show()\n",
    "```"
   ]
  },
  {
   "cell_type": "markdown",
   "metadata": {},
   "source": [
    "<a id=\"scipy\"></a>\n",
    "### Scientific computing - SciPy"
   ]
  },
  {
   "cell_type": "markdown",
   "metadata": {},
   "source": [
    "SciPy library provides many user-friendly and efficient numerical routines, such as routines for numerical integration, interpolation, optimization, linear algebra, and statistics. For more information, see [SciPy documentation](https://www.scipy.org/scipylib/index.html)\n",
    "\n",
    "**Summary** of useful commands (import statements here are separately for each function):\n",
    "\n",
    "Import only the ones you need\n",
    "```Python\n",
    "from scipy.optimize import curve_fit\n",
    "from scipy.integrate import simps\n",
    "from scipy.interpolate import interp1d\n",
    "```\n",
    "\n",
    "Functions ( [curve_fit](https://docs.scipy.org/doc/scipy/reference/generated/scipy.optimize.curve_fit.html), [simps](https://docs.scipy.org/doc/scipy/reference/generated/scipy.integrate.simps.html), [interp1d](https://docs.scipy.org/doc/scipy/reference/generated/scipy.interpolate.interp1d.html) )\n",
    "```Python\n",
    "curve_fit(function, xdata, ydata, initial_guess)\n",
    "simps(y,x)\n",
    "interp1d(x,y,kind='...') # ... can be for example linear, quadratic or cubic \n",
    "```"
   ]
  },
  {
   "cell_type": "markdown",
   "metadata": {},
   "source": [
    "<a id=\"examples\"></a>\n",
    "## Examples"
   ]
  },
  {
   "cell_type": "markdown",
   "metadata": {},
   "source": [
    "#### Simple calculus"
   ]
  },
  {
   "cell_type": "code",
   "execution_count": null,
   "metadata": {
    "scrolled": true
   },
   "outputs": [],
   "source": [
    "# numpy examples\n",
    "\n",
    "# To use functions from numpy-module, we need to import the module first.\n",
    "import numpy as np # By using \"as np\" we can refer to numpy-functions by writing np.function_name.\n",
    "\n",
    "number = 100 # you can change this to see what happens\n",
    "print(\"Square root of\",number,\"is\",np.sqrt(number)) # np.sqrt(x) gives the square root of x.\n",
    "\n",
    "angle_rad = np.pi # np.pi gives the value for pi.\n",
    "angle_deg = np.degrees(angle_rad) # np.degrees(x) gives the value of x in degrees if x is in radians.\n",
    "print(\"Cosine of\", angle_deg, \"degrees is\", np.cos(angle_rad)) # np.cos(x) give the cosine of x."
   ]
  },
  {
   "cell_type": "markdown",
   "metadata": {},
   "source": [
    "#### Using matplotlib"
   ]
  },
  {
   "cell_type": "code",
   "execution_count": null,
   "metadata": {},
   "outputs": [],
   "source": [
    "# Simple matplotlb example\n",
    "\n",
    "import matplotlib.pyplot as plt\n",
    "\n",
    "# Define x-points for graph using np.linspace.\n",
    "x = np.linspace(-2,8,10) # 10 points evenly spaced between -2 and 8\n",
    "y = x**2 # y-points are just x-points squared.\n",
    "\n",
    "plt.figure(figsize=(10,5)) # Initiate the figure. figsize is in inches\n",
    "plt.plot(x,y, label='dataset') # Plot data in variables x and y. Label is shown in legend.\n",
    "plt.xlabel('x-axis label') # Add x and y axis labels\n",
    "plt.ylabel('y-axis label')\n",
    "plt.title('title') # add figure title\n",
    "plt.legend() # show legend in figure\n",
    "plt.show() # show plot"
   ]
  },
  {
   "cell_type": "markdown",
   "metadata": {},
   "source": [
    "#### Plotting a histogram from data in file"
   ]
  },
  {
   "cell_type": "code",
   "execution_count": null,
   "metadata": {},
   "outputs": [],
   "source": [
    "# Pandas and matplotlib example\n",
    "# -----------------------------\n",
    "# Let's read sample data from a csv-file '../Data/sample.csv' that contains the birthdays for a group of people. \n",
    "# We want to plot a histogram of the birth months.\n",
    "# ------------------------------------------------\n",
    "\n",
    "# First we need to import the necessary modules.\n",
    "\n",
    "import pandas as pd\n",
    "import matplotlib.pyplot as plt\n",
    "\n",
    "data = pd.read_csv('sample.csv') # Read the data from csv-file that is saved to same location as this notebook file.\n",
    "print(data.head()) # This command shows first few lines of the data.\n",
    "\n",
    "# We can see that the birthday data consists of columns \"year\", \"month\" and \"day\"\n",
    "months = data[\"month\"] # month-column in csv-file can be selected using data['month'] or data.month\n",
    "\n",
    "plt.figure(figsize=(10,5))       # Initiate figure\n",
    "plt.hist(months,12)              # Plot the histogram using 12 bins (to get one bin for each month).\n",
    "plt.xlabel('month')              # Set label for x-axis\n",
    "plt.ylabel('number of people')   # Set label for y-axis\n",
    "plt.show()                       # Show the histogram"
   ]
  },
  {
   "cell_type": "markdown",
   "metadata": {},
   "source": [
    "#### Fitting a function to data"
   ]
  },
  {
   "cell_type": "code",
   "execution_count": null,
   "metadata": {
    "scrolled": true
   },
   "outputs": [],
   "source": [
    "# Numpy, matplotlib and scipy example\n",
    "# -----------------------------------\n",
    "# In this example we fit a quadratic function to a dataset using curve_fit from scipy.optimize.\n",
    "# numpy-library also has ready-made functions for fitting, but it is useful to know how to fit an arbitrary \n",
    "# function to your data.\n",
    "# ----------------------\n",
    "\n",
    "# Let's first import the modules we will need.\n",
    "import numpy as np\n",
    "import matplotlib.pyplot as plt\n",
    "from scipy.optimize import curve_fit\n",
    "\n",
    "# Define the function that will be fitted to our dataset.\n",
    "def quadratic(x,a,b,c):\n",
    "    return a*x**2 + b*x + c # ax²+bx+c\n",
    "\n",
    "# This code is just to produce some random noisy data where we need to fit a function. Don't mind this too much.\n",
    "xdata = np.linspace(-10,10,50)\n",
    "y = quadratic(xdata, np.random.uniform(-1,1), np.random.uniform(-1,1), np.random.uniform(-1,1))\n",
    "np.random.seed(5)\n",
    "y_noise = 0.4 * np.random.normal(size=xdata.size)\n",
    "ydata = y + y_noise\n",
    "fig = plt.figure(figsize=(10,5))\n",
    "plt.plot(xdata, ydata, 'r-', label='Noisy data') # Plot noisy data.\n",
    "\n",
    "# The function-fitting is done here\n",
    "p0 = [0.5, 1, -2] # This is the initial guess for parameters a, b and c. It is necessary especially for complicated functions\n",
    "# We need to give curve_fit the fitting function, xdata, ydata and the initial guess.\n",
    "curve, covar = curve_fit(quadratic, xdata, ydata, p0) # Curve is now a list of parameters a, b and c.\n",
    "[a,b,c] = curve # Get parameters a b and c to corresponding variables from curve.\n",
    "\n",
    "plt.plot(xdata, quadratic(xdata,a,b,c), 'k-', label='Fit') # Plot the quadratic fit.\n",
    "plt.xlabel('x')\n",
    "plt.ylabel('y')\n",
    "plt.legend()\n",
    "plt.show()"
   ]
  },
  {
   "cell_type": "markdown",
   "metadata": {},
   "source": [
    "<a id=\"exercises\"></a>\n",
    "## Exercises"
   ]
  },
  {
   "cell_type": "markdown",
   "metadata": {},
   "source": [
    "Return your solutions to these exercises to Moodle Coderunner-exercises."
   ]
  },
  {
   "cell_type": "markdown",
   "metadata": {},
   "source": [
    "### Average"
   ]
  },
  {
   "cell_type": "markdown",
   "metadata": {},
   "source": [
    "<p>Write a function <b>average( vals )</b> that takes a list of values as parameter and returns the average value.</p>"
   ]
  },
  {
   "cell_type": "code",
   "execution_count": null,
   "metadata": {},
   "outputs": [],
   "source": []
  },
  {
   "cell_type": "code",
   "execution_count": null,
   "metadata": {},
   "outputs": [],
   "source": [
    "# possible solution\n",
    "\n",
    "import numpy as np\n",
    "\n",
    "def average( vals ):\n",
    "    return np.sum(vals)/len(vals) # or simply np.mean(vals)\n",
    "\n",
    "# Hint1: Remember that you can define your own function by using def-keyword. Return value of the function is given using return-keyword.\n",
    "# Hint2: find a way to calculate sum of the list and the length of values in the list\n",
    "# Hint3: Use for example sum-function from numpy module and function \"len\" (to calculate length of list)"
   ]
  },
  {
   "cell_type": "code",
   "execution_count": null,
   "metadata": {},
   "outputs": [],
   "source": [
    "# Tests\n",
    "\n",
    "# Test1:\n",
    "testlist = [0]\n",
    "print(average(testlist))\n",
    "# expected output:\n",
    "# 0.0\n",
    "\n",
    "# Test2:\n",
    "testlist = [1,2,3,4]\n",
    "print(average(testlist))\n",
    "# expected output:\n",
    "# 2.5\n",
    "\n",
    "# Test3:\n",
    "testlist = [-2,-1,0,1,2,3]\n",
    "print(average(testlist))\n",
    "# expected output:\n",
    "# 0.5\n",
    "\n",
    "# Test4:\n",
    "testlist = [-1.2345, 0.1245, 663.13223, 32847.1111]\n",
    "print(round(average(testlist),2))\n",
    "# expected output:\n",
    "# 8377.28"
   ]
  },
  {
   "cell_type": "markdown",
   "metadata": {},
   "source": [
    "### Inverse value squared"
   ]
  },
  {
   "cell_type": "markdown",
   "metadata": {},
   "source": [
    "Write a function **inv_squared( value )** that returns the inverse value squared of the input value."
   ]
  },
  {
   "cell_type": "code",
   "execution_count": null,
   "metadata": {},
   "outputs": [],
   "source": []
  },
  {
   "cell_type": "code",
   "execution_count": null,
   "metadata": {},
   "outputs": [],
   "source": [
    "# possible solution\n",
    "\n",
    "def inv_squared( value ):\n",
    "    return (1/value)**2\n",
    "\n",
    "# Hint1: Remember that you can define your own function by using def-keyword. Return value of the function is given using return-keyword.\n",
    "# Hint2: You get the square of a value by writing value**2"
   ]
  },
  {
   "cell_type": "code",
   "execution_count": null,
   "metadata": {},
   "outputs": [],
   "source": [
    "# Tests\n",
    "\n",
    "# Test1:\n",
    "vals = [1,-1,2,-2,3.5,100,0.01]\n",
    "print([round(inv_squared(value),4) for value in vals])\n",
    "# expected output: \n",
    "# [1.0, 1.0, 0.25, 0.25, 0.0816, 0.0001, 10000.0]"
   ]
  },
  {
   "cell_type": "markdown",
   "metadata": {},
   "source": [
    "### Exponential"
   ]
  },
  {
   "cell_type": "markdown",
   "metadata": {},
   "source": [
    "<p>Write a function <b>exponential( x, a, b, f0 )</b> that returns the value of the function \\( f(x)=ae^{bx}+f_0 \\).</p>"
   ]
  },
  {
   "cell_type": "code",
   "execution_count": null,
   "metadata": {},
   "outputs": [],
   "source": []
  },
  {
   "cell_type": "code",
   "execution_count": null,
   "metadata": {},
   "outputs": [],
   "source": [
    "# possible solution\n",
    "\n",
    "import numpy as np\n",
    "\n",
    "def exponential( x, a, b, f0 ):\n",
    "    return a*np.exp(b*x) + f0\n",
    "\n",
    "\n",
    "# Hint 1: Use exp()-function from numpy-module.\n",
    "# Hint 2: exp-function can be used like this:\n",
    "#             import numpy as np\n",
    "#             np.exp(...)\n",
    "# Hint 3: A possible solution would be (fill the spots with ...):\n",
    "#             import numpy as np\n",
    "#             def exponential( x, a, b, f0 ):\n",
    "#                 return ... * np.exp(...) + ..."
   ]
  },
  {
   "cell_type": "code",
   "execution_count": null,
   "metadata": {},
   "outputs": [],
   "source": [
    "# Tests\n",
    "\n",
    "# Test1:\n",
    "# x=-1, a=b=1, f0=0\n",
    "x = -1\n",
    "a = b = 1\n",
    "f0 = 0\n",
    "print(round(exponential(x,a,b,f0),2))\n",
    "# expected output:\n",
    "# 0.37\n",
    "\n",
    "# Test2:\n",
    "# x=b=1, a=0, f0=18\n",
    "x = b = 1\n",
    "a = 0 \n",
    "f0 = 18\n",
    "print(exponential(x,a,b,f0))\n",
    "# expected output:\n",
    "# 18.0\n",
    "\n",
    "# Test3:\n",
    "# x=3, a=18, b=-0.71, f0=-5.968\n",
    "x = 3\n",
    "a = 18\n",
    "b = -0.71\n",
    "f0  =-5.968\n",
    "print(round(exponential(x,a,b,f0),2))\n",
    "# expected output:\n",
    "# -3.83"
   ]
  },
  {
   "cell_type": "markdown",
   "metadata": {},
   "source": [
    "### Seconds to years"
   ]
  },
  {
   "cell_type": "markdown",
   "metadata": {},
   "source": [
    "Write a function **secondsToYears(seconds)** that transforms seconds into years. Assume that a year has 365 days."
   ]
  },
  {
   "cell_type": "code",
   "execution_count": null,
   "metadata": {},
   "outputs": [],
   "source": []
  },
  {
   "cell_type": "code",
   "execution_count": 20,
   "metadata": {},
   "outputs": [],
   "source": [
    "# possible solution\n",
    "\n",
    "def secondsToYears(seconds):\n",
    "    mins = seconds/60\n",
    "    hours = mins/60\n",
    "    days = hours/24\n",
    "    years = days/365\n",
    "    return years"
   ]
  },
  {
   "cell_type": "code",
   "execution_count": 25,
   "metadata": {},
   "outputs": [
    {
     "name": "stdout",
     "output_type": "stream",
     "text": [
      "1.0\n"
     ]
    }
   ],
   "source": [
    "print(round(secondsToYears(31536000),2))"
   ]
  },
  {
   "cell_type": "markdown",
   "metadata": {},
   "source": [
    "### Celsius to Fahrenheit"
   ]
  },
  {
   "cell_type": "markdown",
   "metadata": {},
   "source": [
    "Write a function **celsiusToFahrenheit(celsius)** that transforms temperature in degrees Celsius to Fahrenheit. To do the transformation, first multiply by 1.8 and then add 32."
   ]
  },
  {
   "cell_type": "code",
   "execution_count": 19,
   "metadata": {},
   "outputs": [],
   "source": [
    "def celsiusToFahrenheit(celsius):\n",
    "    return 1.8*celsius+32"
   ]
  },
  {
   "cell_type": "code",
   "execution_count": 29,
   "metadata": {},
   "outputs": [
    {
     "name": "stdout",
     "output_type": "stream",
     "text": [
      "59.0\n"
     ]
    }
   ],
   "source": [
    "print(round(celsiusToFahrenheit(15),2))"
   ]
  },
  {
   "cell_type": "markdown",
   "metadata": {},
   "source": [
    "### Liters to gallons"
   ]
  },
  {
   "cell_type": "markdown",
   "metadata": {},
   "source": [
    "Write a function **litersToGallons(liters)** that transforms the value in liters to value in gallons (US). Assume that one US gallon is equal to 3.785411784 liters."
   ]
  },
  {
   "cell_type": "code",
   "execution_count": 18,
   "metadata": {},
   "outputs": [],
   "source": [
    "def litersToGallons(liters):\n",
    "    return 1/3.785411784*liters"
   ]
  },
  {
   "cell_type": "code",
   "execution_count": 31,
   "metadata": {},
   "outputs": [
    {
     "name": "stdout",
     "output_type": "stream",
     "text": [
      "2.91\n"
     ]
    }
   ],
   "source": [
    "print(round(litersToGallons(11),2))"
   ]
  },
  {
   "cell_type": "markdown",
   "metadata": {},
   "source": [
    "### Gaussian distribution"
   ]
  },
  {
   "cell_type": "markdown",
   "metadata": {},
   "source": [
    "Write a function **gaussian(x, sigma, mu)** that returns the value of gaussian probability distribution function $f(x)=\\frac{1}{\\sigma\\sqrt{2\\pi}}e^{-\\frac{1}{2}\\left(\\frac{x-\\mu}{\\sigma}\\right)^2}$."
   ]
  },
  {
   "cell_type": "code",
   "execution_count": null,
   "metadata": {},
   "outputs": [],
   "source": []
  },
  {
   "cell_type": "code",
   "execution_count": 35,
   "metadata": {},
   "outputs": [],
   "source": [
    "#possible solution\n",
    "\n",
    "import numpy as np\n",
    "\n",
    "def gaussian( x, sigma, mu):\n",
    "    return 1/(sigma*np.sqrt(2*np.pi))*np.exp(-0.5*((x-mu)/sigma)**2)\n",
    "\n",
    "# Hint 1: Use exp()-function, sqrt()-function and value for pi from numpy-module.\n",
    "# Hint 2: exp, sqrt and pi can be used like this:\n",
    "#             import numpy as np\n",
    "#             np.exp(...)\n",
    "#             np.sqrt(...)\n",
    "#             np.pi"
   ]
  },
  {
   "cell_type": "code",
   "execution_count": null,
   "metadata": {},
   "outputs": [],
   "source": [
    "# Tests\n",
    "\n",
    "# Test 1: \n",
    "# sigma = 1, mu = 0\n",
    "import numpy as np\n",
    "x = np.linspace(-3,3,5)\n",
    "sigma = 1\n",
    "mu = 0\n",
    "print([round(val,4) for val in gaussian(x,sigma,mu)])\n",
    "\n",
    "# Test 2: \n",
    "# sigma = np.sqrt(0.2), mu = 0\n",
    "import numpy as np\n",
    "x = np.linspace(-3,3,5)\n",
    "sigma = np.sqrt(0.2)\n",
    "mu = 0\n",
    "print([round(val,4) for val in gaussian(x,sigma,mu)])\n",
    "\n",
    "# Test 3: \n",
    "# sigma = np.sqrt(0.5), mu = -1\n",
    "import numpy as np\n",
    "x = np.linspace(-3,3,5)\n",
    "sigma = np.sqrt(0.5)\n",
    "mu = -1\n",
    "print([round(val,4) for val in gaussian(x,sigma,mu,a,f0)])\n",
    "# expected output:\n",
    "# [0.0103, 0.4394, 0.2076, 0.0011, 0.0]\n",
    "\n",
    "# Test 3: \n",
    "# sigma = 1, mu = 0\n",
    "import numpy as np\n",
    "x = np.linspace(-3,3,5)\n",
    "sigma = 1\n",
    "mu = 0\n",
    "print([round(val,4) for val in gaussian(x,sigma,mu)])"
   ]
  },
  {
   "cell_type": "markdown",
   "metadata": {},
   "source": [
    "### Cauchy distribution"
   ]
  },
  {
   "cell_type": "markdown",
   "metadata": {},
   "source": [
    "Write a function **cauchy(x, gamma, x0)** that returns the value of cauchy probability distribution function $f(x)=\\frac{1}{\\pi\\gamma\\left(1+\\left(\\frac{x-x_0}{\\gamma}\\right)^2\\right)}$."
   ]
  },
  {
   "cell_type": "code",
   "execution_count": 37,
   "metadata": {},
   "outputs": [],
   "source": [
    "#possible solution\n",
    "\n",
    "import numpy as np\n",
    "\n",
    "def cauchy( x, gamma, x0):\n",
    "    return 1/(np.pi*gamma*(1+((x-x0)/gamma)**2))\n",
    "\n",
    "# Hint 1: Use exp()-function, sqrt()-function and value for pi from numpy-module.\n",
    "# Hint 2: exp, sqrt and pi can be used like this:\n",
    "#             import numpy as np\n",
    "#             np.exp(...)\n",
    "#             np.sqrt(...)\n",
    "#             np.pi"
   ]
  },
  {
   "cell_type": "markdown",
   "metadata": {},
   "source": [
    "### Logistic distribution"
   ]
  },
  {
   "cell_type": "markdown",
   "metadata": {},
   "source": [
    "Write a function **logistic(x, mu, s)** that returns the value of logistic probability distribution function $f(x)=\\frac{e^{-\\left(x-\\mu\\right)/s}}{s\\left(1+e^{-\\left(x-\\mu\\right)/s}\\right)^2}$"
   ]
  },
  {
   "cell_type": "code",
   "execution_count": 32,
   "metadata": {},
   "outputs": [],
   "source": [
    "#possible solution\n",
    "\n",
    "import numpy as np\n",
    "\n",
    "def logistic(x, mu, s):\n",
    "    return np.exp(-(x-mu)/s)/(s*(1+np.exp(-(x-mu)/s))**2)\n",
    "\n",
    "# Hint 1: Use exp()-function, sqrt()-function and value for pi from numpy-module.\n",
    "# Hint 2: exp, sqrt and pi can be used like this:\n",
    "#             import numpy as np\n",
    "#             np.exp(...)\n",
    "#             np.sqrt(...)\n",
    "#             np.pi"
   ]
  },
  {
   "cell_type": "code",
   "execution_count": 45,
   "metadata": {},
   "outputs": [
    {
     "name": "stdout",
     "output_type": "stream",
     "text": [
      "0.4\n",
      "0.32\n",
      "0.25\n"
     ]
    }
   ],
   "source": [
    "print(round(gaussian(1,1,1),2))\n",
    "print(round(cauchy(1,1,1),2))\n",
    "print(round(logistic(1,1,1),2))\n"
   ]
  }
 ],
 "metadata": {
  "kernelspec": {
   "display_name": "Python 3",
   "language": "python",
   "name": "python3"
  },
  "language_info": {
   "codemirror_mode": {
    "name": "ipython",
    "version": 3
   },
   "file_extension": ".py",
   "mimetype": "text/x-python",
   "name": "python",
   "nbconvert_exporter": "python",
   "pygments_lexer": "ipython3",
   "version": "3.7.5"
  }
 },
 "nbformat": 4,
 "nbformat_minor": 4
}

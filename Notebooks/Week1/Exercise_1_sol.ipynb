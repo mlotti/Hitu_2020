{
 "cells": [
  {
   "cell_type": "markdown",
   "metadata": {},
   "source": [
    "# Python in data-analysis"
   ]
  },
  {
   "cell_type": "markdown",
   "metadata": {},
   "source": [
    "Python is a programming language that has many beneficial features for example in data-analysis. Python libraries such as NumPy, Pandas and Matplotlib provide a robust method to manipulate and visualize data.\n",
    "\n",
    "The coding exercises for this course are done in Jupyter Notebook environments. Jupyter Notebooks provide an interactive coding environment where you can, for example, write text and code or add figures and videos. Notebooks consist of _cells_ that contain either code (Python on this course) or text in Markdown-format.\n",
    "\n",
    "Contents of a cell can be modified while you are in _edit-mode_ (activate by clicking a cell and pressing `ENTER`). Other operations such as adding new cells can be used in _command-mode_ (activate by pressing `ESC`). New cells can be added in command-mode by pressing `B`. Cells can be deleted by pressing `D` twice.\n",
    "\n",
    "Cells can be run by pressing `CTRL`+`ENTER` while in either mode. The output of a code-cell will be printed below the cell. If you need more help using Jupyter Notebooks, press `H` while in command mode and you will find all shortcut keys.\n",
    "\n",
    "In this tutorial, you can find some of the most important things about Python related to this course.\n",
    "Examples in this notebook can be useful in the upcoming exercises.\n",
    "\n",
    "Feel free to modify the code cells and try different things!"
   ]
  },
  {
   "cell_type": "markdown",
   "metadata": {},
   "source": [
    "## Contents"
   ]
  },
  {
   "cell_type": "markdown",
   "metadata": {},
   "source": [
    "1. [Python basics](#basics)\n",
    "1. [Functions](#functions)\n",
    "1. [Modules](#modules)\n",
    "    1. [NumPy](#numpy)\n",
    "    1. [Pandas](#pandas)\n",
    "    1. [Matplotlib](#matplotlib)\n",
    "    1. [SciPy](#scipy)\n",
    "1. [More examples](#examples)\n",
    "1. [Exercises](#exercises)"
   ]
  },
  {
   "cell_type": "markdown",
   "metadata": {},
   "source": [
    "<a id=\"basics\"></a>\n",
    "## Python basics"
   ]
  },
  {
   "cell_type": "markdown",
   "metadata": {},
   "source": [
    "The following example shows the very basic properties of python such as variables,  list-datatype, if-statements and loops."
   ]
  },
  {
   "cell_type": "code",
   "execution_count": null,
   "metadata": {},
   "outputs": [],
   "source": [
    "# Example 1 - variables and print()-function\n",
    "# ------------------------------------------\n",
    "# This example demonstrates how to use variables, simple arithmetic operations\n",
    "# and the print()-function in Python. Lines that start with # are comment lines.\n",
    "# They won't affect your code.\n",
    "# ----------------------------\n",
    "\n",
    "text = \"The result is\" # This is a string-variable. It is written inside either single- or double-quotes.\n",
    "num1 = 25 # Integers or floating numbers are written without quotes.\n",
    "num2 = 7\n",
    "result = num1 - num2 # You can perform simple arithmetic operations with your variables.\n",
    "\n",
    "# Let's print the result using print()-function. The variables you want to print are separated by a comma.\n",
    "# By default, print()-function adds whitespace between printed variables.\n",
    "print(text, result)\n",
    "\n",
    "# You could also write strings directly to print()-function.\n",
    "# In that case, you need to use quotes.\n",
    "print(\"This text is written directly to print()-function\")"
   ]
  },
  {
   "cell_type": "code",
   "execution_count": null,
   "metadata": {},
   "outputs": [],
   "source": [
    "# Example 2 - lists\n",
    "# -----------------------------\n",
    "# This example demonstrates how to use lists in Python.\n",
    "# -----------------------------------------------------\n",
    "\n",
    "# Lists in Python can basically contain objects of any datatype.\n",
    "# Let's create two lists: one that contains integers and other that contains strings.\n",
    "\n",
    "values = [1,3,19,-75] # This is a list of integers. Lists are written inside square brackets.\n",
    "fruits = ['Apple', 'Banana', 'Orange'] # This is a list of strings.\n",
    "\n",
    "# Lists can also be printed using the print()-function.\n",
    "print(\"Values:\",values)\n",
    "print(\"Fruits:\",fruits)\n",
    "\n",
    "# You can also access a specific member of the list.\n",
    "# Elements are accessed using square brackets.\n",
    "# Here we will print the second member of fruits-list.\n",
    "print(\"Second fruit is\",fruits[1]) # note that indexing starts from 0. Therefore the index for the second element is 1.\n",
    "\n",
    "# You can add new members to list using append()-method. Here is an example.\n",
    "fruits.append('Passion fruit') # add Passion fruit to fruits-list.\n",
    "\n",
    "# Let's print out our fruits-list once again to see the modification.\n",
    "print(\"New fruits:\",fruits)"
   ]
  },
  {
   "cell_type": "code",
   "execution_count": null,
   "metadata": {},
   "outputs": [],
   "source": [
    "# Test your skills:\n",
    "#     1. Save integers 3 and 5 to variables called num1 and num2.\n",
    "#     2. Calculate the product of num1 and num2 and save it to a variable called result.\n",
    "#     3. Use the print()-function to print the result.\n"
   ]
  },
  {
   "cell_type": "markdown",
   "metadata": {},
   "source": [
    "### If-statements"
   ]
  },
  {
   "cell_type": "markdown",
   "metadata": {},
   "source": [
    "**If**-statements can be used if we only want to execute the code if a certain condition is met.\n",
    "The following example shows how to use if-statements and take user input."
   ]
  },
  {
   "cell_type": "code",
   "execution_count": null,
   "metadata": {},
   "outputs": [],
   "source": [
    "# Example 3 - if-statements and user input\n",
    "# -----------------------\n",
    "# This example demonstrates how to use if-statements and\n",
    "# take user input in Python. We will also use type conversion\n",
    "# to handle user input.\n",
    "# --------------------------\n",
    "\n",
    "# Let's create a program that asks the user for a number\n",
    "# and the program tells if this number is smaller, greater\n",
    "# equal to a pre-determined number.\n",
    "\n",
    "# We will define the pre-determined number here.\n",
    "test_number = 5\n",
    "\n",
    "# The following line asks the user to enter a number and\n",
    "# saves whatever the user writes to variable user_answer.\n",
    "user_answer = input(\"Enter a number: \")\n",
    "\n",
    "# input()-function always gives the result as string.\n",
    "# If we want to interpret it as a float or an integer,\n",
    "# we need to perform type conversion.\n",
    "# Here we convert the user answer to float.\n",
    "user_answer = float(user_answer)\n",
    "\n",
    "# Now we make the if-condition to compare the user answer\n",
    "# to the pre-determined number.\n",
    "if user_answer > test_number:\n",
    "    # This part of code is accessed if user_answer is greater than test_number\n",
    "    print(\"Your number is greater than\", test_number)\n",
    "elif user_answer < test_number:\n",
    "    # This part of code is accessed if user_answer is smaller than test_number\n",
    "    print(\"Your number is less than\", test_number)\n",
    "else:\n",
    "    # This part of code is accessed if user_answer is neither greater nor smaller than test_number\n",
    "    print(\"Your number is equal to\", test_number)\n",
    "\n",
    "# Note that comparison operators used in Python are:\n",
    "#     < smaller than\n",
    "#     > larger than\n",
    "#     == equal to\n",
    "#     != not equal to\n",
    "#     <= smaller than or equal to\n",
    "#     >= larger than or equal to"
   ]
  },
  {
   "cell_type": "code",
   "execution_count": null,
   "metadata": {},
   "outputs": [],
   "source": [
    "# Test your skills:\n",
    "#     1. Write an if-statement that checks if user answer is \"apple\".\n",
    "#     2. If the condition is met, print \"this is an apple\"\n",
    "#     3. If the condition is not met, print \"this is not an apple\"\n",
    "#     4. Test your code by passing different fruits to your program\n"
   ]
  },
  {
   "cell_type": "markdown",
   "metadata": {},
   "source": [
    "### Loops"
   ]
  },
  {
   "cell_type": "markdown",
   "metadata": {},
   "source": [
    "**For**-loops are used to iterate over a sequence of values. For-loop can be used in the following way:\n",
    "\n",
    "`for element in sequence:\n",
    "    do something`\n",
    "    \n",
    "In this case, the code part is done for each element in a sequence.\n",
    "\n",
    "A sequence is usually a list or defined using `range(start, stop, interval)`-function (see example 5). "
   ]
  },
  {
   "cell_type": "code",
   "execution_count": null,
   "metadata": {},
   "outputs": [],
   "source": [
    "# Example 4 for-loop\n",
    "# ----------------------\n",
    "# This example shows how to print the contents of a list\n",
    "# one by one using for-loop.\n",
    "# --------------------------\n",
    "\n",
    "# Let's first create a list containing fruit-strings.\n",
    "fruits = ['Apple', 'Banana', 'Orange']\n",
    "\n",
    "# Now we want to print each fruit in the list one by one.\n",
    "# The element is a single fruit-variable and sequence is\n",
    "# the entire fruits-list.\n",
    "# The for-loop looks like this:\n",
    "for fruit in fruits:\n",
    "    print(fruit)"
   ]
  },
  {
   "cell_type": "code",
   "execution_count": null,
   "metadata": {},
   "outputs": [],
   "source": [
    "# Example 5 - for-loop and range()-function\n",
    "# ----------------------\n",
    "# This example shows how to print integers and their squares from 1 to 9.\n",
    "# -----------------------------------------------------------------------\n",
    "\n",
    "# We can define numbers from 1 to 9 using the range(strat,stop,interval)-function.\n",
    "# This for-loop assigns the values from 1 to 9 one by one to the variable i.\n",
    "# The default interval of range()-function is 1 so we can leave it out.\n",
    "for i in range(1,10): # Note that the last value is not included in the iteration.\n",
    "    print(\"Number:\",i,\" Square:\",i*i) # First print the number and then it's square."
   ]
  },
  {
   "cell_type": "code",
   "execution_count": null,
   "metadata": {
    "scrolled": true
   },
   "outputs": [],
   "source": [
    "# Example 6 - for-loop and if-statement\n",
    "# -----------------------------------------\n",
    "# This example shows how to print values from 0 to 10 and a text \n",
    "# that indicates if the value is smaller, greater or equal to a limit.\n",
    "# --------------------------------------------------------------------\n",
    "\n",
    "limit = 5 # Define limit here. You can change the limit to see how the code changes.\n",
    "\n",
    "# Define a for-loop that goes through values from 0 to 10.\n",
    "# The if-statements then continuously check if the value is smaller, larger or\n",
    "# equal to the limit.\n",
    "for value in range(0,11):\n",
    "    if value < limit:\n",
    "        print(value,\"is smaller than\",limit)\n",
    "    elif value > limit:\n",
    "        print(value,\"is larger than\",limit)\n",
    "    else:\n",
    "        print(value,\"is equal to\",limit)"
   ]
  },
  {
   "cell_type": "code",
   "execution_count": null,
   "metadata": {},
   "outputs": [],
   "source": [
    "# Test your skills:\n",
    "#     1. Write a for-loop that goes through numbers from 5 to 9.\n",
    "#     2. For each value, print value minus four\n"
   ]
  },
  {
   "cell_type": "markdown",
   "metadata": {},
   "source": [
    "**While**-loop is another option to make iterative code. Here are a couple of examples of how to use it."
   ]
  },
  {
   "cell_type": "code",
   "execution_count": null,
   "metadata": {},
   "outputs": [],
   "source": [
    "# Example 7 - while loop\n",
    "# -----------------------\n",
    "# This example shows how to perform several iterations using a while-loop.\n",
    "# ------------------------------------------------------------------------\n",
    "\n",
    "# Start iterating from 0. Save iteration state to variable i.\n",
    "# Note that the same functionality could also be implemented using for-loop.\n",
    "i = 0\n",
    "while i < 5: # Loop continues until the condition turns into false (in this case the last iteration will be i=4).\n",
    "    print(i) # Print the value of i.\n",
    "    i = i+1 # Increase i by 1 for the next iteration. Otherwise the loop would run forever.\n",
    "    \n",
    "# IMPORTANT NOTE! Always remember to increment the number of the iteration variable inside while-loop unless you know\n",
    "# what you're doing. If you forget to increment the iteration variable, the loop will continue forever.\n",
    "# If this happens, you need to quit executing the code by pressing the stop-button in the top-panel of this notebook."
   ]
  },
  {
   "cell_type": "code",
   "execution_count": null,
   "metadata": {},
   "outputs": [],
   "source": [
    "# Example 8 - infinite loop and user input\n",
    "# ----------------------------------------\n",
    "# This example demonstrates how to take user input and use infinite while-loop.\n",
    "# -----------------------------------------------------------------------------\n",
    "\n",
    "# We can make an infinite loop for example by writing \"while True\".\n",
    "# Then, inside the loop we should define a way to break the loop when some condition is met.\n",
    "# In this example we create a simple program that repeats the user input until the user \n",
    "# writes \"exit\".\n",
    "while True: # Infinite while-loop.\n",
    "    answer = input() # Whatever the user types will be saved to answer-variable. \n",
    "    if answer == \"exit\": # Use double equal-sign to check if the answer is equal to exit.\n",
    "        print(\"Exiting... bye bye.\\n\")\n",
    "        break # break-keyword will break the infinite loop\n",
    "    else:\n",
    "        print(\"You said\",answer) # If user didn't write \"exit\", print the user input."
   ]
  },
  {
   "cell_type": "code",
   "execution_count": null,
   "metadata": {},
   "outputs": [],
   "source": [
    "# Test your skills:\n",
    "#     1. Save number 0 to a variable called result.\n",
    "#     2. Make a while-loop that goes through 10 iterations.\n",
    "#     3. For each iteration add 10 to result.\n",
    "#     4. After your loop, print the result.\n"
   ]
  },
  {
   "cell_type": "markdown",
   "metadata": {},
   "source": [
    "<a id=\"functions\"></a>\n",
    "## Functions"
   ]
  },
  {
   "cell_type": "markdown",
   "metadata": {},
   "source": [
    "Functions are just pieces of code that allow you to use the same functionality multiple times. There are some ready-made functions in python itself and in modules that are discussed in the following section. Often it is useful to implement new functions to perform a task. Some useful functions in python are:\n",
    "- `print(argument)` Prints the argument inside the parenthesis. This should be familiar already.\n",
    "- `len(object)` Returns the length of an object, for example, the number of values in list or the number of characters in a string.\n",
    "- `abs(value)` Returns the absolute value of some value.\n",
    "- `min(values)` and `max(values)` Returns the minimum or maximum value of the argument values."
   ]
  },
  {
   "cell_type": "code",
   "execution_count": null,
   "metadata": {},
   "outputs": [],
   "source": [
    "# Example 9 - functions\n",
    "# ---------------------------------------------\n",
    "# This example shows how to use some ready-made functions in Python.\n",
    "# ------------------------------------------------------------------\n",
    "\n",
    "# In this example, we will define the length and minimum value of a list\n",
    "# and the absolute value of a number using ready-made Python functions.\n",
    "\n",
    "vals = [-36, 13, -4, 1, 196] # Define a list of some values.\n",
    "\n",
    "length = len(vals) # Save the length of the list to variable length.\n",
    "absvalue = abs(vals[2]) # Save the absolute value of the third element in vals-list to variable absvalue.\n",
    "minimum = min(vals) # Save the minimum value in vals-list to variable minimum.\n",
    "\n",
    "print(\"Number of elements in vals is\", length) # Print the length.\n",
    "print(\"Absolute value of the third element in vals is\", absvalue) # Print the absolute value.\n",
    "print(\"Minimum value of vals is\", minimum) # Print the minimum value."
   ]
  },
  {
   "cell_type": "code",
   "execution_count": null,
   "metadata": {},
   "outputs": [],
   "source": [
    "# Example 10 - custom functions\n",
    "# ----------------------------------------\n",
    "# This example shows how you can make a custom function in Python.\n",
    "# We will write a function that takes a single number as a parameter and returns the square of it.\n",
    "# ------------------------------------------------------------------------------------------------\n",
    "\n",
    "# Custom function definition starts with the keyword \"def\". \n",
    "# The value returned by the function is determined by the keyword \"return\".\n",
    "# Note that the function doesn't have to return anything.\n",
    "\n",
    "# Define a function called square. Whatever the number x is, this function will multiply it by itself.\n",
    "# The code part of the function is indented.\n",
    "def square(x):\n",
    "    return x*x \n",
    "\n",
    "# Now we can use this function\n",
    "print(\"The square of 3 is\", square(3))\n",
    "\n",
    "# Let's test the function with a list of multiple numbers\n",
    "test_values = [-5,-3,0,2,12]\n",
    "\n",
    "for value in test_values:\n",
    "    print(\"The square of\", value, \"is\", square(value))"
   ]
  },
  {
   "cell_type": "code",
   "execution_count": null,
   "metadata": {},
   "outputs": [],
   "source": [
    "# Example 11 - another custom function\n",
    "# ------------------------------------------------\n",
    "# This example shows how to make a function that transforms radians to degrees.\n",
    "# -----------------------------------------------------------------------------\n",
    "\n",
    "# Argument valueInRadians will be used to calculate the value in degrees.\n",
    "# For now, we will use pi = 3.1415 but we will find a way to give a more accurate value for it later\n",
    "def rad_to_deg(value_in_radians):\n",
    "    value_in_degrees = 360*value_in_radians/(2*3.1415) # This part of code does the transformation from rad to deg.\n",
    "    return value_in_degrees # Return the value in degrees.\n",
    "\n",
    "# Let's test our function with few values\n",
    "test_values = [0.0, 3.1415/2, 3.1415, 3/2*3.1415, 2*3.1415] # these values are [0, pi/2, pi, 3*pi/2, 2*pi]\n",
    "\n",
    "# Loop over each value in the list\n",
    "for value in test_values:\n",
    "    print(value, \"Rad =\", rad_to_deg(value), \"Degrees.\")"
   ]
  },
  {
   "cell_type": "code",
   "execution_count": null,
   "metadata": {},
   "outputs": [],
   "source": [
    "# Test your skills:\n",
    "#     1: Write a function that adds 1 to a value that is passed to it as an argument.\n",
    "#     2: Test your function using a list of values.\n"
   ]
  },
  {
   "cell_type": "markdown",
   "metadata": {},
   "source": [
    "<a id=\"modules\"></a>\n",
    "## Modules"
   ]
  },
  {
   "cell_type": "markdown",
   "metadata": {},
   "source": [
    "Python is widely used in the scientific community for computing, modifying and analyzing data, and for these purposes, Python is greatly optimized. Part of Python is to use different kinds of *modules*, which are basically files containing functions and statements. These modules are imported using **import**-command. The most important modules we're going to use are introduced below. Examples for the usage of these modules are below all introductions.\n",
    "\n",
    "These modules also have many more useful functions that are not listed here. Usually, if you are having trouble finding a solution to a coding problem, the fastest way to find an answer is to use google. Websites such as [stackexchange.com](https://stackexchange.com) have a lot of useful threads that can be utilized."
   ]
  },
  {
   "cell_type": "markdown",
   "metadata": {},
   "source": [
    "<a id=\"numpy\"></a>\n",
    "### Numerical calculus - NumPy"
   ]
  },
  {
   "cell_type": "markdown",
   "metadata": {},
   "source": [
    "NumPy is the fundamental package for scientific computing in Python. For more information, see [NumPy documentation](https://numpy.org/devdocs/user/whatisnumpy.html).\n",
    "\n",
    "**Summary** of useful NumPy commands:\n",
    "\n",
    "Import\n",
    "```Python\n",
    "import numpy as np\n",
    "```\n",
    "\n",
    "Calculus ( [pi](https://docs.scipy.org/doc/numpy/reference/constants.html), [sqrt](https://docs.scipy.org/doc/numpy/reference/generated/numpy.sqrt.html), [exp](https://docs.scipy.org/doc/numpy/reference/generated/numpy.exp.html), [sin](https://docs.scipy.org/doc/numpy/reference/generated/numpy.sin.html), [sum](https://docs.scipy.org/doc/numpy/reference/generated/numpy.sum.html), [linpace](https://docs.scipy.org/doc/numpy/reference/generated/numpy.linspace.html) )\n",
    "```Python\n",
    "np.pi                        Value of pi\n",
    "np.sqrt(x)                   Square root\n",
    "np.exp(x)                    Exponential\n",
    "np.sin(x)                    Sine-function \n",
    "np.sum(array)                Sum of a list or an array\n",
    "np.linspace(start,stop,num)  Linearly spaced array of numbers\n",
    "```\n"
   ]
  },
  {
   "cell_type": "markdown",
   "metadata": {},
   "source": [
    "<a id=\"pandas\"></a>\n",
    "### Data manipulation - Pandas"
   ]
  },
  {
   "cell_type": "markdown",
   "metadata": {},
   "source": [
    "Pandas is an open-source library providing high-performance, easy-to-use data structures and data analysis tools for the Python programming language. For more information, see [Pandas documentation](https://pandas.pydata.org/pandas-docs/stable/index.html).\n",
    "\n",
    "**Summary** of useful Pandas commands (df is a variable that contains the pandas-dataframe):\n",
    "\n",
    "Import\n",
    "```Python\n",
    "import pandas as pd\n",
    "```\n",
    "\n",
    "Data reading ( [read_csv](https://pandas.pydata.org/pandas-docs/stable/reference/api/pandas.read_csv.html) )\n",
    "```Python\n",
    "df = pd.read_csv('path')   Read CSV-file into Pandas dataframe.\n",
    "```\n",
    "\n",
    "Data inspecting ( [head](https://pandas.pydata.org/pandas-docs/stable/reference/api/pandas.DataFrame.head.html), [len](https://docs.python.org/3/library/functions.html#len), [shape](https://pandas.pydata.org/pandas-docs/stable/reference/api/pandas.DataFrame.shape.html) )\n",
    "```Python\n",
    "df.head(n)                 Returns _n_ first rows of the dataframe.\n",
    "len(df)                    Returns the number of rows in dataframe.\n",
    "df.shape                   Returns the dimensions of the dataframe.\n",
    "```\n",
    "\n",
    "Data manipulation ( pick spesific columns, filter data using limits )\n",
    "```Python\n",
    "df.column_name             Returns a column named 'column_name'\n",
    "df.['column_name']         Returns a column named 'column_name'.\n",
    "df[ (df.column_name >= lower_limit) & (df.column_name <= upper_limit)]  \n",
    "                           Returns a dataframe containing all rows that fulfil the conditions.\n",
    "```"
   ]
  },
  {
   "cell_type": "markdown",
   "metadata": {},
   "source": [
    "<a id=\"matplotlib\"></a>\n",
    "### Making graphs - Matplotlib"
   ]
  },
  {
   "cell_type": "markdown",
   "metadata": {},
   "source": [
    "Matplotlib is a comprehensive library for creating static, animated, and interactive visualizations in Python. For more information, see [Matplotlib documentation](https://matplotlib.org/).\n",
    "\n",
    "**Summary** of useful Matplotlib commands:\n",
    "\n",
    "Import\n",
    "```Python\n",
    "import matplotlib.pyplot as plt\n",
    "```\n",
    "\n",
    "Plot functions ( [plot](https://matplotlib.org/3.1.1/api/_as_gen/matplotlib.pyplot.plot.html), [hist](https://matplotlib.org/3.2.0/api/_as_gen/matplotlib.pyplot.hist.html), [scatter](https://matplotlib.org/3.2.0/api/_as_gen/matplotlib.pyplot.scatter.html), [errorbar](https://matplotlib.org/api/_as_gen/matplotlib.pyplot.errorbar.html) )\n",
    "\n",
    "```Python\n",
    "plt.plot(xdata, ydata, 'style')       Plot y versus x.\n",
    "plt.hist(data, n)                     Plot a histogram.\n",
    "plt.scatter(xdata, ydata)             A scatter plot of y versus x.\n",
    "plt.errorbar(val1, val2, xerr, yerr)  Plot y versus x with error bars.\n",
    "```\n",
    "\n",
    "Formatting ( [figure](https://matplotlib.org/3.2.0/api/_as_gen/matplotlib.pyplot.figure.html), [xscale](https://matplotlib.org/3.2.0/api/_as_gen/matplotlib.pyplot.xscale.html), [xlabel](https://matplotlib.org/3.1.1/api/_as_gen/matplotlib.pyplot.xlabel.html), [title](https://matplotlib.org/3.2.0/api/_as_gen/matplotlib.pyplot.title.html), [legend](https://matplotlib.org/3.1.1/api/_as_gen/matplotlib.pyplot.legend.html) )\n",
    "```Python\n",
    "plt.figure(figsize=[width,height])    Initialize figure. Optional: specify figure size.\n",
    "plt.xscale('log')                     Set axis scale to logarithmic.\n",
    "plt.xlabel('x-axis name')             Set axis labels.\n",
    "plt.title('title name')               Set figure title.\n",
    "plt.legend()                          Add legend.\n",
    "```\n",
    "\n",
    "\n",
    "Other ( [show](https://matplotlib.org/3.2.0/api/_as_gen/matplotlib.pyplot.show.html) )\n",
    "```Python\n",
    "plt.show()                            Show the figure.\n",
    "```"
   ]
  },
  {
   "cell_type": "markdown",
   "metadata": {},
   "source": [
    "<a id=\"scipy\"></a>\n",
    "### Scientific computing - SciPy"
   ]
  },
  {
   "cell_type": "markdown",
   "metadata": {},
   "source": [
    "SciPy library provides many user-friendly and efficient numerical routines, such as routines for numerical integration, interpolation, optimization, linear algebra, and statistics. For more information, see [SciPy documentation](https://www.scipy.org/scipylib/index.html)\n",
    "\n",
    "**Summary** of useful SciPy commands (import statements here are separately for each function):\n",
    "\n",
    "Import only the ones you need\n",
    "```Python\n",
    "from scipy.optimize import curve_fit\n",
    "from scipy.integrate import simps\n",
    "from scipy.interpolate import interp1d\n",
    "```\n",
    "\n",
    "Functions ( [curve_fit](https://docs.scipy.org/doc/scipy/reference/generated/scipy.optimize.curve_fit.html), [simps](https://docs.scipy.org/doc/scipy/reference/generated/scipy.integrate.simps.html), [interp1d](https://docs.scipy.org/doc/scipy/reference/generated/scipy.interpolate.interp1d.html) )\n",
    "```Python\n",
    "curve_fit(function, xdata, ydata, initial_guess)  Fit a function to data points and optimize parameters.\n",
    "simps(y,x)                                        Integration using Simpson's rule.\n",
    "interp1d(x,y,kind='...')                          Interpolation (kind can be for example linear, quadratic or cubic).\n",
    "```"
   ]
  },
  {
   "cell_type": "markdown",
   "metadata": {},
   "source": [
    "<a id=\"examples\"></a>\n",
    "## Examples"
   ]
  },
  {
   "cell_type": "markdown",
   "metadata": {},
   "source": [
    "#### Simple mathematical operations"
   ]
  },
  {
   "cell_type": "code",
   "execution_count": null,
   "metadata": {
    "scrolled": true
   },
   "outputs": [],
   "source": [
    "# Example 12 - NumPy\n",
    "# ------------------------------------------------\n",
    "# This example shows how to make use some of the basic commands in NumPy-module.\n",
    "# ------------------------------------------------------------------------------\n",
    "\n",
    "# To use NumPy functions, we need to import the module\n",
    "import numpy as np # Note that by writing \"as np\" we can refer to numpy-functions later by writing np.function_name.\n",
    "\n",
    "number = 100 # you can change this to see what happens\n",
    "print(\"Square root of\",number,\"is\",np.sqrt(number)) # np.sqrt(x) gives the square root of x.\n",
    "\n",
    "angle_rad = np.pi # np.pi gives the value for pi.\n",
    "angle_deg = np.degrees(angle_rad) # np.degrees(x) gives the value of x in degrees if x is in radians.\n",
    "print(\"Cosine of\", angle_deg, \"degrees is\", np.cos(angle_rad)) # np.cos(x) give the cosine of x."
   ]
  },
  {
   "cell_type": "markdown",
   "metadata": {},
   "source": [
    "#### Using matplotlib"
   ]
  },
  {
   "cell_type": "code",
   "execution_count": null,
   "metadata": {},
   "outputs": [],
   "source": [
    "# Example 13 - Matplotlib and NumPy\n",
    "# ------------------------------------------------\n",
    "# This example shows how to plot a simple graph using Matplotlib-module.\n",
    "# ----------------------------------------------------------------------\n",
    "\n",
    "# First, import the needed modules. We will use matplotlib.pyplot and numpy in this example\n",
    "# Abbrevation \"plt\" is often used for matplotlib.pyplot\n",
    "import matplotlib.pyplot as plt\n",
    "import numpy as np\n",
    "\n",
    "# Define x-points for graph using np.linspace.\n",
    "x = np.linspace(-2,8,10) # 10 points evenly spaced between -2 and 8\n",
    "y = x**2 # define y-points to be x-points squared.\n",
    "\n",
    "# Now let's make the graph\n",
    "plt.figure(figsize=(10,5)) # Initiate the figure. figsize is in inches\n",
    "plt.plot(x, y, label='dataset') # Plot data in variables x and y. Label is shown in the legend.\n",
    "plt.xlabel('x-axis label') # Add x- and y-axis labels\n",
    "plt.ylabel('y-axis label')\n",
    "plt.title('title') # add figure title\n",
    "plt.legend() # show legend in figure\n",
    "plt.show() # show the graph"
   ]
  },
  {
   "cell_type": "markdown",
   "metadata": {},
   "source": [
    "#### Plotting a histogram from data in file"
   ]
  },
  {
   "cell_type": "code",
   "execution_count": null,
   "metadata": {},
   "outputs": [],
   "source": [
    "# Example 14 - Pandas and Matplotlib\n",
    "# ------------------------------------------------\n",
    "# This example shows how to read data from CSV-file and plot a histogram.\n",
    "# -----------------------------------------------------------------------\n",
    "\n",
    "# Let's read sample data from a csv-file 'sample.csv' that contains the birthdays for a group of people. \n",
    "# We want to plot a histogram of the birth months.\n",
    "\n",
    "# First we need to import the necessary modules. Abbrevation 'pd' is often used for pandas-module.\n",
    "import pandas as pd\n",
    "import matplotlib.pyplot as plt\n",
    "\n",
    "# Let's read the datafile and print the first few lines to see how the datafile looks like.\n",
    "data = pd.read_csv('sample.csv') # Read the data. 'sample.csv' is saved in the same location as this notebook.\n",
    "print(data.head()) # This command prints the first five lines of the data.\n",
    "\n",
    "# We can see that the birthday data consists of columns \"year\", \"month\" and \"day\"\n",
    "# Let's select only the 'month'-column to our histogram.\n",
    "months = data[\"month\"] # month-column in csv-file can be selected using data['month'] or data.month\n",
    "\n",
    "# Now let's make the histogram.\n",
    "plt.figure(figsize=(10,5))       # Initiate figure\n",
    "plt.hist(months,12)              # Plot the histogram using 12 bins (to get one bin for each month).\n",
    "plt.xlabel('month')              # Set label for the x-axis\n",
    "plt.ylabel('number of people')   # Set label for the y-axis\n",
    "plt.show()                       # Show the histogram"
   ]
  },
  {
   "cell_type": "markdown",
   "metadata": {},
   "source": [
    "#### Fitting a function to data"
   ]
  },
  {
   "cell_type": "code",
   "execution_count": null,
   "metadata": {
    "scrolled": true
   },
   "outputs": [],
   "source": [
    "# Example 15 - SciPy, Matplotlib and NumPy\n",
    "# ------------------------------------------------\n",
    "# This example shows how to fit a function to data points.\n",
    "# --------------------------------------------------------\n",
    "\n",
    "# In this example we fit a quadratic function to a dataset using curve_fit from scipy.optimize.\n",
    "# NumPy-library also has ready-made functions for fitting, but it is useful to know how to fit an arbitrary \n",
    "# function to your data.\n",
    "\n",
    "# Let's first import the modules we will need.\n",
    "import numpy as np\n",
    "import matplotlib.pyplot as plt\n",
    "from scipy.optimize import curve_fit\n",
    "\n",
    "# Let's say that a quadratic function could fit our data points well.\n",
    "# Here we will define the function quadratic that will be used to make the fit.\n",
    "def quadratic(x,a,b,c):\n",
    "    return a*x**2 + b*x + c # ax²+bx+c\n",
    "\n",
    "# This part of the code is just to make random noisy articifial data points. This will be the data\n",
    "# that we want to make the fitting function. Don't mind this part of the code too much.\n",
    "xdata = np.linspace(-10,10,50)\n",
    "y = quadratic(xdata, np.random.uniform(-1,1), np.random.uniform(-1,1), np.random.uniform(-1,1))\n",
    "np.random.seed(5)\n",
    "y_noise = 0.4 * np.random.normal(size=xdata.size)\n",
    "ydata = y + y_noise\n",
    "fig = plt.figure(figsize=(10,5))\n",
    "plt.plot(xdata, ydata, 'r-', label='Noisy data') # Plot noisy data.\n",
    "\n",
    "# The function-fitting is done here\n",
    "p0 = [0.5, 1, -2] # This is the initial guess for parameters a, b and c. It is necessary especially for complicated functions\n",
    "# We need to give curve_fit the fitting function, xdata, ydata and the initial guess.\n",
    "# xdata and ydata are the actual datapoints that were artificially made before.\n",
    "# They could also be (and usually are), for example, experimental data points.\n",
    "curve, covar = curve_fit(quadratic, xdata, ydata, p0) # Curve is now a list of parameters a, b and c.\n",
    "# curve_fit also returns the covariance that is saved to variable covar.\n",
    "[a,b,c] = curve # Get parameters a b and c to corresponding variables from curve.\n",
    "\n",
    "# Now we know the optimized parameters a,b and c, we can plot the quadratic function.\n",
    "plt.plot(xdata, quadratic(xdata,a,b,c), 'k-', label='Fit')\n",
    "plt.xlabel('x')\n",
    "plt.ylabel('y')\n",
    "plt.legend()\n",
    "plt.show()\n",
    "# The figure should know show the data points and the fitted function.\n",
    "\n",
    "# Note that you can also assign restrictions for parameters in curve_fit()-function by adding another parameter.\n",
    "# Example:\n",
    "# param_bounds = ([p1_lowlim, p2_lowlim, p3_lowlim], [p1_upplim, p2_upplim, p3_upplim])\n",
    "# curve_fit(function, xdata, ydata, initial_guess, bounds=param_bounds)"
   ]
  },
  {
   "cell_type": "markdown",
   "metadata": {},
   "source": [
    "<a id=\"exercises\"></a>\n",
    "## Exercises"
   ]
  },
  {
   "cell_type": "markdown",
   "metadata": {},
   "source": [
    "There are three coding exercises this week. Do the coding in notebook and return your solutions to corresponding Moodle exercises."
   ]
  },
  {
   "cell_type": "markdown",
   "metadata": {},
   "source": [
    "### 1. Lifetime of a particle"
   ]
  },
  {
   "cell_type": "markdown",
   "metadata": {},
   "source": [
    "Write a function **lifetime(decayWidth)** that transforms the decay widht (in GeV) to particle's mean lifetime (in seconds) according to $\\tau = \\frac{\\hbar}{\\Gamma}$.\n",
    "\n",
    "<br>\n",
    "\n",
    "$\\color{red}{\\text{Write the code below}}$\n",
    "\n",
    "$\\color{red}{\\text{Submit your function definition to exercise \"Lifetime of a particle\" on Moodle.}}$"
   ]
  },
  {
   "cell_type": "code",
   "execution_count": null,
   "metadata": {},
   "outputs": [],
   "source": [
    "def lifetime(decayWidth):\n",
    "    hbar = 6.582119569e-16/1e9 # GeV*s\n",
    "    return hbar/decayWidth"
   ]
  },
  {
   "cell_type": "markdown",
   "metadata": {},
   "source": [
    "### 2. Probability distribution functions"
   ]
  },
  {
   "cell_type": "markdown",
   "metadata": {},
   "source": [
    "Go to Moodle exercise \"Probability distribution\" and check which one distribution function you should code. **You only need to do code one distribution function.**"
   ]
  },
  {
   "cell_type": "markdown",
   "metadata": {},
   "source": [
    "#### **Gaussian distribution**"
   ]
  },
  {
   "cell_type": "markdown",
   "metadata": {},
   "source": [
    "Write a function **gaussian(x, sigma, mu)** that returns the value of gaussian probability distribution function $f(x)=\\frac{1}{\\sigma\\sqrt{2\\pi}}e^{-\\frac{1}{2}\\left(\\frac{x-\\mu}{\\sigma}\\right)^2}$.\n",
    "\n",
    "<br>\n",
    "\n",
    "$\\color{red}{\\text{Write the code below}}$\n",
    "\n",
    "$\\color{red}{\\text{Submit your function definition to exercise \"Probability distribution\" on Moodle.}}$"
   ]
  },
  {
   "cell_type": "code",
   "execution_count": null,
   "metadata": {},
   "outputs": [],
   "source": [
    "# possible solution\n",
    "\n",
    "import numpy as np\n",
    "\n",
    "def gaussian(x, sigma, mu):\n",
    "    return 1/(sigma*np.sqrt(2*np.pi))*np.exp(-0.5*((x-mu)/sigma)**2)"
   ]
  },
  {
   "cell_type": "markdown",
   "metadata": {},
   "source": [
    "#### **Cauchy distribution**"
   ]
  },
  {
   "cell_type": "markdown",
   "metadata": {},
   "source": [
    "Write a function **cauchy(x, gamma, x0)** that returns the value of cauchy probability distribution function $f(x)=\\frac{1}{\\pi\\gamma\\left(1+\\left(\\frac{x-x_0}{\\gamma}\\right)^2\\right)}$.\n",
    "\n",
    "<br>\n",
    "\n",
    "$\\color{red}{\\text{Write the code below}}$\n",
    "\n",
    "$\\color{red}{\\text{Submit your function definition to exercise \"Probability distribution\" on Moodle.}}$"
   ]
  },
  {
   "cell_type": "code",
   "execution_count": null,
   "metadata": {},
   "outputs": [],
   "source": [
    "# possible solution\n",
    "\n",
    "import numpy as np\n",
    "\n",
    "def cauchy( x, gamma, x0):\n",
    "    return 1/(np.pi*gamma*(1+((x-x0)/gamma)**2))"
   ]
  },
  {
   "cell_type": "markdown",
   "metadata": {},
   "source": [
    "#### **Logistic distribution**"
   ]
  },
  {
   "cell_type": "markdown",
   "metadata": {},
   "source": [
    "Write a function **logistic(x, mu, s)** that returns the value of logistic probability distribution function $f(x)=\\frac{e^{-\\left(x-\\mu\\right)/s}}{s\\left(1+e^{-\\left(x-\\mu\\right)/s}\\right)^2}$\n",
    "\n",
    "<br>\n",
    "\n",
    "$\\color{red}{\\text{Write the code below}}$\n",
    "\n",
    "$\\color{red}{\\text{Submit your function definition to exercise \"Probability distribution\" on Moodle.}}$"
   ]
  },
  {
   "cell_type": "code",
   "execution_count": null,
   "metadata": {},
   "outputs": [],
   "source": [
    "# possible solution\n",
    "\n",
    "import numpy as np\n",
    "\n",
    "def logistic(x, mu, s):\n",
    "    return np.exp(-(x-mu)/s)/(s*(1+np.exp(-(x-mu)/s))**2)"
   ]
  },
  {
   "cell_type": "markdown",
   "metadata": {},
   "source": [
    "### 3. Reading data from file"
   ]
  },
  {
   "cell_type": "markdown",
   "metadata": {},
   "source": [
    "Check the name of your datafile form Moodle exercise \"Reading data from file\".\n",
    "Read the data in that file and calculate the average value of the data in column \"data\".\n",
    "Print your result using the provided formatting code.\n",
    "\n",
    "<br>\n",
    "\n",
    "$\\color{red}{\\text{Write the code below}}$\n",
    "\n",
    "$\\color{red}{\\text{Submit your code to exercise \"Reading data from file\" on Moodle.}}$"
   ]
  },
  {
   "cell_type": "code",
   "execution_count": null,
   "metadata": {},
   "outputs": [],
   "source": [
    "# solution for datafile_1.csv\n",
    "\n",
    "import pandas as pd\n",
    "import numpy as np\n",
    "\n",
    "filename = \"datafile_1.csv\"\n",
    "df = pd.read_csv(filename)\n",
    "data = df.data\n",
    "result = np.mean(data)\n",
    "\n",
    "print(\"{:.5f}\".format(result))"
   ]
  },
  {
   "cell_type": "code",
   "execution_count": null,
   "metadata": {},
   "outputs": [],
   "source": [
    "# solutions for other datafiles\n",
    "\n",
    "for i in range(2,6):\n",
    "    filename = \"datafile_{}.csv\".format(i)\n",
    "    df = pd.read_csv(filename)\n",
    "    data = df.data\n",
    "    result = np.mean(data)\n",
    "\n",
    "    print(\"{:.5f}\".format(result))"
   ]
  }
 ],
 "metadata": {
  "kernelspec": {
   "display_name": "Python 2",
   "language": "python",
   "name": "python2"
  },
  "language_info": {
   "codemirror_mode": {
    "name": "ipython",
    "version": 2
   },
   "file_extension": ".py",
   "mimetype": "text/x-python",
   "name": "python",
   "nbconvert_exporter": "python",
   "pygments_lexer": "ipython2",
   "version": "2.7.15"
  }
 },
 "nbformat": 4,
 "nbformat_minor": 4
}

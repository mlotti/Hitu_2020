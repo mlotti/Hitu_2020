{
 "cells": [
  {
   "cell_type": "markdown",
   "metadata": {},
   "source": [
    "# Python in data-analysis"
   ]
  },
  {
   "cell_type": "markdown",
   "metadata": {},
   "source": [
    "Python is a programming language that has many beneficial features for example in data-analysis. Python libraries such as numpy, pandas and matplotlib provide a robust method to manipulate and visualize data.\n",
    "\n",
    "In this tutorial you can find some of the most important things about Python related to this course.\n",
    "Examples in this notebook can be useful in the upcoming exercises.\n",
    "\n",
    "You can run code cells in notebooks by clicking the cell and pressing `CTRL`+`ENTER`.\n",
    "If you can't remember how to do something in notebook, just press **H** while in command mode and you can see a list of shortcuts you can use.\n",
    "\n",
    "Feel free to modify the code cells and try different things!"
   ]
  },
  {
   "cell_type": "markdown",
   "metadata": {},
   "source": [
    "1. [Basics](#basics)\n",
    "1. [Functions](#functions)\n",
    "1. [Modules](#modules)\n",
    "    1. [NumPy](#numpy)\n",
    "    1. [Pandas](#pandas)\n",
    "    1. [Matplotlib](#matplotlib)\n",
    "    1. [SciPy](#scipy)\n",
    "1. [More examples](#examples)"
   ]
  },
  {
   "cell_type": "markdown",
   "metadata": {},
   "source": [
    "## Basics"
   ]
  },
  {
   "cell_type": "markdown",
   "metadata": {},
   "source": [
    "The following example shows the very basic properties of python such as variables,  list-datatype, if-statements and loops."
   ]
  },
  {
   "cell_type": "code",
   "execution_count": null,
   "metadata": {},
   "outputs": [],
   "source": [
    "# Example 1 of basics of python\n",
    "\n",
    "# Lines that start with # are comment lines. They won't affect to your code\n",
    "\n",
    "# Variables\n",
    "text = 'The result is'\n",
    "num1 = 25\n",
    "num2 = 7\n",
    "result = num1 - num2\n",
    "\n",
    "# You can print text using print-function\n",
    "print(text, result)"
   ]
  },
  {
   "cell_type": "code",
   "execution_count": null,
   "metadata": {},
   "outputs": [],
   "source": [
    "# Example 2 of basics of python\n",
    "\n",
    "# lists\n",
    "values = [1,3,19,-75] # list of numbers\n",
    "fruits = ['Apple', 'Banana', 'Orange'] # list of strings\n",
    "\n",
    "# print lists\n",
    "print(\"Values:\",values)\n",
    "print(\"Fruits:\",fruits)\n",
    "\n",
    "# print second value in fruits-list\n",
    "print(\"Second fruit is\",fruits[1]) # note that indexing start from 0. Therefore the index for second element is 1.\n",
    "\n",
    "fruits.append('Passion fruit') # add new item to list\n",
    "print(\"New fruits:\",fruits)"
   ]
  },
  {
   "cell_type": "markdown",
   "metadata": {},
   "source": [
    "### If-statements"
   ]
  },
  {
   "cell_type": "markdown",
   "metadata": {},
   "source": [
    "**If**-statements can be used if we only want to execute the code if a certain condition is met. The syntax is quite self-explanatory:"
   ]
  },
  {
   "cell_type": "code",
   "execution_count": null,
   "metadata": {},
   "outputs": [],
   "source": [
    "# Example 1 of if-statement\n",
    "\n",
    "condition1 = 1 > 2 # this is False\n",
    "condition2 = 2 > 1 # this is True\n",
    "\n",
    "if condition1:\n",
    "    # This part of code is accessed if condition1 is true\n",
    "    print(\"Condition 1 was true.\")\n",
    "elif condition2:\n",
    "    # This part of code is accessed if condition1 is false and condition2 is true\n",
    "    print(\"Condition 2 was true.\")\n",
    "else:\n",
    "    # This part of code is accessed if each condition is false\n",
    "    print(\"Each condition was false.\")\n",
    "    \n",
    "# You can try changing the conditions and see what happens. You can also put the condition directly to \n",
    "# the if-statement rather than assinging it to a variable (e.g. \"if 1 < 2:\")."
   ]
  },
  {
   "cell_type": "markdown",
   "metadata": {},
   "source": [
    "### Loops"
   ]
  },
  {
   "cell_type": "markdown",
   "metadata": {},
   "source": [
    "**For**-loops are used to iterate over a sequence of values. For-loop can be used in the following way:\n",
    "\n",
    "`for element in sequence:\n",
    "    do something`\n",
    "In this case the code part is done for each element in a sequence.\n",
    "\n",
    "A sequence is usually a list or defined using `range(start,stop,interval)`-function (see example). "
   ]
  },
  {
   "cell_type": "code",
   "execution_count": null,
   "metadata": {},
   "outputs": [],
   "source": [
    "# Example of for-loop. Print contents of a list.\n",
    "\n",
    "fruits = ['Apple', 'Banana', 'Orange']\n",
    "\n",
    "for fruit in fruits:\n",
    "    print(fruit)"
   ]
  },
  {
   "cell_type": "code",
   "execution_count": null,
   "metadata": {},
   "outputs": [],
   "source": [
    "# Example 2 of for-loop. Print integers and their squares from 1 to 9\n",
    "\n",
    "for i in range(1,10): # note that the stopping value is not included in the iteration. Default interval of range is 1.\n",
    "    print(\"Number: \",i,\"  Square:\",i*i)"
   ]
  },
  {
   "cell_type": "code",
   "execution_count": null,
   "metadata": {},
   "outputs": [],
   "source": [
    "# Example of if-statement and for-loop.\n",
    "\n",
    "values = range(0,10)\n",
    "limit = 5\n",
    "\n",
    "for value in values:\n",
    "    if value < limit:\n",
    "        print(value,\"is smaller than\",limit)\n",
    "    elif value > limit:\n",
    "        print(value,\"is larger than\",limit)\n",
    "    else:\n",
    "        print(value,\"is equal to\",limit)"
   ]
  },
  {
   "cell_type": "markdown",
   "metadata": {},
   "source": [
    "**While**-loop is another option to make iterative code. Here are a couple of examples how to use it."
   ]
  },
  {
   "cell_type": "code",
   "execution_count": null,
   "metadata": {},
   "outputs": [],
   "source": [
    "# Example 1 of while loop\n",
    "\n",
    "i = 0\n",
    "while i < 5: # Loop continues until the condition turns into false.\n",
    "    print(i)\n",
    "    i = i+1 # increase i by 1 for next iteration"
   ]
  },
  {
   "cell_type": "code",
   "execution_count": null,
   "metadata": {},
   "outputs": [],
   "source": [
    "# Example 2 of while loop. This code asks the user for input and repeats it. Program exits when \"exit\" is passed.\n",
    "\n",
    "while True: # Infinite loop\n",
    "    answer = str(input()) # input() can be used to take user input\n",
    "    if answer == \"exit\":\n",
    "        print(\"Exiting... bye bye.\\n\")\n",
    "        break # break-keyword will break the loop\n",
    "    else:\n",
    "        print(\"You said\",answer)"
   ]
  },
  {
   "cell_type": "markdown",
   "metadata": {},
   "source": [
    "### Basics - Examples"
   ]
  },
  {
   "cell_type": "code",
   "execution_count": null,
   "metadata": {},
   "outputs": [],
   "source": [
    "# Save texts 'Test 1' and 'Test 2' and numbers 0 and 1 into variables called t1,t2,n1,n2\n",
    "\n",
    "t1 = 'Test 1'\n",
    "t2 = 'Test 2'\n",
    "n1 = 0\n",
    "n2 = 1\n",
    "\n",
    "# Make if-statement that prints 'Test 1' if number is 0, 'Test 2' if number is 1 and 'Unknown' otherwise\n",
    "\n",
    "number = 1 # You can change this to something else and see what happens when you run the code.\n",
    "if number == n1:   # note the double equal-sign here\n",
    "    print(t1)\n",
    "elif number == n2:\n",
    "    print(t2)\n",
    "else:\n",
    "    print('Unknown')"
   ]
  },
  {
   "cell_type": "code",
   "execution_count": null,
   "metadata": {},
   "outputs": [],
   "source": [
    "# Let's make a for loop that prints the integers from 1 to 10\n",
    "\n",
    "for i in range(1,11): # The last number in range is not included.\n",
    "    print(i)"
   ]
  },
  {
   "cell_type": "markdown",
   "metadata": {},
   "source": [
    "<a id=\"functions\"></a>\n",
    "## Functions"
   ]
  },
  {
   "cell_type": "markdown",
   "metadata": {},
   "source": [
    "Functions are basically just pieces of code that allows you to use the same functionality multiple times. There are a number of ready-made functions in python itself and in modules that are discussed in the following section. Often it is useful to implement new functions to perform some task. Some useful functions in python are:\n",
    "- `print(argument)` prints the argument inside parenthesis\n",
    "- `len(object)` returns the length of an object, for example a list or a string\n",
    "- `abs(value)` returns the absolute value of the value\n",
    "- `min(values)` and `max(values)` returns the minimum or maximum value of the argument values"
   ]
  },
  {
   "cell_type": "markdown",
   "metadata": {},
   "source": [
    "Example 2 shows an example of a custom-made function"
   ]
  },
  {
   "cell_type": "code",
   "execution_count": null,
   "metadata": {},
   "outputs": [],
   "source": [
    "# Example of python-functions\n",
    "\n",
    "vals = [-36, 13, -4, 1, 196]\n",
    "length = len(vals)\n",
    "absvalue = abs(vals[2]) # note that index of first element is 0\n",
    "minimum = min(vals)\n",
    "print(\"Number of elements in vals is\", length)\n",
    "print(\"Absolute value of the third element in vals is\", absvalue) \n",
    "print(\"Minimum value of vals is\", minimum)"
   ]
  },
  {
   "cell_type": "code",
   "execution_count": null,
   "metadata": {},
   "outputs": [],
   "source": [
    "# Example of custom function\n",
    "\n",
    "# Let's make a function that takes a single float number as a parameter and returns the square of it.\n",
    "# Custom function definition starts with keyword \"def\". The value returned by function is determined by keyword \"return\".\n",
    "# Note that the function doesn't have to return anything.\n",
    "\n",
    "def square(x):\n",
    "    return x*x\n",
    "\n",
    "# Now we can use this function\n",
    "\n",
    "print(\"The square of 3 is\", square(3))\n",
    "print()\n",
    "\n",
    "# Let's test the function with a list of multiple numbers\n",
    "\n",
    "testValues = [-5,-3,0,2,12]\n",
    "# Loop over each value in list\n",
    "for i in testValues:\n",
    "    print(\"The square of\", i, \"is\", square(i))"
   ]
  },
  {
   "cell_type": "code",
   "execution_count": 3,
   "metadata": {},
   "outputs": [
    {
     "name": "stdout",
     "output_type": "stream",
     "text": [
      "0.0 Rad = 0.0 Degrees.\n",
      "1.57075 Rad = 90.0 Degrees.\n",
      "3.1415 Rad = 180.0 Degrees.\n",
      "4.71225 Rad = 270.0 Degrees.\n",
      "6.283 Rad = 360.0 Degrees.\n"
     ]
    }
   ],
   "source": [
    "# Another example function\n",
    "\n",
    "# This function transforms radians to degrees.\n",
    "def RadToDeg(valueInRadians):\n",
    "    valueInDegrees = 360*valueInRadians/(2*3.1415) # we will find a way to give more accurate value for pi later\n",
    "    return valueInDegrees\n",
    "\n",
    "# let's test our function with few values\n",
    "\n",
    "testValues = [0.0, 3.1415/2, 3.1415, 3/2*3.1415, 2*3.1415] # these values are [0, pi/2, pi, 3*pi/2, 2*pi]\n",
    "# Loop over each value in list\n",
    "for i in testValues:\n",
    "    print(i, \"Rad =\", RadToDeg(i), \"Degrees.\")"
   ]
  },
  {
   "cell_type": "markdown",
   "metadata": {},
   "source": [
    "<a id=\"modules\"></a>\n",
    "## Modules"
   ]
  },
  {
   "cell_type": "markdown",
   "metadata": {},
   "source": [
    "Python is widely used in scientific community for computing, modifying and analyzing data, and for these purposes Python is greatly optimized. Part of Python is to use different kind of *modules*, which are files containing definitions (functions) and statements. These modules are imported using **import**-command. The most important modules we're going to use are introduced below. Example usage of these modules are below all introductions."
   ]
  },
  {
   "cell_type": "markdown",
   "metadata": {},
   "source": [
    "<a id=\"numpy\"></a>\n",
    "### Numerical calculus - NumPy"
   ]
  },
  {
   "cell_type": "markdown",
   "metadata": {},
   "source": [
    "NumPy is the fundamental package for scientific computing in Python. For more information, see [NumPy documentation](https://numpy.org/devdocs/user/whatisnumpy.html).\n",
    "\n",
    "**Summary** of useful commands\n",
    "\n",
    "Import\n",
    "```Python\n",
    "import numpy as np\n",
    "```\n",
    "\n",
    "Calculus ( [pi](https://docs.scipy.org/doc/numpy/reference/constants.html), [sqrt](https://docs.scipy.org/doc/numpy/reference/generated/numpy.sqrt.html), [exp](https://docs.scipy.org/doc/numpy/reference/generated/numpy.exp.html), [sin](https://docs.scipy.org/doc/numpy/reference/generated/numpy.sin.html), [sum](https://docs.scipy.org/doc/numpy/reference/generated/numpy.sum.html), [linpace](https://docs.scipy.org/doc/numpy/reference/generated/numpy.linspace.html) )\n",
    "```Python\n",
    "np.pi\n",
    "np.sqrt(x)\n",
    "np.exp(x)\n",
    "np.sin(x)\n",
    "np.sum(array)\n",
    "np.linspace(start,stop,num)\n",
    "```\n"
   ]
  },
  {
   "cell_type": "markdown",
   "metadata": {},
   "source": [
    "<a id=\"pandas\"></a>\n",
    "### Data manipulation - Pandas"
   ]
  },
  {
   "cell_type": "markdown",
   "metadata": {},
   "source": [
    "Pandas is an open source library providing high-performance, easy-to-use data structures and data analysis tools for the Python programming language. For more information, see [Pandas documentation](https://pandas.pydata.org/pandas-docs/stable/index.html).\n",
    "\n",
    "**Summary** of useful commands (df is a variable that containts the pandas-dataframe):\n",
    "\n",
    "Import\n",
    "```Python\n",
    "import pandas as pd\n",
    "```\n",
    "\n",
    "Data reading ( [read_csv](https://pandas.pydata.org/pandas-docs/stable/reference/api/pandas.read_csv.html), [read_table](https://pandas.pydata.org/pandas-docs/stable/reference/api/pandas.read_table.html) )\n",
    "```Python\n",
    "df = pd.read_csv('path')\n",
    "df = pd.read_table('path')\n",
    "```\n",
    "\n",
    "Data inspecting ( [head](https://pandas.pydata.org/pandas-docs/stable/reference/api/pandas.DataFrame.head.html), [len](https://docs.python.org/3/library/functions.html#len), [shape](https://pandas.pydata.org/pandas-docs/stable/reference/api/pandas.DataFrame.shape.html) )\n",
    "```Python\n",
    "df.head(n)\n",
    "len(df)\n",
    "df.shape\n",
    "```\n",
    "\n",
    "Data manipulation ( pick spesific columns, filter data using limits )\n",
    "```Python\n",
    "df.column_name\n",
    "df.['column_name]\n",
    "df[ (df.column_name >= lower_limit) & (df.column_name <= upper_limit)]  \n",
    "```"
   ]
  },
  {
   "cell_type": "markdown",
   "metadata": {},
   "source": [
    "<a id=\"matplotlib\"></a>\n",
    "### Plotting - Matplotlib"
   ]
  },
  {
   "cell_type": "markdown",
   "metadata": {},
   "source": [
    "Matplotlib is a comprehensive library for creating static, animated, and interactive visualizations in Python. For more information, see [Matplotlib documentation](https://matplotlib.org/).\n",
    "\n",
    "**Summary** of useful commands:\n",
    "\n",
    "Import\n",
    "```Python\n",
    "import matplotlib.pyplot as plt\n",
    "```\n",
    "\n",
    "Plot functions ( [plot](https://matplotlib.org/3.1.1/api/_as_gen/matplotlib.pyplot.plot.html), [hist](https://matplotlib.org/3.2.0/api/_as_gen/matplotlib.pyplot.hist.html), [scatter](https://matplotlib.org/3.2.0/api/_as_gen/matplotlib.pyplot.scatter.html), [errorbar](https://matplotlib.org/api/_as_gen/matplotlib.pyplot.errorbar.html) )\n",
    "\n",
    "```Python\n",
    "plt.plot(xdata, ydata, 'style')\n",
    "plt.hist(data, n)\n",
    "plt.scatter(xdata, ydata)\n",
    "plt.errorbar(val1, val2, xerr, yerr)\n",
    "```\n",
    "\n",
    "Formatting ( [figure](https://matplotlib.org/3.2.0/api/_as_gen/matplotlib.pyplot.figure.html), [xscale](https://matplotlib.org/3.2.0/api/_as_gen/matplotlib.pyplot.xscale.html), [xlabel](https://matplotlib.org/3.1.1/api/_as_gen/matplotlib.pyplot.xlabel.html), [title](https://matplotlib.org/3.2.0/api/_as_gen/matplotlib.pyplot.title.html), [legend](https://matplotlib.org/3.1.1/api/_as_gen/matplotlib.pyplot.legend.html) )\n",
    "```Python\n",
    "plt.figure(figsize=[width,height])\n",
    "plt.xscale('log')\n",
    "plt.xlabel('x-axis name')\n",
    "plt.title('title name')\n",
    "plt.legend()\n",
    "```\n",
    "\n",
    "\n",
    "Other ( [show](https://matplotlib.org/3.2.0/api/_as_gen/matplotlib.pyplot.show.html) )\n",
    "```Python\n",
    "plt.show()\n",
    "```"
   ]
  },
  {
   "cell_type": "markdown",
   "metadata": {},
   "source": [
    "<a id=\"scipy\"></a>\n",
    "### Scientific computing - SciPy"
   ]
  },
  {
   "cell_type": "markdown",
   "metadata": {},
   "source": [
    "SciPy library provides many user-friendly and efficient numerical routines, such as routines for numerical integration, interpolation, optimization, linear algebra, and statistics. For more information, see [SciPy documentation](https://www.scipy.org/scipylib/index.html)\n",
    "\n",
    "**Summary** of useful commands (import statements here are separately for each function):\n",
    "\n",
    "Import only the ones you need\n",
    "```Python\n",
    "from scipy.optimize import curve_fit\n",
    "from scipy.integrate import simps\n",
    "from scipy.interpolate import interp1d\n",
    "```\n",
    "\n",
    "Functions ( [curve_fit](https://docs.scipy.org/doc/scipy/reference/generated/scipy.optimize.curve_fit.html), [simps](https://docs.scipy.org/doc/scipy/reference/generated/scipy.integrate.simps.html), [interp1d](https://docs.scipy.org/doc/scipy/reference/generated/scipy.interpolate.interp1d.html) )\n",
    "```Python\n",
    "curve_fit(function, xdata, ydata, initial_guess)\n",
    "simps(y,x)\n",
    "interp1d(x,y,kind='...') # ... can be for example linear, quadratic or cubic \n",
    "```"
   ]
  },
  {
   "cell_type": "markdown",
   "metadata": {},
   "source": [
    "<a id=\"examples\"></a>\n",
    "### Examples"
   ]
  },
  {
   "cell_type": "markdown",
   "metadata": {},
   "source": [
    "#### Simple calculus"
   ]
  },
  {
   "cell_type": "code",
   "execution_count": null,
   "metadata": {
    "scrolled": true
   },
   "outputs": [],
   "source": [
    "# numpy examples\n",
    "\n",
    "import numpy as np\n",
    "\n",
    "number = 100 # you can change this to see what happens\n",
    "print(\"Square root of\",number,\"is\",np.sqrt(number))\n",
    "\n",
    "angle_rad = np.pi\n",
    "angle_deg = np.degrees(angle_rad)\n",
    "print(\"Cosine of\", angle_deg, \"degrees is\", np.cos(angle_rad))"
   ]
  },
  {
   "cell_type": "markdown",
   "metadata": {},
   "source": [
    "#### Using matplotlib"
   ]
  },
  {
   "cell_type": "code",
   "execution_count": null,
   "metadata": {},
   "outputs": [],
   "source": [
    "# Simple matplotlb example\n",
    "\n",
    "import matplotlib.pyplot as plt\n",
    "\n",
    "# Define x-points using np.linspace\n",
    "x = np.linspace(-2,8,10) # 10 points evenly spaced between -2 and 8\n",
    "y = x**2 # x**2 means x squared\n",
    "\n",
    "plt.figure(figsize=(10,5)) # figsize in inches\n",
    "plt.plot(x,y,'ro-', label='dataset') # plot in red dots connected with line. Label is shown in legend\n",
    "plt.xlabel('y-axis label')\n",
    "plt.ylabel('x-axis label')\n",
    "plt.title('title')\n",
    "plt.legend() # show legend\n",
    "plt.show() # show plot"
   ]
  },
  {
   "cell_type": "markdown",
   "metadata": {},
   "source": [
    "#### Plotting a histogram from data in file"
   ]
  },
  {
   "cell_type": "code",
   "execution_count": null,
   "metadata": {},
   "outputs": [],
   "source": [
    "# Pandas and matplotlib example\n",
    "\n",
    "# Let's read sample data from a csv-file '../Data/sample.csv' that contains the birthdays for a group of people. \n",
    "# We want to plot a histogram of the birth months.\n",
    "\n",
    "# first we need to import the necessary modules (in notebooks the import-statements that were run before are \n",
    "# still valid and in that case the statements here wouldn't be necessary)\n",
    "\n",
    "import pandas as pd\n",
    "import matplotlib.pyplot as plt\n",
    "\n",
    "data = pd.read_csv('sample.csv') # read the data\n",
    "months = data.month              # month-column in csv-file can be selected using data.month or data['month']\n",
    "\n",
    "plt.figure(figsize=(10,5))\n",
    "plt.hist(months,12)              # plot the histogram\n",
    "plt.xlabel('month')              # set label for x-axis\n",
    "plt.ylabel('number of people')   # set label for y-axis\n",
    "plt.show()                       # show the histogram\n"
   ]
  },
  {
   "cell_type": "markdown",
   "metadata": {},
   "source": [
    "#### Fitting a function to data"
   ]
  },
  {
   "cell_type": "code",
   "execution_count": null,
   "metadata": {
    "scrolled": true
   },
   "outputs": [],
   "source": [
    "# Numpy, matplotlib and scipy example\n",
    "\n",
    "# In this example we fit a quadratic function to a dataset using curve_fit from scipy.optimize.\n",
    "# numpy-library also has ready-made functions for fitting, but it is useful to know how to fit an arbitrary \n",
    "# function to your data.\n",
    "\n",
    "import numpy as np\n",
    "import matplotlib.pyplot as plt\n",
    "from scipy.optimize import curve_fit\n",
    "\n",
    "# This is the function we want to fit to the data.\n",
    "def quadratic(x,a,b,c):\n",
    "    return a*x**2 + b*x + c\n",
    "\n",
    "# This code is just to produce some random noisy data where we need to fit a function. Don't mind this too much.\n",
    "xdata = np.linspace(-10,10,50)\n",
    "y = quadratic(xdata, np.random.uniform(-1,1), np.random.uniform(-1,1), np.random.uniform(-1,1))\n",
    "np.random.seed(5)\n",
    "y_noise = 0.4 * np.random.normal(size=xdata.size)\n",
    "ydata = y + y_noise\n",
    "fig = plt.figure(figsize=(10,5))\n",
    "plt.plot(xdata, ydata, 'r-', label='Data')\n",
    "\n",
    "# The function-fitting is done here\n",
    "p0 = [0.5, 1, -2] # This is the initial guess for parameters a, b and c. It is necessary especially for complicated functions\n",
    "curve, covar = curve_fit(quadratic, xdata, ydata, p0) # curve is now a list of parameters a, b and c\n",
    "[a,b,c] = curve\n",
    "\n",
    "plt.plot(xdata, quadratic(xdata,a,b,c), 'k-', label='Fit')\n",
    "plt.xlabel('x')\n",
    "plt.ylabel('y')\n",
    "plt.legend()\n",
    "plt.show()"
   ]
  },
  {
   "cell_type": "markdown",
   "metadata": {},
   "source": [
    "# CODERUNNER EXERCISES"
   ]
  },
  {
   "cell_type": "markdown",
   "metadata": {},
   "source": [
    "# Week 1 (getting familiar with python)"
   ]
  },
  {
   "cell_type": "markdown",
   "metadata": {},
   "source": [
    "# Average"
   ]
  },
  {
   "cell_type": "markdown",
   "metadata": {},
   "source": [
    "<p>Write a function <b>average( vals )</b> that takes a list of values and returns the average value.</p>"
   ]
  },
  {
   "cell_type": "code",
   "execution_count": null,
   "metadata": {},
   "outputs": [],
   "source": [
    "# possible solution\n",
    "\n",
    "import numpy as np\n",
    "\n",
    "def average( vals ):\n",
    "    return np.sum(vals)/len(vals) # or simply np.mean(vals)\n",
    "\n",
    "# Hint1: find a way to calculate sum of the list and the length of values in the list\n",
    "# Hint2: Use for example sum-function from numpy module and function \"len\" (to calculate length of list)"
   ]
  },
  {
   "cell_type": "code",
   "execution_count": null,
   "metadata": {},
   "outputs": [],
   "source": [
    "# test1\n",
    "testlist = [0]\n",
    "print(average(testlist))\n",
    "# expected output:\n",
    "# 0.0\n",
    "\n",
    "# test2\n",
    "testlist = [1,2,3,4]\n",
    "print(average(testlist))\n",
    "# expected output:\n",
    "# 2.5\n",
    "\n",
    "# test1\n",
    "testlist = [-2,-1,0,1,2,3]\n",
    "print(average(testlist))\n",
    "# expected output:\n",
    "# 0.5\n",
    "\n",
    "# test1\n",
    "testlist = [-1.2345, 0.1245, 663.13223, 32847.1111]\n",
    "print(round(average(testlist),2))\n",
    "# expected output:\n",
    "# 8377.28"
   ]
  },
  {
   "cell_type": "markdown",
   "metadata": {},
   "source": [
    "## Inverse value squared"
   ]
  },
  {
   "cell_type": "markdown",
   "metadata": {},
   "source": [
    "Write a function **inv_squared( value )** that returns the inverse value squared of the input value."
   ]
  },
  {
   "cell_type": "code",
   "execution_count": 19,
   "metadata": {},
   "outputs": [],
   "source": [
    "# possible solution\n",
    "\n",
    "def inv_squared( value ):\n",
    "    return (1/value)**2"
   ]
  },
  {
   "cell_type": "code",
   "execution_count": 26,
   "metadata": {},
   "outputs": [
    {
     "name": "stdout",
     "output_type": "stream",
     "text": [
      "1.0\n",
      "1.0\n",
      "0.25\n",
      "0.25\n",
      "0.08163265306122448\n",
      "0.0001\n",
      "10000.0\n"
     ]
    }
   ],
   "source": [
    "# test\n",
    "vals = [1,-1,2,-2,3.5,100,0.01]\n",
    "\n",
    "for value in vals:\n",
    "    print(inv_squared(value))"
   ]
  },
  {
   "cell_type": "markdown",
   "metadata": {},
   "source": [
    "## Exponential"
   ]
  },
  {
   "cell_type": "markdown",
   "metadata": {},
   "source": [
    "<p>Write a function <b>exponential( x, a, b, f0 )</b> that returns the value of the function \\( f(x)=ae^{bx}+f_0 \\).</p>"
   ]
  },
  {
   "cell_type": "code",
   "execution_count": null,
   "metadata": {},
   "outputs": [],
   "source": [
    "# possible solution\n",
    "\n",
    "import numpy as np\n",
    "\n",
    "def exponential( x, a, b, f0 ):\n",
    "    return a*np.exp(b*x) + f0\n",
    "\n",
    "\n",
    "# Hint 1 if fails: Use exp()-function from numpy-module.\n",
    "# Hint 2 if fails: exp-function can be used like this:\n",
    "# import numpy as np\n",
    "# np.exp(...)\n",
    "# Hint 3 if fails:\n",
    "# import numpy as np\n",
    "# def exponential( x, a, b, f0 ):\n",
    "#     return ... * np.exp(...) + ..."
   ]
  },
  {
   "cell_type": "code",
   "execution_count": null,
   "metadata": {},
   "outputs": [],
   "source": [
    "# test1, x=-1, a=b=1, f0=0\n",
    "\n",
    "import numpy as np\n",
    "\n",
    "x = -1\n",
    "a = b = 1\n",
    "f0 = 0\n",
    "print(round(exponential(x,a,b,f0),2))\n",
    "# expected output:\n",
    "# 0.37\n",
    "\n",
    "# test2, x=b=1, a=0, f0=18\n",
    "print(exponential(1,0,1,18))\n",
    "# expected output:\n",
    "# 18.0\n",
    "\n",
    "# test3, x=3, a=18, b=-0.71, f0=-5.968\n",
    "x = 3\n",
    "a = 18\n",
    "b = -0.71\n",
    "f0  =-5.968\n",
    "print(round(exponential(x,a,b,f0),2))\n",
    "# expected output:\n",
    "# -3.83"
   ]
  },
  {
   "cell_type": "markdown",
   "metadata": {},
   "source": [
    "## Gaussian distribution"
   ]
  },
  {
   "cell_type": "markdown",
   "metadata": {},
   "source": [
    "Write a function **gaussian( x, sigma, mu, a, f0 )** that returns the value of gaussian distribution function $f(x)=\\frac{a}{\\sigma\\sqrt{2\\pi}}e^{-\\frac{1}{2}\\left(\\frac{x-\\mu}{\\sigma}\\right)^2}+f_0$."
   ]
  },
  {
   "cell_type": "code",
   "execution_count": 7,
   "metadata": {},
   "outputs": [
    {
     "data": {
      "text/plain": [
       "[<matplotlib.lines.Line2D at 0x7fdadb994850>]"
      ]
     },
     "execution_count": 7,
     "metadata": {},
     "output_type": "execute_result"
    },
    {
     "data": {
      "image/png": "[encoded data removed]",
      "text/plain": [
       "<Figure size 432x288 with 1 Axes>"
      ]
     },
     "metadata": {
      "needs_background": "light"
     },
     "output_type": "display_data"
    }
   ],
   "source": [
    "#possible solution\n",
    "\n",
    "import numpy as np\n",
    "import matplotlib.pyplot as plt\n",
    "\n",
    "def gaussian( x, sigma, mu, a, f0):\n",
    "    return a/(sigma*np.sqrt(2*np.pi))*np.exp(-0.5*((x-mu)/sigma)**2) + f0\n",
    "\n",
    "# Hint 1 if fails: Use exp()-function, sqrt()-function and value for pi from numpy-module.\n",
    "# Hint 2 if fails: exp, sqrt and pi can be used like this:\n",
    "# import numpy as np\n",
    "# np.exp(...)\n",
    "# np.sqrt(...)\n",
    "# np.pi\n",
    "# Hint 3 if fails:\n",
    "# import numpy as np\n",
    "# def gaussian( x, sigma, mu, a, f0 ):\n",
    "#     return A / (B * np.sqrt(...) * np.exp(...) + ...)\n",
    "# \n",
    "# Figure out what to put instead of A and B and write something to spots with ...\n"
   ]
  },
  {
   "cell_type": "code",
   "execution_count": 18,
   "metadata": {},
   "outputs": [
    {
     "name": "stdout",
     "output_type": "stream",
     "text": [
      "[0.0044, 0.1295, 0.3989, 0.1295, 0.0044]\n",
      "[0.0, 0.0032, 0.8921, 0.0032, 0.0]\n",
      "[0.0103, 0.4394, 0.2076, 0.0011, 0.0]\n",
      "[1.0089, 1.259, 1.7979, 1.259, 1.0089]\n"
     ]
    }
   ],
   "source": [
    "import numpy as np\n",
    "\n",
    "x = np.linspace(-3,3,5)\n",
    "\n",
    "# test 1: sigma = 1, mu = 0, a = 1, f0 = 0\n",
    "sigma = 1\n",
    "mu = 0\n",
    "a = 1\n",
    "f0 = 0\n",
    "print([round(val,4) for val in gaussian(x,sigma,mu,a,f0)])\n",
    "# expected output:\n",
    "# [0.0044, 0.1295, 0.3989, 0.1295, 0.0044]\n",
    "\n",
    "# test 2: sigma = np.sqrt(0.2), mu = 0, a = 1, f0 = 0\n",
    "sigma = np.sqrt(0.2)\n",
    "mu = 0\n",
    "a = 1\n",
    "f0 = 0\n",
    "print([round(val,4) for val in gaussian(x,sigma,mu,a,f0)])\n",
    "# expected output:\n",
    "# [0.0, 0.0032, 0.8921, 0.0032, 0.0]\n",
    "\n",
    "# test 3: sigma = np.sqrt(0.5), mu = -1, a = 1, f0 = 0\n",
    "sigma = np.sqrt(0.5)\n",
    "mu = -1\n",
    "a = 1\n",
    "f0 = 0\n",
    "print([round(val,4) for val in gaussian(x,sigma,mu,a,f0)])\n",
    "# expected output:\n",
    "# [0.0103, 0.4394, 0.2076, 0.0011, 0.0]\n",
    "\n",
    "# test 3: sigma = 1, mu = 0, a = 2, f0 = 1\n",
    "sigma = 1\n",
    "mu = 0\n",
    "a = 2\n",
    "f0 = 1\n",
    "print([round(val,4) for val in gaussian(x,sigma,mu,a,f0)])\n",
    "# expected output:\n",
    "# [1.0089, 1.259, 1.7979, 1.259, 1.0089]"
   ]
  }
 ],
 "metadata": {
  "kernelspec": {
   "display_name": "Python 3",
   "language": "python",
   "name": "python3"
  },
  "language_info": {
   "codemirror_mode": {
    "name": "ipython",
    "version": 3
   },
   "file_extension": ".py",
   "mimetype": "text/x-python",
   "name": "python",
   "nbconvert_exporter": "python",
   "pygments_lexer": "ipython3",
   "version": "3.7.5"
  }
 },
 "nbformat": 4,
 "nbformat_minor": 4
}

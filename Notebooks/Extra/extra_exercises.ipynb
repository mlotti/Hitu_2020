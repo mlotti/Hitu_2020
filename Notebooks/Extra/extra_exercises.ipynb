{
 "cells": [
  {
   "cell_type": "markdown",
   "metadata": {},
   "source": [
    "# Extra exercises"
   ]
  },
  {
   "cell_type": "markdown",
   "metadata": {},
   "source": [
    "This notebook contains extra exercises that can be used to replace or extend the current course notebooks.\n",
    "\n",
    "1. [Introductory Python exercises](#python)\n",
    "    1. [Exponential](#exp)\n",
    "    1. [Seconds to years](#s2y)\n",
    "    1. [Celsius to Fahrenheit](#c2f)\n",
    "    1. [Liters to gallons](#l2g)\n",
    "1. [Particle physics -related](#pp)\n",
    "    1. [CMS dimuon invariant mass graph reconstructed](#cms)"
   ]
  },
  {
   "cell_type": "markdown",
   "metadata": {},
   "source": [
    "<a id=\"python\"></a>\n",
    "## Introductory Python exercises"
   ]
  },
  {
   "cell_type": "markdown",
   "metadata": {},
   "source": [
    "<a id=\"exp\"></a>\n",
    "### Exponential"
   ]
  },
  {
   "cell_type": "markdown",
   "metadata": {},
   "source": [
    "<p>Write a function <b>exponential( x, a, b, f0 )</b> that returns the value of the function \\( f(x)=ae^{bx}+f_0 \\).</p>"
   ]
  },
  {
   "cell_type": "code",
   "execution_count": null,
   "metadata": {},
   "outputs": [],
   "source": []
  },
  {
   "cell_type": "code",
   "execution_count": 21,
   "metadata": {},
   "outputs": [],
   "source": [
    "# possible solution\n",
    "\n",
    "import numpy as np\n",
    "\n",
    "def exponential( x, a, b, f0 ):\n",
    "    return a*np.exp(b*x) + f0\n",
    "\n",
    "\n",
    "# Hint 1: Use exp()-function from numpy-module.\n",
    "# Hint 2: exp-function can be used like this:\n",
    "#             import numpy as np\n",
    "#             np.exp(...)\n",
    "# Hint 3: A possible solution would be (fill the spots with ...):\n",
    "#             import numpy as np\n",
    "#             def exponential( x, a, b, f0 ):\n",
    "#                 return ... * np.exp(...) + ..."
   ]
  },
  {
   "cell_type": "code",
   "execution_count": 22,
   "metadata": {},
   "outputs": [
    {
     "name": "stdout",
     "output_type": "stream",
     "text": [
      "0.37\n",
      "18.0\n",
      "-3.83\n"
     ]
    }
   ],
   "source": [
    "# Tests\n",
    "\n",
    "# Test1:\n",
    "# x=-1, a=b=1, f0=0\n",
    "x = -1\n",
    "a = b = 1\n",
    "f0 = 0\n",
    "print(round(exponential(x,a,b,f0),2))\n",
    "# expected output:\n",
    "# 0.37\n",
    "\n",
    "# Test2:\n",
    "# x=b=1, a=0, f0=18\n",
    "x = b = 1\n",
    "a = 0 \n",
    "f0 = 18\n",
    "print(exponential(x,a,b,f0))\n",
    "# expected output:\n",
    "# 18.0\n",
    "\n",
    "# Test3:\n",
    "# x=3, a=18, b=-0.71, f0=-5.968\n",
    "x = 3\n",
    "a = 18\n",
    "b = -0.71\n",
    "f0  =-5.968\n",
    "print(round(exponential(x,a,b,f0),2))\n",
    "# expected output:\n",
    "# -3.83"
   ]
  },
  {
   "cell_type": "markdown",
   "metadata": {},
   "source": [
    "<a id=\"s2y\"></a>\n",
    "### Seconds to years"
   ]
  },
  {
   "cell_type": "markdown",
   "metadata": {},
   "source": [
    "Write a function **secondsToYears(seconds)** that transforms seconds into years. Assume that a year has 365 days."
   ]
  },
  {
   "cell_type": "code",
   "execution_count": 23,
   "metadata": {},
   "outputs": [],
   "source": [
    "# possible solution\n",
    "\n",
    "def secondsToYears(seconds):\n",
    "    mins = seconds/60\n",
    "    hours = mins/60\n",
    "    days = hours/24\n",
    "    years = days/365\n",
    "    return years"
   ]
  },
  {
   "cell_type": "code",
   "execution_count": 24,
   "metadata": {},
   "outputs": [
    {
     "name": "stdout",
     "output_type": "stream",
     "text": [
      "1.0\n"
     ]
    }
   ],
   "source": [
    "print(round(secondsToYears(31536000),2))"
   ]
  },
  {
   "cell_type": "markdown",
   "metadata": {},
   "source": [
    "<a id=\"c2f\"></a>\n",
    "### Celsius to Fahrenheit"
   ]
  },
  {
   "cell_type": "markdown",
   "metadata": {},
   "source": [
    "Write a function **celsiusToFahrenheit(celsius)** that transforms temperature in degrees Celsius to Fahrenheit. To do the transformation, first multiply by 1.8 and then add 32."
   ]
  },
  {
   "cell_type": "code",
   "execution_count": 25,
   "metadata": {},
   "outputs": [],
   "source": [
    "def celsiusToFahrenheit(celsius):\n",
    "    return 1.8*celsius+32"
   ]
  },
  {
   "cell_type": "code",
   "execution_count": 26,
   "metadata": {},
   "outputs": [
    {
     "name": "stdout",
     "output_type": "stream",
     "text": [
      "59.0\n"
     ]
    }
   ],
   "source": [
    "print(round(celsiusToFahrenheit(15),2))"
   ]
  },
  {
   "cell_type": "markdown",
   "metadata": {},
   "source": [
    "<a id=\"l2g\"></a>\n",
    "### Liters to gallons"
   ]
  },
  {
   "cell_type": "markdown",
   "metadata": {},
   "source": [
    "Write a function **litersToGallons(liters)** that transforms the value in liters to value in gallons (US). Assume that one US gallon is equal to 3.785411784 liters."
   ]
  },
  {
   "cell_type": "code",
   "execution_count": 27,
   "metadata": {},
   "outputs": [],
   "source": [
    "def litersToGallons(liters):\n",
    "    return 1/3.785411784*liters"
   ]
  },
  {
   "cell_type": "code",
   "execution_count": 28,
   "metadata": {},
   "outputs": [
    {
     "name": "stdout",
     "output_type": "stream",
     "text": [
      "2.91\n"
     ]
    }
   ],
   "source": [
    "print(round(litersToGallons(11),2))"
   ]
  },
  {
   "cell_type": "markdown",
   "metadata": {},
   "source": [
    "<a id=\"pp\"></a>\n",
    "## Particle physics -related"
   ]
  },
  {
   "cell_type": "markdown",
   "metadata": {},
   "source": [
    "<a id=\"cms\"></a>\n",
    "### CMS dimuon invariant mass graph reconstructed"
   ]
  },
  {
   "cell_type": "markdown",
   "metadata": {},
   "source": [
    "Try to reconstruct the CMS dimuon graph (Figure 1) using dataset \"DoubleMuRun2011A.csv\". Hint: Make a histogram of lg(inv_mass). Then use the weights-attribute of plt.hist() to give appropriate weights to the bins. Also, use logarithmic scale for y-axis.\n",
    "\n",
    "<figure>\n",
    "    <img src=\"../images/CMShistogram.png\" alt=\"image missing\" style=\"height: 350px\" />\n",
    "    <figcaption>Figure 1: CMS dimuon histogram.</figcaption>\n",
    "</figure>"
   ]
  },
  {
   "cell_type": "code",
   "execution_count": 20,
   "metadata": {},
   "outputs": [
    {
     "data": {
      "image/png": "[encoded data removed]",
      "text/plain": [
       "<Figure size 864x576 with 1 Axes>"
      ]
     },
     "metadata": {
      "needs_background": "light"
     },
     "output_type": "display_data"
    }
   ],
   "source": [
    "# possible solution\n",
    "\n",
    "import matplotlib.pyplot as plt\n",
    "import pandas as pd\n",
    "import numpy as np\n",
    "\n",
    "# Read the data and the invariant mass \n",
    "ds = pd.read_csv('DoubleMuRun2011A.csv')\n",
    "M = ds.M\n",
    "M2 = np.log10(M)\n",
    "bins = int(max(M)) # to get number of events roughly per GeV\n",
    "plt.figure(figsize=(12,8))\n",
    "plt.hist(M2, bins=bins, log=True, weights = bins/M/np.log(10),histtype='step',color='k',linewidth=2)\n",
    "plt.xlim(np.log10(min(M)),np.log10(max(M)))\n",
    "plt.xlabel('Invariant mass (GeV)')\n",
    "plt.ylabel('Number of events / GeV')\n",
    "plt.grid()\n",
    "ticks = [0.3,0.4,0.5,0.6,0.7,0.8,0.9,1,2,3,4,5,6,7,8,9,10,20,30,40,50,60,70,80,90,100] # maybe not the optimal way but it works\n",
    "ticklabels = [\"\",\"\",\"\",\"\",\"\",\"\",\"\",1,\"\",\"\",\"\",\"\",\"\",\"\",\"\",\"\",10,\"\",\"\",\"\",\"\",\"\",\"\",\"\",\"\",100]\n",
    "plt.xticks(np.log10(ticks),ticklabels)\n",
    "plt.show()"
   ]
  }
 ],
 "metadata": {
  "kernelspec": {
   "display_name": "Python 3",
   "language": "python",
   "name": "python3"
  },
  "language_info": {
   "codemirror_mode": {
    "name": "ipython",
    "version": 3
   },
   "file_extension": ".py",
   "mimetype": "text/x-python",
   "name": "python",
   "nbconvert_exporter": "python",
   "pygments_lexer": "ipython3",
   "version": "3.8.2"
  }
 },
 "nbformat": 4,
 "nbformat_minor": 4
}
